{
  "cells": [
    {
      "cell_type": "markdown",
      "metadata": {
        "id": "FZCAObV12d4h"
      },
      "source": [
        "#Restaurants Recommendation System  "
      ]
    },
    {
      "cell_type": "code",
      "execution_count": null,
      "metadata": {
        "colab": {
          "background_save": true
        },
        "collapsed": true,
        "id": "9MugTzyw2d4n"
      },
      "outputs": [],
      "source": [
        "#importing packages\n",
        "import pandas as pd\n",
        "import numpy as np\n",
        "import matplotlib.pyplot as plt\n",
        "import seaborn as sns\n",
        "import scipy as stats\n",
        "%matplotlib inline"
      ]
    },
    {
      "cell_type": "code",
      "execution_count": null,
      "metadata": {
        "colab": {
          "base_uri": "https://localhost:8080/"
        },
        "id": "t6vP6iaw2pvG",
        "outputId": "8c7334b6-f9b5-4ce0-b855-59d032ae96cd"
      },
      "outputs": [
        {
          "name": "stdout",
          "output_type": "stream",
          "text": [
            "Mounted at /content/drive\n"
          ]
        }
      ],
      "source": [
        "from google.colab import drive\n",
        "drive.mount('/content/drive')"
      ]
    },
    {
      "cell_type": "code",
      "execution_count": null,
      "metadata": {
        "collapsed": true,
        "id": "FK5jdafN2d4x"
      },
      "outputs": [],
      "source": [
        "#Reading the csv files from all three category\n",
        "#Restaurants\n",
        "chefmozaccepts_df=pd.read_csv('/content/drive/MyDrive/Colab Notebooks/FDS data/project/chefmozaccepts.csv')\n",
        "chefmozcuisine_df=pd.read_csv('/content/drive/MyDrive/Colab Notebooks/FDS data/project/chefmozcuisine.csv')\n",
        "chefmozhours4_df=pd.read_csv('/content/drive/MyDrive/Colab Notebooks/FDS data/project/chefmozhours4.csv')\n",
        "chefmozparking_df=pd.read_csv('/content/drive/MyDrive/Colab Notebooks/FDS data/project/chefmozparking.csv')\n",
        "geoplaces2_df=pd.read_csv('/content/drive/MyDrive/Colab Notebooks/FDS data/project/geoplaces2.csv',encoding='latin-1')\n",
        "#User-Item-Rating\n",
        "rating_final_df=pd.read_csv('/content/drive/MyDrive/Colab Notebooks/FDS data/project/rating_final.csv')\n",
        "#Consumers \n",
        "usercuisine_df=pd.read_csv('/content/drive/MyDrive/Colab Notebooks/FDS data/project/usercuisine.csv')\n",
        "userpayment_df=pd.read_csv('/content/drive/MyDrive/Colab Notebooks/FDS data/project/userpayment.csv')\n",
        "userprofile_df=pd.read_csv('/content/drive/MyDrive/Colab Notebooks/FDS data/project/userprofile.csv')"
      ]
    },
    {
      "cell_type": "markdown",
      "metadata": {
        "id": "ayvILW-K2d4y"
      },
      "source": [
        "### Explore the Restaurent files\n",
        "#### chefmozaccepts.csv dataset"
      ]
    },
    {
      "cell_type": "code",
      "execution_count": null,
      "metadata": {
        "colab": {
          "base_uri": "https://localhost:8080/",
          "height": 204
        },
        "id": "uRe6GRlp2d42",
        "outputId": "ae469cfe-178a-42c1-ec9a-6518d6ad8a9f"
      },
      "outputs": [
        {
          "data": {
            "text/html": [
              "\n",
              "  <div id=\"df-ed768a5a-fe67-4ae2-9a8c-bffa6c824a53\">\n",
              "    <div class=\"colab-df-container\">\n",
              "      <div>\n",
              "<style scoped>\n",
              "    .dataframe tbody tr th:only-of-type {\n",
              "        vertical-align: middle;\n",
              "    }\n",
              "\n",
              "    .dataframe tbody tr th {\n",
              "        vertical-align: top;\n",
              "    }\n",
              "\n",
              "    .dataframe thead th {\n",
              "        text-align: right;\n",
              "    }\n",
              "</style>\n",
              "<table border=\"1\" class=\"dataframe\">\n",
              "  <thead>\n",
              "    <tr style=\"text-align: right;\">\n",
              "      <th></th>\n",
              "      <th>placeID</th>\n",
              "      <th>Rpayment</th>\n",
              "    </tr>\n",
              "  </thead>\n",
              "  <tbody>\n",
              "    <tr>\n",
              "      <th>0</th>\n",
              "      <td>135110</td>\n",
              "      <td>cash</td>\n",
              "    </tr>\n",
              "    <tr>\n",
              "      <th>1</th>\n",
              "      <td>135110</td>\n",
              "      <td>VISA</td>\n",
              "    </tr>\n",
              "    <tr>\n",
              "      <th>2</th>\n",
              "      <td>135110</td>\n",
              "      <td>MasterCard-Eurocard</td>\n",
              "    </tr>\n",
              "    <tr>\n",
              "      <th>3</th>\n",
              "      <td>135110</td>\n",
              "      <td>American_Express</td>\n",
              "    </tr>\n",
              "    <tr>\n",
              "      <th>4</th>\n",
              "      <td>135110</td>\n",
              "      <td>bank_debit_cards</td>\n",
              "    </tr>\n",
              "  </tbody>\n",
              "</table>\n",
              "</div>\n",
              "      <button class=\"colab-df-convert\" onclick=\"convertToInteractive('df-ed768a5a-fe67-4ae2-9a8c-bffa6c824a53')\"\n",
              "              title=\"Convert this dataframe to an interactive table.\"\n",
              "              style=\"display:none;\">\n",
              "        \n",
              "  <svg xmlns=\"http://www.w3.org/2000/svg\" height=\"24px\"viewBox=\"0 0 24 24\"\n",
              "       width=\"24px\">\n",
              "    <path d=\"M0 0h24v24H0V0z\" fill=\"none\"/>\n",
              "    <path d=\"M18.56 5.44l.94 2.06.94-2.06 2.06-.94-2.06-.94-.94-2.06-.94 2.06-2.06.94zm-11 1L8.5 8.5l.94-2.06 2.06-.94-2.06-.94L8.5 2.5l-.94 2.06-2.06.94zm10 10l.94 2.06.94-2.06 2.06-.94-2.06-.94-.94-2.06-.94 2.06-2.06.94z\"/><path d=\"M17.41 7.96l-1.37-1.37c-.4-.4-.92-.59-1.43-.59-.52 0-1.04.2-1.43.59L10.3 9.45l-7.72 7.72c-.78.78-.78 2.05 0 2.83L4 21.41c.39.39.9.59 1.41.59.51 0 1.02-.2 1.41-.59l7.78-7.78 2.81-2.81c.8-.78.8-2.07 0-2.86zM5.41 20L4 18.59l7.72-7.72 1.47 1.35L5.41 20z\"/>\n",
              "  </svg>\n",
              "      </button>\n",
              "      \n",
              "  <style>\n",
              "    .colab-df-container {\n",
              "      display:flex;\n",
              "      flex-wrap:wrap;\n",
              "      gap: 12px;\n",
              "    }\n",
              "\n",
              "    .colab-df-convert {\n",
              "      background-color: #E8F0FE;\n",
              "      border: none;\n",
              "      border-radius: 50%;\n",
              "      cursor: pointer;\n",
              "      display: none;\n",
              "      fill: #1967D2;\n",
              "      height: 32px;\n",
              "      padding: 0 0 0 0;\n",
              "      width: 32px;\n",
              "    }\n",
              "\n",
              "    .colab-df-convert:hover {\n",
              "      background-color: #E2EBFA;\n",
              "      box-shadow: 0px 1px 2px rgba(60, 64, 67, 0.3), 0px 1px 3px 1px rgba(60, 64, 67, 0.15);\n",
              "      fill: #174EA6;\n",
              "    }\n",
              "\n",
              "    [theme=dark] .colab-df-convert {\n",
              "      background-color: #3B4455;\n",
              "      fill: #D2E3FC;\n",
              "    }\n",
              "\n",
              "    [theme=dark] .colab-df-convert:hover {\n",
              "      background-color: #434B5C;\n",
              "      box-shadow: 0px 1px 3px 1px rgba(0, 0, 0, 0.15);\n",
              "      filter: drop-shadow(0px 1px 2px rgba(0, 0, 0, 0.3));\n",
              "      fill: #FFFFFF;\n",
              "    }\n",
              "  </style>\n",
              "\n",
              "      <script>\n",
              "        const buttonEl =\n",
              "          document.querySelector('#df-ed768a5a-fe67-4ae2-9a8c-bffa6c824a53 button.colab-df-convert');\n",
              "        buttonEl.style.display =\n",
              "          google.colab.kernel.accessAllowed ? 'block' : 'none';\n",
              "\n",
              "        async function convertToInteractive(key) {\n",
              "          const element = document.querySelector('#df-ed768a5a-fe67-4ae2-9a8c-bffa6c824a53');\n",
              "          const dataTable =\n",
              "            await google.colab.kernel.invokeFunction('convertToInteractive',\n",
              "                                                     [key], {});\n",
              "          if (!dataTable) return;\n",
              "\n",
              "          const docLinkHtml = 'Like what you see? Visit the ' +\n",
              "            '<a target=\"_blank\" href=https://colab.research.google.com/notebooks/data_table.ipynb>data table notebook</a>'\n",
              "            + ' to learn more about interactive tables.';\n",
              "          element.innerHTML = '';\n",
              "          dataTable['output_type'] = 'display_data';\n",
              "          await google.colab.output.renderOutput(dataTable, element);\n",
              "          const docLink = document.createElement('div');\n",
              "          docLink.innerHTML = docLinkHtml;\n",
              "          element.appendChild(docLink);\n",
              "        }\n",
              "      </script>\n",
              "    </div>\n",
              "  </div>\n",
              "  "
            ],
            "text/plain": [
              "   placeID             Rpayment\n",
              "0   135110                 cash\n",
              "1   135110                 VISA\n",
              "2   135110  MasterCard-Eurocard\n",
              "3   135110     American_Express\n",
              "4   135110     bank_debit_cards"
            ]
          },
          "execution_count": 4,
          "metadata": {},
          "output_type": "execute_result"
        }
      ],
      "source": [
        "#Getting first five rows\n",
        "chefmozaccepts_df.head()"
      ]
    },
    {
      "cell_type": "markdown",
      "metadata": {
        "id": "Q1Slz8WPPsm8"
      },
      "source": [
        "There are 2 columns in the dataset, Restaurant ID and "
      ]
    },
    {
      "cell_type": "code",
      "execution_count": null,
      "metadata": {
        "colab": {
          "base_uri": "https://localhost:8080/"
        },
        "id": "fZbn1R3d2d40",
        "outputId": "82c8b3e1-d176-4ed4-9428-94cda05d0c41"
      },
      "outputs": [
        {
          "data": {
            "text/plain": [
              "(1314, 2)"
            ]
          },
          "execution_count": 5,
          "metadata": {},
          "output_type": "execute_result"
        }
      ],
      "source": [
        "#Getting information of shape \n",
        "chefmozaccepts_df.shape"
      ]
    },
    {
      "cell_type": "markdown",
      "metadata": {
        "id": "r22ainxXWQgx"
      },
      "source": [
        "Total 1314 rows"
      ]
    },
    {
      "cell_type": "code",
      "execution_count": null,
      "metadata": {
        "colab": {
          "base_uri": "https://localhost:8080/"
        },
        "id": "S-QdbkxW2d41",
        "outputId": "2a6e1b17-5d09-432d-a49c-ce6011abdc52"
      },
      "outputs": [
        {
          "data": {
            "text/plain": [
              "placeID     0\n",
              "Rpayment    0\n",
              "dtype: int64"
            ]
          },
          "execution_count": 6,
          "metadata": {},
          "output_type": "execute_result"
        }
      ],
      "source": [
        "#checking for null value\n",
        "chefmozaccepts_df.isnull().sum()"
      ]
    },
    {
      "cell_type": "code",
      "execution_count": null,
      "metadata": {
        "colab": {
          "base_uri": "https://localhost:8080/"
        },
        "id": "W5S-g6En2d41",
        "outputId": "51288361-8a36-4755-abc8-7ab3015d85e8"
      },
      "outputs": [
        {
          "data": {
            "text/plain": [
              "placeID      int64\n",
              "Rpayment    object\n",
              "dtype: object"
            ]
          },
          "execution_count": 7,
          "metadata": {},
          "output_type": "execute_result"
        }
      ],
      "source": [
        "#Getting dtypes of this columns\n",
        "chefmozaccepts_df.dtypes"
      ]
    },
    {
      "cell_type": "code",
      "execution_count": null,
      "metadata": {
        "colab": {
          "base_uri": "https://localhost:8080/"
        },
        "id": "XHu0hJtY2d42",
        "outputId": "f9c7a697-a1af-44c7-fcfb-9542396eac74"
      },
      "outputs": [
        {
          "data": {
            "text/plain": [
              "count     1314\n",
              "unique      12\n",
              "top       cash\n",
              "freq       500\n",
              "Name: Rpayment, dtype: object"
            ]
          },
          "execution_count": 8,
          "metadata": {},
          "output_type": "execute_result"
        }
      ],
      "source": [
        "#Describe the dataset\n",
        "chefmozaccepts_df['Rpayment'].describe()"
      ]
    },
    {
      "cell_type": "markdown",
      "metadata": {
        "id": "TSNuVFvjWfIg"
      },
      "source": [
        "Most of the restaurants(500) accepts ony cash payments"
      ]
    },
    {
      "cell_type": "markdown",
      "metadata": {
        "id": "vO86h1iO2d42"
      },
      "source": [
        "#### chefmozcuisine.csv dataset"
      ]
    },
    {
      "cell_type": "code",
      "execution_count": null,
      "metadata": {
        "colab": {
          "base_uri": "https://localhost:8080/",
          "height": 204
        },
        "id": "EjHjproQ2d45",
        "outputId": "dac5d07e-52b3-4093-bd41-839477fe1dcb"
      },
      "outputs": [
        {
          "data": {
            "text/html": [
              "\n",
              "  <div id=\"df-15858d71-00dd-4c3d-ac38-597311cce9dc\">\n",
              "    <div class=\"colab-df-container\">\n",
              "      <div>\n",
              "<style scoped>\n",
              "    .dataframe tbody tr th:only-of-type {\n",
              "        vertical-align: middle;\n",
              "    }\n",
              "\n",
              "    .dataframe tbody tr th {\n",
              "        vertical-align: top;\n",
              "    }\n",
              "\n",
              "    .dataframe thead th {\n",
              "        text-align: right;\n",
              "    }\n",
              "</style>\n",
              "<table border=\"1\" class=\"dataframe\">\n",
              "  <thead>\n",
              "    <tr style=\"text-align: right;\">\n",
              "      <th></th>\n",
              "      <th>placeID</th>\n",
              "      <th>Rcuisine</th>\n",
              "    </tr>\n",
              "  </thead>\n",
              "  <tbody>\n",
              "    <tr>\n",
              "      <th>0</th>\n",
              "      <td>135110</td>\n",
              "      <td>Spanish</td>\n",
              "    </tr>\n",
              "    <tr>\n",
              "      <th>1</th>\n",
              "      <td>135109</td>\n",
              "      <td>Italian</td>\n",
              "    </tr>\n",
              "    <tr>\n",
              "      <th>2</th>\n",
              "      <td>135107</td>\n",
              "      <td>Latin_American</td>\n",
              "    </tr>\n",
              "    <tr>\n",
              "      <th>3</th>\n",
              "      <td>135106</td>\n",
              "      <td>Mexican</td>\n",
              "    </tr>\n",
              "    <tr>\n",
              "      <th>4</th>\n",
              "      <td>135105</td>\n",
              "      <td>Fast_Food</td>\n",
              "    </tr>\n",
              "  </tbody>\n",
              "</table>\n",
              "</div>\n",
              "      <button class=\"colab-df-convert\" onclick=\"convertToInteractive('df-15858d71-00dd-4c3d-ac38-597311cce9dc')\"\n",
              "              title=\"Convert this dataframe to an interactive table.\"\n",
              "              style=\"display:none;\">\n",
              "        \n",
              "  <svg xmlns=\"http://www.w3.org/2000/svg\" height=\"24px\"viewBox=\"0 0 24 24\"\n",
              "       width=\"24px\">\n",
              "    <path d=\"M0 0h24v24H0V0z\" fill=\"none\"/>\n",
              "    <path d=\"M18.56 5.44l.94 2.06.94-2.06 2.06-.94-2.06-.94-.94-2.06-.94 2.06-2.06.94zm-11 1L8.5 8.5l.94-2.06 2.06-.94-2.06-.94L8.5 2.5l-.94 2.06-2.06.94zm10 10l.94 2.06.94-2.06 2.06-.94-2.06-.94-.94-2.06-.94 2.06-2.06.94z\"/><path d=\"M17.41 7.96l-1.37-1.37c-.4-.4-.92-.59-1.43-.59-.52 0-1.04.2-1.43.59L10.3 9.45l-7.72 7.72c-.78.78-.78 2.05 0 2.83L4 21.41c.39.39.9.59 1.41.59.51 0 1.02-.2 1.41-.59l7.78-7.78 2.81-2.81c.8-.78.8-2.07 0-2.86zM5.41 20L4 18.59l7.72-7.72 1.47 1.35L5.41 20z\"/>\n",
              "  </svg>\n",
              "      </button>\n",
              "      \n",
              "  <style>\n",
              "    .colab-df-container {\n",
              "      display:flex;\n",
              "      flex-wrap:wrap;\n",
              "      gap: 12px;\n",
              "    }\n",
              "\n",
              "    .colab-df-convert {\n",
              "      background-color: #E8F0FE;\n",
              "      border: none;\n",
              "      border-radius: 50%;\n",
              "      cursor: pointer;\n",
              "      display: none;\n",
              "      fill: #1967D2;\n",
              "      height: 32px;\n",
              "      padding: 0 0 0 0;\n",
              "      width: 32px;\n",
              "    }\n",
              "\n",
              "    .colab-df-convert:hover {\n",
              "      background-color: #E2EBFA;\n",
              "      box-shadow: 0px 1px 2px rgba(60, 64, 67, 0.3), 0px 1px 3px 1px rgba(60, 64, 67, 0.15);\n",
              "      fill: #174EA6;\n",
              "    }\n",
              "\n",
              "    [theme=dark] .colab-df-convert {\n",
              "      background-color: #3B4455;\n",
              "      fill: #D2E3FC;\n",
              "    }\n",
              "\n",
              "    [theme=dark] .colab-df-convert:hover {\n",
              "      background-color: #434B5C;\n",
              "      box-shadow: 0px 1px 3px 1px rgba(0, 0, 0, 0.15);\n",
              "      filter: drop-shadow(0px 1px 2px rgba(0, 0, 0, 0.3));\n",
              "      fill: #FFFFFF;\n",
              "    }\n",
              "  </style>\n",
              "\n",
              "      <script>\n",
              "        const buttonEl =\n",
              "          document.querySelector('#df-15858d71-00dd-4c3d-ac38-597311cce9dc button.colab-df-convert');\n",
              "        buttonEl.style.display =\n",
              "          google.colab.kernel.accessAllowed ? 'block' : 'none';\n",
              "\n",
              "        async function convertToInteractive(key) {\n",
              "          const element = document.querySelector('#df-15858d71-00dd-4c3d-ac38-597311cce9dc');\n",
              "          const dataTable =\n",
              "            await google.colab.kernel.invokeFunction('convertToInteractive',\n",
              "                                                     [key], {});\n",
              "          if (!dataTable) return;\n",
              "\n",
              "          const docLinkHtml = 'Like what you see? Visit the ' +\n",
              "            '<a target=\"_blank\" href=https://colab.research.google.com/notebooks/data_table.ipynb>data table notebook</a>'\n",
              "            + ' to learn more about interactive tables.';\n",
              "          element.innerHTML = '';\n",
              "          dataTable['output_type'] = 'display_data';\n",
              "          await google.colab.output.renderOutput(dataTable, element);\n",
              "          const docLink = document.createElement('div');\n",
              "          docLink.innerHTML = docLinkHtml;\n",
              "          element.appendChild(docLink);\n",
              "        }\n",
              "      </script>\n",
              "    </div>\n",
              "  </div>\n",
              "  "
            ],
            "text/plain": [
              "   placeID        Rcuisine\n",
              "0   135110         Spanish\n",
              "1   135109         Italian\n",
              "2   135107  Latin_American\n",
              "3   135106         Mexican\n",
              "4   135105       Fast_Food"
            ]
          },
          "execution_count": 9,
          "metadata": {},
          "output_type": "execute_result"
        }
      ],
      "source": [
        "#Getting top five rows of dataset\n",
        "chefmozcuisine_df.head()"
      ]
    },
    {
      "cell_type": "code",
      "execution_count": null,
      "metadata": {
        "colab": {
          "base_uri": "https://localhost:8080/"
        },
        "id": "Ck4NFzlJ2d43",
        "outputId": "18677fe7-eda4-4b86-abfc-92d839e731f0"
      },
      "outputs": [
        {
          "data": {
            "text/plain": [
              "(916, 2)"
            ]
          },
          "execution_count": 10,
          "metadata": {},
          "output_type": "execute_result"
        }
      ],
      "source": [
        "#Getting information of shape and size\n",
        "chefmozcuisine_df.shape"
      ]
    },
    {
      "cell_type": "markdown",
      "metadata": {
        "id": "gakJF1W8XLg9"
      },
      "source": [
        "total 916 rows of data"
      ]
    },
    {
      "cell_type": "code",
      "execution_count": null,
      "metadata": {
        "colab": {
          "base_uri": "https://localhost:8080/"
        },
        "id": "MWtK45re2d44",
        "outputId": "512cfd25-a41f-4d98-b4f8-d6a1a8b90812"
      },
      "outputs": [
        {
          "data": {
            "text/plain": [
              "count         916\n",
              "unique         59\n",
              "top       Mexican\n",
              "freq          239\n",
              "Name: Rcuisine, dtype: object"
            ]
          },
          "execution_count": 11,
          "metadata": {},
          "output_type": "execute_result"
        }
      ],
      "source": [
        "#Describe the dataset\n",
        "chefmozcuisine_df['Rcuisine'].describe()"
      ]
    },
    {
      "cell_type": "markdown",
      "metadata": {
        "id": "ACx8MgCXXW1s"
      },
      "source": [
        "Most of the restaurants(239) serve mexican dishes"
      ]
    },
    {
      "cell_type": "code",
      "execution_count": null,
      "metadata": {
        "colab": {
          "base_uri": "https://localhost:8080/"
        },
        "id": "e32KfPCv2d45",
        "outputId": "f00fe6e2-1638-4649-9c33-0fbf0e84ecf5"
      },
      "outputs": [
        {
          "data": {
            "text/plain": [
              "placeID     0\n",
              "Rcuisine    0\n",
              "dtype: int64"
            ]
          },
          "execution_count": 12,
          "metadata": {},
          "output_type": "execute_result"
        }
      ],
      "source": [
        "#Checking for null value\n",
        "chefmozcuisine_df.isnull().sum()"
      ]
    },
    {
      "cell_type": "markdown",
      "metadata": {
        "id": "KlmLyR9-XhDF"
      },
      "source": [
        "No null values in data"
      ]
    },
    {
      "cell_type": "markdown",
      "metadata": {
        "id": "2Qxy9A3z2d46"
      },
      "source": [
        "#### chefmozhours4.csv dataset"
      ]
    },
    {
      "cell_type": "code",
      "execution_count": null,
      "metadata": {
        "colab": {
          "base_uri": "https://localhost:8080/"
        },
        "id": "DMiyf8Hw2d47",
        "outputId": "daf5bd8e-70e1-43b3-dff8-0a9442ed8f8f"
      },
      "outputs": [
        {
          "data": {
            "text/plain": [
              "(2339, 3)"
            ]
          },
          "execution_count": 13,
          "metadata": {},
          "output_type": "execute_result"
        }
      ],
      "source": [
        "#Getting shape \n",
        "chefmozhours4_df.shape"
      ]
    },
    {
      "cell_type": "code",
      "execution_count": null,
      "metadata": {
        "colab": {
          "base_uri": "https://localhost:8080/",
          "height": 204
        },
        "id": "sXkBaTWPY1d2",
        "outputId": "9439369c-31ac-4da7-cb15-24f756498fe8"
      },
      "outputs": [
        {
          "data": {
            "text/html": [
              "\n",
              "  <div id=\"df-fcc84b7e-7740-473e-89cb-b09b1962807e\">\n",
              "    <div class=\"colab-df-container\">\n",
              "      <div>\n",
              "<style scoped>\n",
              "    .dataframe tbody tr th:only-of-type {\n",
              "        vertical-align: middle;\n",
              "    }\n",
              "\n",
              "    .dataframe tbody tr th {\n",
              "        vertical-align: top;\n",
              "    }\n",
              "\n",
              "    .dataframe thead th {\n",
              "        text-align: right;\n",
              "    }\n",
              "</style>\n",
              "<table border=\"1\" class=\"dataframe\">\n",
              "  <thead>\n",
              "    <tr style=\"text-align: right;\">\n",
              "      <th></th>\n",
              "      <th>placeID</th>\n",
              "      <th>hours</th>\n",
              "      <th>days</th>\n",
              "    </tr>\n",
              "  </thead>\n",
              "  <tbody>\n",
              "    <tr>\n",
              "      <th>0</th>\n",
              "      <td>135111</td>\n",
              "      <td>00:00-23:30;</td>\n",
              "      <td>Mon;Tue;Wed;Thu;Fri;</td>\n",
              "    </tr>\n",
              "    <tr>\n",
              "      <th>1</th>\n",
              "      <td>135111</td>\n",
              "      <td>00:00-23:30;</td>\n",
              "      <td>Sat;</td>\n",
              "    </tr>\n",
              "    <tr>\n",
              "      <th>2</th>\n",
              "      <td>135111</td>\n",
              "      <td>00:00-23:30;</td>\n",
              "      <td>Sun;</td>\n",
              "    </tr>\n",
              "    <tr>\n",
              "      <th>3</th>\n",
              "      <td>135110</td>\n",
              "      <td>08:00-19:00;</td>\n",
              "      <td>Mon;Tue;Wed;Thu;Fri;</td>\n",
              "    </tr>\n",
              "    <tr>\n",
              "      <th>4</th>\n",
              "      <td>135110</td>\n",
              "      <td>00:00-00:00;</td>\n",
              "      <td>Sat;</td>\n",
              "    </tr>\n",
              "  </tbody>\n",
              "</table>\n",
              "</div>\n",
              "      <button class=\"colab-df-convert\" onclick=\"convertToInteractive('df-fcc84b7e-7740-473e-89cb-b09b1962807e')\"\n",
              "              title=\"Convert this dataframe to an interactive table.\"\n",
              "              style=\"display:none;\">\n",
              "        \n",
              "  <svg xmlns=\"http://www.w3.org/2000/svg\" height=\"24px\"viewBox=\"0 0 24 24\"\n",
              "       width=\"24px\">\n",
              "    <path d=\"M0 0h24v24H0V0z\" fill=\"none\"/>\n",
              "    <path d=\"M18.56 5.44l.94 2.06.94-2.06 2.06-.94-2.06-.94-.94-2.06-.94 2.06-2.06.94zm-11 1L8.5 8.5l.94-2.06 2.06-.94-2.06-.94L8.5 2.5l-.94 2.06-2.06.94zm10 10l.94 2.06.94-2.06 2.06-.94-2.06-.94-.94-2.06-.94 2.06-2.06.94z\"/><path d=\"M17.41 7.96l-1.37-1.37c-.4-.4-.92-.59-1.43-.59-.52 0-1.04.2-1.43.59L10.3 9.45l-7.72 7.72c-.78.78-.78 2.05 0 2.83L4 21.41c.39.39.9.59 1.41.59.51 0 1.02-.2 1.41-.59l7.78-7.78 2.81-2.81c.8-.78.8-2.07 0-2.86zM5.41 20L4 18.59l7.72-7.72 1.47 1.35L5.41 20z\"/>\n",
              "  </svg>\n",
              "      </button>\n",
              "      \n",
              "  <style>\n",
              "    .colab-df-container {\n",
              "      display:flex;\n",
              "      flex-wrap:wrap;\n",
              "      gap: 12px;\n",
              "    }\n",
              "\n",
              "    .colab-df-convert {\n",
              "      background-color: #E8F0FE;\n",
              "      border: none;\n",
              "      border-radius: 50%;\n",
              "      cursor: pointer;\n",
              "      display: none;\n",
              "      fill: #1967D2;\n",
              "      height: 32px;\n",
              "      padding: 0 0 0 0;\n",
              "      width: 32px;\n",
              "    }\n",
              "\n",
              "    .colab-df-convert:hover {\n",
              "      background-color: #E2EBFA;\n",
              "      box-shadow: 0px 1px 2px rgba(60, 64, 67, 0.3), 0px 1px 3px 1px rgba(60, 64, 67, 0.15);\n",
              "      fill: #174EA6;\n",
              "    }\n",
              "\n",
              "    [theme=dark] .colab-df-convert {\n",
              "      background-color: #3B4455;\n",
              "      fill: #D2E3FC;\n",
              "    }\n",
              "\n",
              "    [theme=dark] .colab-df-convert:hover {\n",
              "      background-color: #434B5C;\n",
              "      box-shadow: 0px 1px 3px 1px rgba(0, 0, 0, 0.15);\n",
              "      filter: drop-shadow(0px 1px 2px rgba(0, 0, 0, 0.3));\n",
              "      fill: #FFFFFF;\n",
              "    }\n",
              "  </style>\n",
              "\n",
              "      <script>\n",
              "        const buttonEl =\n",
              "          document.querySelector('#df-fcc84b7e-7740-473e-89cb-b09b1962807e button.colab-df-convert');\n",
              "        buttonEl.style.display =\n",
              "          google.colab.kernel.accessAllowed ? 'block' : 'none';\n",
              "\n",
              "        async function convertToInteractive(key) {\n",
              "          const element = document.querySelector('#df-fcc84b7e-7740-473e-89cb-b09b1962807e');\n",
              "          const dataTable =\n",
              "            await google.colab.kernel.invokeFunction('convertToInteractive',\n",
              "                                                     [key], {});\n",
              "          if (!dataTable) return;\n",
              "\n",
              "          const docLinkHtml = 'Like what you see? Visit the ' +\n",
              "            '<a target=\"_blank\" href=https://colab.research.google.com/notebooks/data_table.ipynb>data table notebook</a>'\n",
              "            + ' to learn more about interactive tables.';\n",
              "          element.innerHTML = '';\n",
              "          dataTable['output_type'] = 'display_data';\n",
              "          await google.colab.output.renderOutput(dataTable, element);\n",
              "          const docLink = document.createElement('div');\n",
              "          docLink.innerHTML = docLinkHtml;\n",
              "          element.appendChild(docLink);\n",
              "        }\n",
              "      </script>\n",
              "    </div>\n",
              "  </div>\n",
              "  "
            ],
            "text/plain": [
              "   placeID         hours                  days\n",
              "0   135111  00:00-23:30;  Mon;Tue;Wed;Thu;Fri;\n",
              "1   135111  00:00-23:30;                  Sat;\n",
              "2   135111  00:00-23:30;                  Sun;\n",
              "3   135110  08:00-19:00;  Mon;Tue;Wed;Thu;Fri;\n",
              "4   135110  00:00-00:00;                  Sat;"
            ]
          },
          "execution_count": 14,
          "metadata": {},
          "output_type": "execute_result"
        }
      ],
      "source": [
        "chefmozhours4_df.head()"
      ]
    },
    {
      "cell_type": "code",
      "execution_count": null,
      "metadata": {
        "colab": {
          "base_uri": "https://localhost:8080/"
        },
        "id": "FzXdbWe02d47",
        "outputId": "10ebe1df-9c30-44c3-c833-435f590e5958"
      },
      "outputs": [
        {
          "data": {
            "text/plain": [
              "count                     2339\n",
              "unique                       3\n",
              "top       Mon;Tue;Wed;Thu;Fri;\n",
              "freq                       793\n",
              "Name: days, dtype: object"
            ]
          },
          "execution_count": 15,
          "metadata": {},
          "output_type": "execute_result"
        }
      ],
      "source": [
        "#Describe the dataset\n",
        "chefmozhours4_df['days'].describe()"
      ]
    },
    {
      "cell_type": "code",
      "execution_count": null,
      "metadata": {
        "colab": {
          "base_uri": "https://localhost:8080/"
        },
        "id": "yDl2juAU2d48",
        "outputId": "f7ae9120-ff46-4180-ab10-f1f966755b0f"
      },
      "outputs": [
        {
          "data": {
            "text/plain": [
              "placeID    0\n",
              "hours      0\n",
              "days       0\n",
              "dtype: int64"
            ]
          },
          "execution_count": 16,
          "metadata": {},
          "output_type": "execute_result"
        }
      ],
      "source": [
        "#checking for null value\n",
        "chefmozhours4_df.isnull().sum()"
      ]
    },
    {
      "cell_type": "markdown",
      "metadata": {
        "id": "N0NB420U2d49"
      },
      "source": [
        "#### chefmozparking.csv dataset"
      ]
    },
    {
      "cell_type": "code",
      "execution_count": null,
      "metadata": {
        "colab": {
          "base_uri": "https://localhost:8080/",
          "height": 204
        },
        "id": "4baAx_at2d5F",
        "outputId": "1e794d7a-4fcc-4c54-aa35-9a3d326f516b"
      },
      "outputs": [
        {
          "data": {
            "text/html": [
              "\n",
              "  <div id=\"df-b9d1407e-4883-467d-9f51-d7ad6f3c805a\">\n",
              "    <div class=\"colab-df-container\">\n",
              "      <div>\n",
              "<style scoped>\n",
              "    .dataframe tbody tr th:only-of-type {\n",
              "        vertical-align: middle;\n",
              "    }\n",
              "\n",
              "    .dataframe tbody tr th {\n",
              "        vertical-align: top;\n",
              "    }\n",
              "\n",
              "    .dataframe thead th {\n",
              "        text-align: right;\n",
              "    }\n",
              "</style>\n",
              "<table border=\"1\" class=\"dataframe\">\n",
              "  <thead>\n",
              "    <tr style=\"text-align: right;\">\n",
              "      <th></th>\n",
              "      <th>placeID</th>\n",
              "      <th>parking_lot</th>\n",
              "    </tr>\n",
              "  </thead>\n",
              "  <tbody>\n",
              "    <tr>\n",
              "      <th>0</th>\n",
              "      <td>135111</td>\n",
              "      <td>public</td>\n",
              "    </tr>\n",
              "    <tr>\n",
              "      <th>1</th>\n",
              "      <td>135110</td>\n",
              "      <td>none</td>\n",
              "    </tr>\n",
              "    <tr>\n",
              "      <th>2</th>\n",
              "      <td>135109</td>\n",
              "      <td>none</td>\n",
              "    </tr>\n",
              "    <tr>\n",
              "      <th>3</th>\n",
              "      <td>135108</td>\n",
              "      <td>none</td>\n",
              "    </tr>\n",
              "    <tr>\n",
              "      <th>4</th>\n",
              "      <td>135107</td>\n",
              "      <td>none</td>\n",
              "    </tr>\n",
              "  </tbody>\n",
              "</table>\n",
              "</div>\n",
              "      <button class=\"colab-df-convert\" onclick=\"convertToInteractive('df-b9d1407e-4883-467d-9f51-d7ad6f3c805a')\"\n",
              "              title=\"Convert this dataframe to an interactive table.\"\n",
              "              style=\"display:none;\">\n",
              "        \n",
              "  <svg xmlns=\"http://www.w3.org/2000/svg\" height=\"24px\"viewBox=\"0 0 24 24\"\n",
              "       width=\"24px\">\n",
              "    <path d=\"M0 0h24v24H0V0z\" fill=\"none\"/>\n",
              "    <path d=\"M18.56 5.44l.94 2.06.94-2.06 2.06-.94-2.06-.94-.94-2.06-.94 2.06-2.06.94zm-11 1L8.5 8.5l.94-2.06 2.06-.94-2.06-.94L8.5 2.5l-.94 2.06-2.06.94zm10 10l.94 2.06.94-2.06 2.06-.94-2.06-.94-.94-2.06-.94 2.06-2.06.94z\"/><path d=\"M17.41 7.96l-1.37-1.37c-.4-.4-.92-.59-1.43-.59-.52 0-1.04.2-1.43.59L10.3 9.45l-7.72 7.72c-.78.78-.78 2.05 0 2.83L4 21.41c.39.39.9.59 1.41.59.51 0 1.02-.2 1.41-.59l7.78-7.78 2.81-2.81c.8-.78.8-2.07 0-2.86zM5.41 20L4 18.59l7.72-7.72 1.47 1.35L5.41 20z\"/>\n",
              "  </svg>\n",
              "      </button>\n",
              "      \n",
              "  <style>\n",
              "    .colab-df-container {\n",
              "      display:flex;\n",
              "      flex-wrap:wrap;\n",
              "      gap: 12px;\n",
              "    }\n",
              "\n",
              "    .colab-df-convert {\n",
              "      background-color: #E8F0FE;\n",
              "      border: none;\n",
              "      border-radius: 50%;\n",
              "      cursor: pointer;\n",
              "      display: none;\n",
              "      fill: #1967D2;\n",
              "      height: 32px;\n",
              "      padding: 0 0 0 0;\n",
              "      width: 32px;\n",
              "    }\n",
              "\n",
              "    .colab-df-convert:hover {\n",
              "      background-color: #E2EBFA;\n",
              "      box-shadow: 0px 1px 2px rgba(60, 64, 67, 0.3), 0px 1px 3px 1px rgba(60, 64, 67, 0.15);\n",
              "      fill: #174EA6;\n",
              "    }\n",
              "\n",
              "    [theme=dark] .colab-df-convert {\n",
              "      background-color: #3B4455;\n",
              "      fill: #D2E3FC;\n",
              "    }\n",
              "\n",
              "    [theme=dark] .colab-df-convert:hover {\n",
              "      background-color: #434B5C;\n",
              "      box-shadow: 0px 1px 3px 1px rgba(0, 0, 0, 0.15);\n",
              "      filter: drop-shadow(0px 1px 2px rgba(0, 0, 0, 0.3));\n",
              "      fill: #FFFFFF;\n",
              "    }\n",
              "  </style>\n",
              "\n",
              "      <script>\n",
              "        const buttonEl =\n",
              "          document.querySelector('#df-b9d1407e-4883-467d-9f51-d7ad6f3c805a button.colab-df-convert');\n",
              "        buttonEl.style.display =\n",
              "          google.colab.kernel.accessAllowed ? 'block' : 'none';\n",
              "\n",
              "        async function convertToInteractive(key) {\n",
              "          const element = document.querySelector('#df-b9d1407e-4883-467d-9f51-d7ad6f3c805a');\n",
              "          const dataTable =\n",
              "            await google.colab.kernel.invokeFunction('convertToInteractive',\n",
              "                                                     [key], {});\n",
              "          if (!dataTable) return;\n",
              "\n",
              "          const docLinkHtml = 'Like what you see? Visit the ' +\n",
              "            '<a target=\"_blank\" href=https://colab.research.google.com/notebooks/data_table.ipynb>data table notebook</a>'\n",
              "            + ' to learn more about interactive tables.';\n",
              "          element.innerHTML = '';\n",
              "          dataTable['output_type'] = 'display_data';\n",
              "          await google.colab.output.renderOutput(dataTable, element);\n",
              "          const docLink = document.createElement('div');\n",
              "          docLink.innerHTML = docLinkHtml;\n",
              "          element.appendChild(docLink);\n",
              "        }\n",
              "      </script>\n",
              "    </div>\n",
              "  </div>\n",
              "  "
            ],
            "text/plain": [
              "   placeID parking_lot\n",
              "0   135111      public\n",
              "1   135110        none\n",
              "2   135109        none\n",
              "3   135108        none\n",
              "4   135107        none"
            ]
          },
          "execution_count": 17,
          "metadata": {},
          "output_type": "execute_result"
        }
      ],
      "source": [
        "#Getting first five rows\n",
        "chefmozparking_df.head()"
      ]
    },
    {
      "cell_type": "code",
      "execution_count": null,
      "metadata": {
        "colab": {
          "base_uri": "https://localhost:8080/"
        },
        "id": "ZVxm6KVi2d4-",
        "outputId": "660f0437-c3cf-4e70-dcbb-8d5d61d1b08b"
      },
      "outputs": [
        {
          "data": {
            "text/plain": [
              "(702, 2)"
            ]
          },
          "execution_count": 18,
          "metadata": {},
          "output_type": "execute_result"
        }
      ],
      "source": [
        "#Getting information of shape \n",
        "chefmozparking_df.shape"
      ]
    },
    {
      "cell_type": "code",
      "execution_count": null,
      "metadata": {
        "colab": {
          "base_uri": "https://localhost:8080/"
        },
        "id": "1Kqje2wy2d5E",
        "outputId": "cdf557ee-f23f-49a1-c096-d4773faf4af9"
      },
      "outputs": [
        {
          "data": {
            "text/plain": [
              "count      702\n",
              "unique       7\n",
              "top       none\n",
              "freq       348\n",
              "Name: parking_lot, dtype: object"
            ]
          },
          "execution_count": 19,
          "metadata": {},
          "output_type": "execute_result"
        }
      ],
      "source": [
        "#Describe the dataset\n",
        "chefmozparking_df['parking_lot'].describe()"
      ]
    },
    {
      "cell_type": "markdown",
      "metadata": {
        "id": "x4wHV1KmIAz-"
      },
      "source": [
        "most of the restaurants(348) does not have a dedicated parking space for the customers."
      ]
    },
    {
      "cell_type": "markdown",
      "metadata": {
        "id": "2MoZXshA2d5F"
      },
      "source": [
        "#### geoplaces2.csv dataset"
      ]
    },
    {
      "cell_type": "code",
      "execution_count": null,
      "metadata": {
        "colab": {
          "base_uri": "https://localhost:8080/",
          "height": 467
        },
        "id": "cyH3Q3b62d5G",
        "outputId": "bb47b6e7-8e64-410d-dba1-3e151b2da58c"
      },
      "outputs": [
        {
          "data": {
            "text/html": [
              "\n",
              "  <div id=\"df-448fd362-9675-40f2-a60d-b4a7a8c3c9e1\">\n",
              "    <div class=\"colab-df-container\">\n",
              "      <div>\n",
              "<style scoped>\n",
              "    .dataframe tbody tr th:only-of-type {\n",
              "        vertical-align: middle;\n",
              "    }\n",
              "\n",
              "    .dataframe tbody tr th {\n",
              "        vertical-align: top;\n",
              "    }\n",
              "\n",
              "    .dataframe thead th {\n",
              "        text-align: right;\n",
              "    }\n",
              "</style>\n",
              "<table border=\"1\" class=\"dataframe\">\n",
              "  <thead>\n",
              "    <tr style=\"text-align: right;\">\n",
              "      <th></th>\n",
              "      <th>placeID</th>\n",
              "      <th>latitude</th>\n",
              "      <th>longitude</th>\n",
              "      <th>the_geom_meter</th>\n",
              "      <th>name</th>\n",
              "      <th>address</th>\n",
              "      <th>city</th>\n",
              "      <th>state</th>\n",
              "      <th>country</th>\n",
              "      <th>fax</th>\n",
              "      <th>...</th>\n",
              "      <th>alcohol</th>\n",
              "      <th>smoking_area</th>\n",
              "      <th>dress_code</th>\n",
              "      <th>accessibility</th>\n",
              "      <th>price</th>\n",
              "      <th>url</th>\n",
              "      <th>Rambience</th>\n",
              "      <th>franchise</th>\n",
              "      <th>area</th>\n",
              "      <th>other_services</th>\n",
              "    </tr>\n",
              "  </thead>\n",
              "  <tbody>\n",
              "    <tr>\n",
              "      <th>0</th>\n",
              "      <td>134999</td>\n",
              "      <td>18.915421</td>\n",
              "      <td>-99.184871</td>\n",
              "      <td>0101000020957F000088568DE356715AC138C0A525FC46...</td>\n",
              "      <td>Kiku Cuernavaca</td>\n",
              "      <td>Revolucion</td>\n",
              "      <td>Cuernavaca</td>\n",
              "      <td>Morelos</td>\n",
              "      <td>Mexico</td>\n",
              "      <td>?</td>\n",
              "      <td>...</td>\n",
              "      <td>No_Alcohol_Served</td>\n",
              "      <td>none</td>\n",
              "      <td>informal</td>\n",
              "      <td>no_accessibility</td>\n",
              "      <td>medium</td>\n",
              "      <td>kikucuernavaca.com.mx</td>\n",
              "      <td>familiar</td>\n",
              "      <td>f</td>\n",
              "      <td>closed</td>\n",
              "      <td>none</td>\n",
              "    </tr>\n",
              "    <tr>\n",
              "      <th>1</th>\n",
              "      <td>132825</td>\n",
              "      <td>22.147392</td>\n",
              "      <td>-100.983092</td>\n",
              "      <td>0101000020957F00001AD016568C4858C1243261274BA5...</td>\n",
              "      <td>puesto de tacos</td>\n",
              "      <td>esquina santos degollado y leon guzman</td>\n",
              "      <td>s.l.p.</td>\n",
              "      <td>s.l.p.</td>\n",
              "      <td>mexico</td>\n",
              "      <td>?</td>\n",
              "      <td>...</td>\n",
              "      <td>No_Alcohol_Served</td>\n",
              "      <td>none</td>\n",
              "      <td>informal</td>\n",
              "      <td>completely</td>\n",
              "      <td>low</td>\n",
              "      <td>?</td>\n",
              "      <td>familiar</td>\n",
              "      <td>f</td>\n",
              "      <td>open</td>\n",
              "      <td>none</td>\n",
              "    </tr>\n",
              "    <tr>\n",
              "      <th>2</th>\n",
              "      <td>135106</td>\n",
              "      <td>22.149709</td>\n",
              "      <td>-100.976093</td>\n",
              "      <td>0101000020957F0000649D6F21634858C119AE9BF528A3...</td>\n",
              "      <td>El Rincón de San Francisco</td>\n",
              "      <td>Universidad 169</td>\n",
              "      <td>San Luis Potosi</td>\n",
              "      <td>San Luis Potosi</td>\n",
              "      <td>Mexico</td>\n",
              "      <td>?</td>\n",
              "      <td>...</td>\n",
              "      <td>Wine-Beer</td>\n",
              "      <td>only at bar</td>\n",
              "      <td>informal</td>\n",
              "      <td>partially</td>\n",
              "      <td>medium</td>\n",
              "      <td>?</td>\n",
              "      <td>familiar</td>\n",
              "      <td>f</td>\n",
              "      <td>open</td>\n",
              "      <td>none</td>\n",
              "    </tr>\n",
              "    <tr>\n",
              "      <th>3</th>\n",
              "      <td>132667</td>\n",
              "      <td>23.752697</td>\n",
              "      <td>-99.163359</td>\n",
              "      <td>0101000020957F00005D67BCDDED8157C1222A2DC8D84D...</td>\n",
              "      <td>little pizza Emilio Portes Gil</td>\n",
              "      <td>calle emilio portes gil</td>\n",
              "      <td>victoria</td>\n",
              "      <td>tamaulipas</td>\n",
              "      <td>?</td>\n",
              "      <td>?</td>\n",
              "      <td>...</td>\n",
              "      <td>No_Alcohol_Served</td>\n",
              "      <td>none</td>\n",
              "      <td>informal</td>\n",
              "      <td>completely</td>\n",
              "      <td>low</td>\n",
              "      <td>?</td>\n",
              "      <td>familiar</td>\n",
              "      <td>t</td>\n",
              "      <td>closed</td>\n",
              "      <td>none</td>\n",
              "    </tr>\n",
              "    <tr>\n",
              "      <th>4</th>\n",
              "      <td>132613</td>\n",
              "      <td>23.752903</td>\n",
              "      <td>-99.165076</td>\n",
              "      <td>0101000020957F00008EBA2D06DC8157C194E03B7B504E...</td>\n",
              "      <td>carnitas_mata</td>\n",
              "      <td>lic. Emilio portes gil</td>\n",
              "      <td>victoria</td>\n",
              "      <td>Tamaulipas</td>\n",
              "      <td>Mexico</td>\n",
              "      <td>?</td>\n",
              "      <td>...</td>\n",
              "      <td>No_Alcohol_Served</td>\n",
              "      <td>permitted</td>\n",
              "      <td>informal</td>\n",
              "      <td>completely</td>\n",
              "      <td>medium</td>\n",
              "      <td>?</td>\n",
              "      <td>familiar</td>\n",
              "      <td>t</td>\n",
              "      <td>closed</td>\n",
              "      <td>none</td>\n",
              "    </tr>\n",
              "  </tbody>\n",
              "</table>\n",
              "<p>5 rows × 21 columns</p>\n",
              "</div>\n",
              "      <button class=\"colab-df-convert\" onclick=\"convertToInteractive('df-448fd362-9675-40f2-a60d-b4a7a8c3c9e1')\"\n",
              "              title=\"Convert this dataframe to an interactive table.\"\n",
              "              style=\"display:none;\">\n",
              "        \n",
              "  <svg xmlns=\"http://www.w3.org/2000/svg\" height=\"24px\"viewBox=\"0 0 24 24\"\n",
              "       width=\"24px\">\n",
              "    <path d=\"M0 0h24v24H0V0z\" fill=\"none\"/>\n",
              "    <path d=\"M18.56 5.44l.94 2.06.94-2.06 2.06-.94-2.06-.94-.94-2.06-.94 2.06-2.06.94zm-11 1L8.5 8.5l.94-2.06 2.06-.94-2.06-.94L8.5 2.5l-.94 2.06-2.06.94zm10 10l.94 2.06.94-2.06 2.06-.94-2.06-.94-.94-2.06-.94 2.06-2.06.94z\"/><path d=\"M17.41 7.96l-1.37-1.37c-.4-.4-.92-.59-1.43-.59-.52 0-1.04.2-1.43.59L10.3 9.45l-7.72 7.72c-.78.78-.78 2.05 0 2.83L4 21.41c.39.39.9.59 1.41.59.51 0 1.02-.2 1.41-.59l7.78-7.78 2.81-2.81c.8-.78.8-2.07 0-2.86zM5.41 20L4 18.59l7.72-7.72 1.47 1.35L5.41 20z\"/>\n",
              "  </svg>\n",
              "      </button>\n",
              "      \n",
              "  <style>\n",
              "    .colab-df-container {\n",
              "      display:flex;\n",
              "      flex-wrap:wrap;\n",
              "      gap: 12px;\n",
              "    }\n",
              "\n",
              "    .colab-df-convert {\n",
              "      background-color: #E8F0FE;\n",
              "      border: none;\n",
              "      border-radius: 50%;\n",
              "      cursor: pointer;\n",
              "      display: none;\n",
              "      fill: #1967D2;\n",
              "      height: 32px;\n",
              "      padding: 0 0 0 0;\n",
              "      width: 32px;\n",
              "    }\n",
              "\n",
              "    .colab-df-convert:hover {\n",
              "      background-color: #E2EBFA;\n",
              "      box-shadow: 0px 1px 2px rgba(60, 64, 67, 0.3), 0px 1px 3px 1px rgba(60, 64, 67, 0.15);\n",
              "      fill: #174EA6;\n",
              "    }\n",
              "\n",
              "    [theme=dark] .colab-df-convert {\n",
              "      background-color: #3B4455;\n",
              "      fill: #D2E3FC;\n",
              "    }\n",
              "\n",
              "    [theme=dark] .colab-df-convert:hover {\n",
              "      background-color: #434B5C;\n",
              "      box-shadow: 0px 1px 3px 1px rgba(0, 0, 0, 0.15);\n",
              "      filter: drop-shadow(0px 1px 2px rgba(0, 0, 0, 0.3));\n",
              "      fill: #FFFFFF;\n",
              "    }\n",
              "  </style>\n",
              "\n",
              "      <script>\n",
              "        const buttonEl =\n",
              "          document.querySelector('#df-448fd362-9675-40f2-a60d-b4a7a8c3c9e1 button.colab-df-convert');\n",
              "        buttonEl.style.display =\n",
              "          google.colab.kernel.accessAllowed ? 'block' : 'none';\n",
              "\n",
              "        async function convertToInteractive(key) {\n",
              "          const element = document.querySelector('#df-448fd362-9675-40f2-a60d-b4a7a8c3c9e1');\n",
              "          const dataTable =\n",
              "            await google.colab.kernel.invokeFunction('convertToInteractive',\n",
              "                                                     [key], {});\n",
              "          if (!dataTable) return;\n",
              "\n",
              "          const docLinkHtml = 'Like what you see? Visit the ' +\n",
              "            '<a target=\"_blank\" href=https://colab.research.google.com/notebooks/data_table.ipynb>data table notebook</a>'\n",
              "            + ' to learn more about interactive tables.';\n",
              "          element.innerHTML = '';\n",
              "          dataTable['output_type'] = 'display_data';\n",
              "          await google.colab.output.renderOutput(dataTable, element);\n",
              "          const docLink = document.createElement('div');\n",
              "          docLink.innerHTML = docLinkHtml;\n",
              "          element.appendChild(docLink);\n",
              "        }\n",
              "      </script>\n",
              "    </div>\n",
              "  </div>\n",
              "  "
            ],
            "text/plain": [
              "   placeID   latitude   longitude  \\\n",
              "0   134999  18.915421  -99.184871   \n",
              "1   132825  22.147392 -100.983092   \n",
              "2   135106  22.149709 -100.976093   \n",
              "3   132667  23.752697  -99.163359   \n",
              "4   132613  23.752903  -99.165076   \n",
              "\n",
              "                                      the_geom_meter  \\\n",
              "0  0101000020957F000088568DE356715AC138C0A525FC46...   \n",
              "1  0101000020957F00001AD016568C4858C1243261274BA5...   \n",
              "2  0101000020957F0000649D6F21634858C119AE9BF528A3...   \n",
              "3  0101000020957F00005D67BCDDED8157C1222A2DC8D84D...   \n",
              "4  0101000020957F00008EBA2D06DC8157C194E03B7B504E...   \n",
              "\n",
              "                             name                                 address  \\\n",
              "0                 Kiku Cuernavaca                              Revolucion   \n",
              "1                 puesto de tacos  esquina santos degollado y leon guzman   \n",
              "2      El Rincón de San Francisco                         Universidad 169   \n",
              "3  little pizza Emilio Portes Gil                 calle emilio portes gil   \n",
              "4                   carnitas_mata                  lic. Emilio portes gil   \n",
              "\n",
              "              city            state country fax  ...            alcohol  \\\n",
              "0       Cuernavaca          Morelos  Mexico   ?  ...  No_Alcohol_Served   \n",
              "1           s.l.p.           s.l.p.  mexico   ?  ...  No_Alcohol_Served   \n",
              "2  San Luis Potosi  San Luis Potosi  Mexico   ?  ...          Wine-Beer   \n",
              "3        victoria        tamaulipas       ?   ?  ...  No_Alcohol_Served   \n",
              "4         victoria       Tamaulipas  Mexico   ?  ...  No_Alcohol_Served   \n",
              "\n",
              "  smoking_area dress_code     accessibility   price                    url  \\\n",
              "0         none   informal  no_accessibility  medium  kikucuernavaca.com.mx   \n",
              "1         none   informal        completely     low                      ?   \n",
              "2  only at bar   informal         partially  medium                      ?   \n",
              "3         none   informal        completely     low                      ?   \n",
              "4    permitted   informal        completely  medium                      ?   \n",
              "\n",
              "  Rambience franchise    area other_services  \n",
              "0  familiar         f  closed           none  \n",
              "1  familiar         f    open           none  \n",
              "2  familiar         f    open           none  \n",
              "3  familiar         t  closed           none  \n",
              "4  familiar         t  closed           none  \n",
              "\n",
              "[5 rows x 21 columns]"
            ]
          },
          "execution_count": 20,
          "metadata": {},
          "output_type": "execute_result"
        }
      ],
      "source": [
        "#Getting Top five rows\n",
        "geoplaces2_df.head()"
      ]
    },
    {
      "cell_type": "code",
      "execution_count": null,
      "metadata": {
        "colab": {
          "base_uri": "https://localhost:8080/"
        },
        "id": "lg_pjko32d5G",
        "outputId": "5e2ac5b1-14aa-481a-b383-dc7593ef44b4"
      },
      "outputs": [
        {
          "data": {
            "text/plain": [
              "placeID           0\n",
              "latitude          0\n",
              "longitude         0\n",
              "the_geom_meter    0\n",
              "name              0\n",
              "address           0\n",
              "city              0\n",
              "state             0\n",
              "country           0\n",
              "fax               0\n",
              "zip               0\n",
              "alcohol           0\n",
              "smoking_area      0\n",
              "dress_code        0\n",
              "accessibility     0\n",
              "price             0\n",
              "url               0\n",
              "Rambience         0\n",
              "franchise         0\n",
              "area              0\n",
              "other_services    0\n",
              "dtype: int64"
            ]
          },
          "execution_count": 21,
          "metadata": {},
          "output_type": "execute_result"
        }
      ],
      "source": [
        "#Check for null value\n",
        "geoplaces2_df.isnull().sum()"
      ]
    },
    {
      "cell_type": "markdown",
      "metadata": {
        "id": "OK95tb9_N5HJ"
      },
      "source": [
        "No null values in the data, but on observing we found that there were ? instead of null values."
      ]
    },
    {
      "cell_type": "code",
      "execution_count": null,
      "metadata": {
        "colab": {
          "base_uri": "https://localhost:8080/"
        },
        "id": "aO4tpCpF2d5G",
        "outputId": "07be68c6-eed4-4bba-a9f2-d6914dfa5c3f"
      },
      "outputs": [
        {
          "data": {
            "text/plain": [
              "(130, 21)"
            ]
          },
          "execution_count": 22,
          "metadata": {},
          "output_type": "execute_result"
        }
      ],
      "source": [
        "#Getting information of shape\n",
        "geoplaces2_df.shape"
      ]
    },
    {
      "cell_type": "code",
      "execution_count": null,
      "metadata": {
        "colab": {
          "base_uri": "https://localhost:8080/"
        },
        "id": "4vvHyKZq2d5H",
        "outputId": "881e9afe-63d9-49c6-deab-7cebc312e8a1"
      },
      "outputs": [
        {
          "name": "stdout",
          "output_type": "stream",
          "text": [
            "the_geom_meter 0\n",
            "name 0\n",
            "address 27\n",
            "city 18\n",
            "state 18\n",
            "country 28\n",
            "fax 130\n",
            "zip 74\n",
            "alcohol 0\n",
            "smoking_area 0\n",
            "dress_code 0\n",
            "accessibility 0\n",
            "price 0\n",
            "url 116\n",
            "Rambience 0\n",
            "franchise 0\n",
            "area 0\n",
            "other_services 0\n"
          ]
        }
      ],
      "source": [
        "#Print the column name with total number of unknown value ('\\?')\n",
        "#str.contains(' \\?') -String into it contains unknown values\n",
        "for col in geoplaces2_df.columns:\n",
        "    if geoplaces2_df[col].dtype == object:         \n",
        "            print(col, (geoplaces2_df[col].str.contains('\\?') == True).sum()) "
      ]
    },
    {
      "cell_type": "code",
      "execution_count": null,
      "metadata": {
        "collapsed": true,
        "id": "so7Mgkl22d5H"
      },
      "outputs": [],
      "source": [
        "#Taking unknown value ' ?' column as another parameter\n",
        "columns_with_na_vals= ['address','city','state','country','fax','zip','url']"
      ]
    },
    {
      "cell_type": "code",
      "execution_count": null,
      "metadata": {
        "collapsed": true,
        "id": "IrXlRojY2d5H"
      },
      "outputs": [],
      "source": [
        "#Replace the '\\?' value with nan to all columns\n",
        "for col in columns_with_na_vals:\n",
        "    geoplaces2_df[col] = (geoplaces2_df[col].replace({'?': np.NaN})) "
      ]
    },
    {
      "cell_type": "code",
      "execution_count": null,
      "metadata": {
        "colab": {
          "base_uri": "https://localhost:8080/",
          "height": 467
        },
        "id": "wwLDHDhY2d5I",
        "outputId": "8b62c07d-6523-4b2a-e213-b68e0b1c8fc5"
      },
      "outputs": [
        {
          "data": {
            "text/html": [
              "\n",
              "  <div id=\"df-5b84094e-585d-4728-952e-26accab62212\">\n",
              "    <div class=\"colab-df-container\">\n",
              "      <div>\n",
              "<style scoped>\n",
              "    .dataframe tbody tr th:only-of-type {\n",
              "        vertical-align: middle;\n",
              "    }\n",
              "\n",
              "    .dataframe tbody tr th {\n",
              "        vertical-align: top;\n",
              "    }\n",
              "\n",
              "    .dataframe thead th {\n",
              "        text-align: right;\n",
              "    }\n",
              "</style>\n",
              "<table border=\"1\" class=\"dataframe\">\n",
              "  <thead>\n",
              "    <tr style=\"text-align: right;\">\n",
              "      <th></th>\n",
              "      <th>placeID</th>\n",
              "      <th>latitude</th>\n",
              "      <th>longitude</th>\n",
              "      <th>the_geom_meter</th>\n",
              "      <th>name</th>\n",
              "      <th>address</th>\n",
              "      <th>city</th>\n",
              "      <th>state</th>\n",
              "      <th>country</th>\n",
              "      <th>fax</th>\n",
              "      <th>...</th>\n",
              "      <th>alcohol</th>\n",
              "      <th>smoking_area</th>\n",
              "      <th>dress_code</th>\n",
              "      <th>accessibility</th>\n",
              "      <th>price</th>\n",
              "      <th>url</th>\n",
              "      <th>Rambience</th>\n",
              "      <th>franchise</th>\n",
              "      <th>area</th>\n",
              "      <th>other_services</th>\n",
              "    </tr>\n",
              "  </thead>\n",
              "  <tbody>\n",
              "    <tr>\n",
              "      <th>0</th>\n",
              "      <td>134999</td>\n",
              "      <td>18.915421</td>\n",
              "      <td>-99.184871</td>\n",
              "      <td>0101000020957F000088568DE356715AC138C0A525FC46...</td>\n",
              "      <td>Kiku Cuernavaca</td>\n",
              "      <td>Revolucion</td>\n",
              "      <td>Cuernavaca</td>\n",
              "      <td>Morelos</td>\n",
              "      <td>Mexico</td>\n",
              "      <td>NaN</td>\n",
              "      <td>...</td>\n",
              "      <td>No_Alcohol_Served</td>\n",
              "      <td>none</td>\n",
              "      <td>informal</td>\n",
              "      <td>no_accessibility</td>\n",
              "      <td>medium</td>\n",
              "      <td>kikucuernavaca.com.mx</td>\n",
              "      <td>familiar</td>\n",
              "      <td>f</td>\n",
              "      <td>closed</td>\n",
              "      <td>none</td>\n",
              "    </tr>\n",
              "    <tr>\n",
              "      <th>1</th>\n",
              "      <td>132825</td>\n",
              "      <td>22.147392</td>\n",
              "      <td>-100.983092</td>\n",
              "      <td>0101000020957F00001AD016568C4858C1243261274BA5...</td>\n",
              "      <td>puesto de tacos</td>\n",
              "      <td>esquina santos degollado y leon guzman</td>\n",
              "      <td>s.l.p.</td>\n",
              "      <td>s.l.p.</td>\n",
              "      <td>mexico</td>\n",
              "      <td>NaN</td>\n",
              "      <td>...</td>\n",
              "      <td>No_Alcohol_Served</td>\n",
              "      <td>none</td>\n",
              "      <td>informal</td>\n",
              "      <td>completely</td>\n",
              "      <td>low</td>\n",
              "      <td>NaN</td>\n",
              "      <td>familiar</td>\n",
              "      <td>f</td>\n",
              "      <td>open</td>\n",
              "      <td>none</td>\n",
              "    </tr>\n",
              "    <tr>\n",
              "      <th>2</th>\n",
              "      <td>135106</td>\n",
              "      <td>22.149709</td>\n",
              "      <td>-100.976093</td>\n",
              "      <td>0101000020957F0000649D6F21634858C119AE9BF528A3...</td>\n",
              "      <td>El Rincón de San Francisco</td>\n",
              "      <td>Universidad 169</td>\n",
              "      <td>San Luis Potosi</td>\n",
              "      <td>San Luis Potosi</td>\n",
              "      <td>Mexico</td>\n",
              "      <td>NaN</td>\n",
              "      <td>...</td>\n",
              "      <td>Wine-Beer</td>\n",
              "      <td>only at bar</td>\n",
              "      <td>informal</td>\n",
              "      <td>partially</td>\n",
              "      <td>medium</td>\n",
              "      <td>NaN</td>\n",
              "      <td>familiar</td>\n",
              "      <td>f</td>\n",
              "      <td>open</td>\n",
              "      <td>none</td>\n",
              "    </tr>\n",
              "    <tr>\n",
              "      <th>3</th>\n",
              "      <td>132667</td>\n",
              "      <td>23.752697</td>\n",
              "      <td>-99.163359</td>\n",
              "      <td>0101000020957F00005D67BCDDED8157C1222A2DC8D84D...</td>\n",
              "      <td>little pizza Emilio Portes Gil</td>\n",
              "      <td>calle emilio portes gil</td>\n",
              "      <td>victoria</td>\n",
              "      <td>tamaulipas</td>\n",
              "      <td>NaN</td>\n",
              "      <td>NaN</td>\n",
              "      <td>...</td>\n",
              "      <td>No_Alcohol_Served</td>\n",
              "      <td>none</td>\n",
              "      <td>informal</td>\n",
              "      <td>completely</td>\n",
              "      <td>low</td>\n",
              "      <td>NaN</td>\n",
              "      <td>familiar</td>\n",
              "      <td>t</td>\n",
              "      <td>closed</td>\n",
              "      <td>none</td>\n",
              "    </tr>\n",
              "    <tr>\n",
              "      <th>4</th>\n",
              "      <td>132613</td>\n",
              "      <td>23.752903</td>\n",
              "      <td>-99.165076</td>\n",
              "      <td>0101000020957F00008EBA2D06DC8157C194E03B7B504E...</td>\n",
              "      <td>carnitas_mata</td>\n",
              "      <td>lic. Emilio portes gil</td>\n",
              "      <td>victoria</td>\n",
              "      <td>Tamaulipas</td>\n",
              "      <td>Mexico</td>\n",
              "      <td>NaN</td>\n",
              "      <td>...</td>\n",
              "      <td>No_Alcohol_Served</td>\n",
              "      <td>permitted</td>\n",
              "      <td>informal</td>\n",
              "      <td>completely</td>\n",
              "      <td>medium</td>\n",
              "      <td>NaN</td>\n",
              "      <td>familiar</td>\n",
              "      <td>t</td>\n",
              "      <td>closed</td>\n",
              "      <td>none</td>\n",
              "    </tr>\n",
              "  </tbody>\n",
              "</table>\n",
              "<p>5 rows × 21 columns</p>\n",
              "</div>\n",
              "      <button class=\"colab-df-convert\" onclick=\"convertToInteractive('df-5b84094e-585d-4728-952e-26accab62212')\"\n",
              "              title=\"Convert this dataframe to an interactive table.\"\n",
              "              style=\"display:none;\">\n",
              "        \n",
              "  <svg xmlns=\"http://www.w3.org/2000/svg\" height=\"24px\"viewBox=\"0 0 24 24\"\n",
              "       width=\"24px\">\n",
              "    <path d=\"M0 0h24v24H0V0z\" fill=\"none\"/>\n",
              "    <path d=\"M18.56 5.44l.94 2.06.94-2.06 2.06-.94-2.06-.94-.94-2.06-.94 2.06-2.06.94zm-11 1L8.5 8.5l.94-2.06 2.06-.94-2.06-.94L8.5 2.5l-.94 2.06-2.06.94zm10 10l.94 2.06.94-2.06 2.06-.94-2.06-.94-.94-2.06-.94 2.06-2.06.94z\"/><path d=\"M17.41 7.96l-1.37-1.37c-.4-.4-.92-.59-1.43-.59-.52 0-1.04.2-1.43.59L10.3 9.45l-7.72 7.72c-.78.78-.78 2.05 0 2.83L4 21.41c.39.39.9.59 1.41.59.51 0 1.02-.2 1.41-.59l7.78-7.78 2.81-2.81c.8-.78.8-2.07 0-2.86zM5.41 20L4 18.59l7.72-7.72 1.47 1.35L5.41 20z\"/>\n",
              "  </svg>\n",
              "      </button>\n",
              "      \n",
              "  <style>\n",
              "    .colab-df-container {\n",
              "      display:flex;\n",
              "      flex-wrap:wrap;\n",
              "      gap: 12px;\n",
              "    }\n",
              "\n",
              "    .colab-df-convert {\n",
              "      background-color: #E8F0FE;\n",
              "      border: none;\n",
              "      border-radius: 50%;\n",
              "      cursor: pointer;\n",
              "      display: none;\n",
              "      fill: #1967D2;\n",
              "      height: 32px;\n",
              "      padding: 0 0 0 0;\n",
              "      width: 32px;\n",
              "    }\n",
              "\n",
              "    .colab-df-convert:hover {\n",
              "      background-color: #E2EBFA;\n",
              "      box-shadow: 0px 1px 2px rgba(60, 64, 67, 0.3), 0px 1px 3px 1px rgba(60, 64, 67, 0.15);\n",
              "      fill: #174EA6;\n",
              "    }\n",
              "\n",
              "    [theme=dark] .colab-df-convert {\n",
              "      background-color: #3B4455;\n",
              "      fill: #D2E3FC;\n",
              "    }\n",
              "\n",
              "    [theme=dark] .colab-df-convert:hover {\n",
              "      background-color: #434B5C;\n",
              "      box-shadow: 0px 1px 3px 1px rgba(0, 0, 0, 0.15);\n",
              "      filter: drop-shadow(0px 1px 2px rgba(0, 0, 0, 0.3));\n",
              "      fill: #FFFFFF;\n",
              "    }\n",
              "  </style>\n",
              "\n",
              "      <script>\n",
              "        const buttonEl =\n",
              "          document.querySelector('#df-5b84094e-585d-4728-952e-26accab62212 button.colab-df-convert');\n",
              "        buttonEl.style.display =\n",
              "          google.colab.kernel.accessAllowed ? 'block' : 'none';\n",
              "\n",
              "        async function convertToInteractive(key) {\n",
              "          const element = document.querySelector('#df-5b84094e-585d-4728-952e-26accab62212');\n",
              "          const dataTable =\n",
              "            await google.colab.kernel.invokeFunction('convertToInteractive',\n",
              "                                                     [key], {});\n",
              "          if (!dataTable) return;\n",
              "\n",
              "          const docLinkHtml = 'Like what you see? Visit the ' +\n",
              "            '<a target=\"_blank\" href=https://colab.research.google.com/notebooks/data_table.ipynb>data table notebook</a>'\n",
              "            + ' to learn more about interactive tables.';\n",
              "          element.innerHTML = '';\n",
              "          dataTable['output_type'] = 'display_data';\n",
              "          await google.colab.output.renderOutput(dataTable, element);\n",
              "          const docLink = document.createElement('div');\n",
              "          docLink.innerHTML = docLinkHtml;\n",
              "          element.appendChild(docLink);\n",
              "        }\n",
              "      </script>\n",
              "    </div>\n",
              "  </div>\n",
              "  "
            ],
            "text/plain": [
              "   placeID   latitude   longitude  \\\n",
              "0   134999  18.915421  -99.184871   \n",
              "1   132825  22.147392 -100.983092   \n",
              "2   135106  22.149709 -100.976093   \n",
              "3   132667  23.752697  -99.163359   \n",
              "4   132613  23.752903  -99.165076   \n",
              "\n",
              "                                      the_geom_meter  \\\n",
              "0  0101000020957F000088568DE356715AC138C0A525FC46...   \n",
              "1  0101000020957F00001AD016568C4858C1243261274BA5...   \n",
              "2  0101000020957F0000649D6F21634858C119AE9BF528A3...   \n",
              "3  0101000020957F00005D67BCDDED8157C1222A2DC8D84D...   \n",
              "4  0101000020957F00008EBA2D06DC8157C194E03B7B504E...   \n",
              "\n",
              "                             name                                 address  \\\n",
              "0                 Kiku Cuernavaca                              Revolucion   \n",
              "1                 puesto de tacos  esquina santos degollado y leon guzman   \n",
              "2      El Rincón de San Francisco                         Universidad 169   \n",
              "3  little pizza Emilio Portes Gil                 calle emilio portes gil   \n",
              "4                   carnitas_mata                  lic. Emilio portes gil   \n",
              "\n",
              "              city            state country  fax  ...            alcohol  \\\n",
              "0       Cuernavaca          Morelos  Mexico  NaN  ...  No_Alcohol_Served   \n",
              "1           s.l.p.           s.l.p.  mexico  NaN  ...  No_Alcohol_Served   \n",
              "2  San Luis Potosi  San Luis Potosi  Mexico  NaN  ...          Wine-Beer   \n",
              "3        victoria        tamaulipas     NaN  NaN  ...  No_Alcohol_Served   \n",
              "4         victoria       Tamaulipas  Mexico  NaN  ...  No_Alcohol_Served   \n",
              "\n",
              "  smoking_area dress_code     accessibility   price                    url  \\\n",
              "0         none   informal  no_accessibility  medium  kikucuernavaca.com.mx   \n",
              "1         none   informal        completely     low                    NaN   \n",
              "2  only at bar   informal         partially  medium                    NaN   \n",
              "3         none   informal        completely     low                    NaN   \n",
              "4    permitted   informal        completely  medium                    NaN   \n",
              "\n",
              "  Rambience franchise    area other_services  \n",
              "0  familiar         f  closed           none  \n",
              "1  familiar         f    open           none  \n",
              "2  familiar         f    open           none  \n",
              "3  familiar         t  closed           none  \n",
              "4  familiar         t  closed           none  \n",
              "\n",
              "[5 rows x 21 columns]"
            ]
          },
          "execution_count": 26,
          "metadata": {},
          "output_type": "execute_result"
        }
      ],
      "source": [
        "#Getting Top five rows\n",
        "geoplaces2_df.head()"
      ]
    },
    {
      "cell_type": "code",
      "execution_count": null,
      "metadata": {
        "colab": {
          "base_uri": "https://localhost:8080/"
        },
        "id": "G-l9F3Cb2d5I",
        "outputId": "24a82cf8-ea9c-479b-f7ce-cf248d8aad37"
      },
      "outputs": [
        {
          "data": {
            "text/plain": [
              "placeID             0\n",
              "latitude            0\n",
              "longitude           0\n",
              "the_geom_meter      0\n",
              "name                0\n",
              "address            27\n",
              "city               18\n",
              "state              18\n",
              "country            28\n",
              "fax               130\n",
              "zip                74\n",
              "alcohol             0\n",
              "smoking_area        0\n",
              "dress_code          0\n",
              "accessibility       0\n",
              "price               0\n",
              "url               116\n",
              "Rambience           0\n",
              "franchise           0\n",
              "area                0\n",
              "other_services      0\n",
              "dtype: int64"
            ]
          },
          "execution_count": 27,
          "metadata": {},
          "output_type": "execute_result"
        }
      ],
      "source": [
        "#Check for null value\n",
        "geoplaces2_df.isnull().sum()"
      ]
    },
    {
      "cell_type": "markdown",
      "metadata": {
        "id": "J0ZQf0QXw44E"
      },
      "source": [
        "Although there are a few null values in the dataset, we dont require those feilds for recommending the restaurant."
      ]
    },
    {
      "cell_type": "markdown",
      "metadata": {
        "id": "b9IPkD4e2d5I"
      },
      "source": [
        "#### Concatenate All restaurent file together of common column placeID"
      ]
    },
    {
      "cell_type": "code",
      "execution_count": null,
      "metadata": {
        "colab": {
          "base_uri": "https://localhost:8080/"
        },
        "id": "a0Zb1Ate2d5I",
        "outputId": "c565b391-cc81-458b-be95-1cca939fd887"
      },
      "outputs": [
        {
          "name": "stdout",
          "output_type": "stream",
          "text": [
            "938\n"
          ]
        }
      ],
      "source": [
        "#Concatenate All restaurent file together of common column placeID\n",
        "restaurant_all = np.concatenate((chefmozaccepts_df.placeID, chefmozcuisine_df.placeID, chefmozhours4_df.placeID, chefmozparking_df.placeID, geoplaces2_df.placeID))\n",
        "restaurant_all = np.sort(np.unique(restaurant_all) ) # All the unique placeID's\n",
        "print(len(restaurant_all))"
      ]
    },
    {
      "cell_type": "markdown",
      "metadata": {
        "id": "7BV3DH4JNa2Q"
      },
      "source": [
        "Inner Join - We have data having 938 unique restaurants\n",
        "We concatenated all restaurant files according to their placeID, it will give all common placeID which is present in all five .csv file. Finally, we get total 938 placeID which is unique."
      ]
    },
    {
      "cell_type": "markdown",
      "metadata": {
        "id": "EwiuSrkrFpJZ"
      },
      "source": [
        "Aditi part begins"
      ]
    },
    {
      "cell_type": "markdown",
      "metadata": {
        "id": "fm440YNx2d5J"
      },
      "source": [
        "### Explore the user item rating files\n",
        "#### rating_final.csv "
      ]
    },
    {
      "cell_type": "code",
      "execution_count": null,
      "metadata": {
        "colab": {
          "base_uri": "https://localhost:8080/",
          "height": 204
        },
        "id": "Q6-E-8ZU2d5L",
        "outputId": "e35da167-0e7e-4c25-a612-0bfdee476524"
      },
      "outputs": [
        {
          "data": {
            "text/html": [
              "\n",
              "  <div id=\"df-99d381c4-5e7f-443f-ac8e-71762cbc1b91\">\n",
              "    <div class=\"colab-df-container\">\n",
              "      <div>\n",
              "<style scoped>\n",
              "    .dataframe tbody tr th:only-of-type {\n",
              "        vertical-align: middle;\n",
              "    }\n",
              "\n",
              "    .dataframe tbody tr th {\n",
              "        vertical-align: top;\n",
              "    }\n",
              "\n",
              "    .dataframe thead th {\n",
              "        text-align: right;\n",
              "    }\n",
              "</style>\n",
              "<table border=\"1\" class=\"dataframe\">\n",
              "  <thead>\n",
              "    <tr style=\"text-align: right;\">\n",
              "      <th></th>\n",
              "      <th>userID</th>\n",
              "      <th>placeID</th>\n",
              "      <th>rating</th>\n",
              "      <th>food_rating</th>\n",
              "      <th>service_rating</th>\n",
              "    </tr>\n",
              "  </thead>\n",
              "  <tbody>\n",
              "    <tr>\n",
              "      <th>0</th>\n",
              "      <td>U1077</td>\n",
              "      <td>135085</td>\n",
              "      <td>2</td>\n",
              "      <td>2</td>\n",
              "      <td>2</td>\n",
              "    </tr>\n",
              "    <tr>\n",
              "      <th>1</th>\n",
              "      <td>U1077</td>\n",
              "      <td>135038</td>\n",
              "      <td>2</td>\n",
              "      <td>2</td>\n",
              "      <td>1</td>\n",
              "    </tr>\n",
              "    <tr>\n",
              "      <th>2</th>\n",
              "      <td>U1077</td>\n",
              "      <td>132825</td>\n",
              "      <td>2</td>\n",
              "      <td>2</td>\n",
              "      <td>2</td>\n",
              "    </tr>\n",
              "    <tr>\n",
              "      <th>3</th>\n",
              "      <td>U1077</td>\n",
              "      <td>135060</td>\n",
              "      <td>1</td>\n",
              "      <td>2</td>\n",
              "      <td>2</td>\n",
              "    </tr>\n",
              "    <tr>\n",
              "      <th>4</th>\n",
              "      <td>U1068</td>\n",
              "      <td>135104</td>\n",
              "      <td>1</td>\n",
              "      <td>1</td>\n",
              "      <td>2</td>\n",
              "    </tr>\n",
              "  </tbody>\n",
              "</table>\n",
              "</div>\n",
              "      <button class=\"colab-df-convert\" onclick=\"convertToInteractive('df-99d381c4-5e7f-443f-ac8e-71762cbc1b91')\"\n",
              "              title=\"Convert this dataframe to an interactive table.\"\n",
              "              style=\"display:none;\">\n",
              "        \n",
              "  <svg xmlns=\"http://www.w3.org/2000/svg\" height=\"24px\"viewBox=\"0 0 24 24\"\n",
              "       width=\"24px\">\n",
              "    <path d=\"M0 0h24v24H0V0z\" fill=\"none\"/>\n",
              "    <path d=\"M18.56 5.44l.94 2.06.94-2.06 2.06-.94-2.06-.94-.94-2.06-.94 2.06-2.06.94zm-11 1L8.5 8.5l.94-2.06 2.06-.94-2.06-.94L8.5 2.5l-.94 2.06-2.06.94zm10 10l.94 2.06.94-2.06 2.06-.94-2.06-.94-.94-2.06-.94 2.06-2.06.94z\"/><path d=\"M17.41 7.96l-1.37-1.37c-.4-.4-.92-.59-1.43-.59-.52 0-1.04.2-1.43.59L10.3 9.45l-7.72 7.72c-.78.78-.78 2.05 0 2.83L4 21.41c.39.39.9.59 1.41.59.51 0 1.02-.2 1.41-.59l7.78-7.78 2.81-2.81c.8-.78.8-2.07 0-2.86zM5.41 20L4 18.59l7.72-7.72 1.47 1.35L5.41 20z\"/>\n",
              "  </svg>\n",
              "      </button>\n",
              "      \n",
              "  <style>\n",
              "    .colab-df-container {\n",
              "      display:flex;\n",
              "      flex-wrap:wrap;\n",
              "      gap: 12px;\n",
              "    }\n",
              "\n",
              "    .colab-df-convert {\n",
              "      background-color: #E8F0FE;\n",
              "      border: none;\n",
              "      border-radius: 50%;\n",
              "      cursor: pointer;\n",
              "      display: none;\n",
              "      fill: #1967D2;\n",
              "      height: 32px;\n",
              "      padding: 0 0 0 0;\n",
              "      width: 32px;\n",
              "    }\n",
              "\n",
              "    .colab-df-convert:hover {\n",
              "      background-color: #E2EBFA;\n",
              "      box-shadow: 0px 1px 2px rgba(60, 64, 67, 0.3), 0px 1px 3px 1px rgba(60, 64, 67, 0.15);\n",
              "      fill: #174EA6;\n",
              "    }\n",
              "\n",
              "    [theme=dark] .colab-df-convert {\n",
              "      background-color: #3B4455;\n",
              "      fill: #D2E3FC;\n",
              "    }\n",
              "\n",
              "    [theme=dark] .colab-df-convert:hover {\n",
              "      background-color: #434B5C;\n",
              "      box-shadow: 0px 1px 3px 1px rgba(0, 0, 0, 0.15);\n",
              "      filter: drop-shadow(0px 1px 2px rgba(0, 0, 0, 0.3));\n",
              "      fill: #FFFFFF;\n",
              "    }\n",
              "  </style>\n",
              "\n",
              "      <script>\n",
              "        const buttonEl =\n",
              "          document.querySelector('#df-99d381c4-5e7f-443f-ac8e-71762cbc1b91 button.colab-df-convert');\n",
              "        buttonEl.style.display =\n",
              "          google.colab.kernel.accessAllowed ? 'block' : 'none';\n",
              "\n",
              "        async function convertToInteractive(key) {\n",
              "          const element = document.querySelector('#df-99d381c4-5e7f-443f-ac8e-71762cbc1b91');\n",
              "          const dataTable =\n",
              "            await google.colab.kernel.invokeFunction('convertToInteractive',\n",
              "                                                     [key], {});\n",
              "          if (!dataTable) return;\n",
              "\n",
              "          const docLinkHtml = 'Like what you see? Visit the ' +\n",
              "            '<a target=\"_blank\" href=https://colab.research.google.com/notebooks/data_table.ipynb>data table notebook</a>'\n",
              "            + ' to learn more about interactive tables.';\n",
              "          element.innerHTML = '';\n",
              "          dataTable['output_type'] = 'display_data';\n",
              "          await google.colab.output.renderOutput(dataTable, element);\n",
              "          const docLink = document.createElement('div');\n",
              "          docLink.innerHTML = docLinkHtml;\n",
              "          element.appendChild(docLink);\n",
              "        }\n",
              "      </script>\n",
              "    </div>\n",
              "  </div>\n",
              "  "
            ],
            "text/plain": [
              "  userID  placeID  rating  food_rating  service_rating\n",
              "0  U1077   135085       2            2               2\n",
              "1  U1077   135038       2            2               1\n",
              "2  U1077   132825       2            2               2\n",
              "3  U1077   135060       1            2               2\n",
              "4  U1068   135104       1            1               2"
            ]
          },
          "execution_count": 29,
          "metadata": {},
          "output_type": "execute_result"
        }
      ],
      "source": [
        "#Top five rows information\n",
        "rating_final_df.head()"
      ]
    },
    {
      "cell_type": "code",
      "execution_count": null,
      "metadata": {
        "colab": {
          "base_uri": "https://localhost:8080/"
        },
        "id": "qUNPAvoo2d5K",
        "outputId": "10420462-9646-488e-f1bd-4df7e8cf03e4"
      },
      "outputs": [
        {
          "data": {
            "text/plain": [
              "(1161, 5)"
            ]
          },
          "execution_count": 30,
          "metadata": {},
          "output_type": "execute_result"
        }
      ],
      "source": [
        "#Getting information of shape \n",
        "rating_final_df.shape"
      ]
    },
    {
      "cell_type": "markdown",
      "metadata": {
        "id": "6n5GZlV2yj0h"
      },
      "source": [
        "There are 1161 number of rows in the dataset"
      ]
    },
    {
      "cell_type": "code",
      "execution_count": null,
      "metadata": {
        "colab": {
          "base_uri": "https://localhost:8080/"
        },
        "id": "2NmD-PTG2d5K",
        "outputId": "12aa73e8-fbc4-42b5-8bec-007cebc5a72c"
      },
      "outputs": [
        {
          "data": {
            "text/plain": [
              "userID            0\n",
              "placeID           0\n",
              "rating            0\n",
              "food_rating       0\n",
              "service_rating    0\n",
              "dtype: int64"
            ]
          },
          "execution_count": 31,
          "metadata": {},
          "output_type": "execute_result"
        }
      ],
      "source": [
        "#Checking for null values\n",
        "rating_final_df.isnull().sum()"
      ]
    },
    {
      "cell_type": "code",
      "execution_count": null,
      "metadata": {
        "colab": {
          "base_uri": "https://localhost:8080/",
          "height": 297
        },
        "id": "J1x8OwRY2d5K",
        "outputId": "e771894c-4211-4e5c-b174-9deea48a5f64"
      },
      "outputs": [
        {
          "data": {
            "text/html": [
              "\n",
              "  <div id=\"df-04af7e6d-1913-4fa9-8e3d-e105384d9a24\">\n",
              "    <div class=\"colab-df-container\">\n",
              "      <div>\n",
              "<style scoped>\n",
              "    .dataframe tbody tr th:only-of-type {\n",
              "        vertical-align: middle;\n",
              "    }\n",
              "\n",
              "    .dataframe tbody tr th {\n",
              "        vertical-align: top;\n",
              "    }\n",
              "\n",
              "    .dataframe thead th {\n",
              "        text-align: right;\n",
              "    }\n",
              "</style>\n",
              "<table border=\"1\" class=\"dataframe\">\n",
              "  <thead>\n",
              "    <tr style=\"text-align: right;\">\n",
              "      <th></th>\n",
              "      <th>rating</th>\n",
              "      <th>food_rating</th>\n",
              "      <th>service_rating</th>\n",
              "    </tr>\n",
              "  </thead>\n",
              "  <tbody>\n",
              "    <tr>\n",
              "      <th>count</th>\n",
              "      <td>1161.000000</td>\n",
              "      <td>1161.000000</td>\n",
              "      <td>1161.000000</td>\n",
              "    </tr>\n",
              "    <tr>\n",
              "      <th>mean</th>\n",
              "      <td>1.199828</td>\n",
              "      <td>1.215332</td>\n",
              "      <td>1.090439</td>\n",
              "    </tr>\n",
              "    <tr>\n",
              "      <th>std</th>\n",
              "      <td>0.773282</td>\n",
              "      <td>0.792294</td>\n",
              "      <td>0.790844</td>\n",
              "    </tr>\n",
              "    <tr>\n",
              "      <th>min</th>\n",
              "      <td>0.000000</td>\n",
              "      <td>0.000000</td>\n",
              "      <td>0.000000</td>\n",
              "    </tr>\n",
              "    <tr>\n",
              "      <th>25%</th>\n",
              "      <td>1.000000</td>\n",
              "      <td>1.000000</td>\n",
              "      <td>0.000000</td>\n",
              "    </tr>\n",
              "    <tr>\n",
              "      <th>50%</th>\n",
              "      <td>1.000000</td>\n",
              "      <td>1.000000</td>\n",
              "      <td>1.000000</td>\n",
              "    </tr>\n",
              "    <tr>\n",
              "      <th>75%</th>\n",
              "      <td>2.000000</td>\n",
              "      <td>2.000000</td>\n",
              "      <td>2.000000</td>\n",
              "    </tr>\n",
              "    <tr>\n",
              "      <th>max</th>\n",
              "      <td>2.000000</td>\n",
              "      <td>2.000000</td>\n",
              "      <td>2.000000</td>\n",
              "    </tr>\n",
              "  </tbody>\n",
              "</table>\n",
              "</div>\n",
              "      <button class=\"colab-df-convert\" onclick=\"convertToInteractive('df-04af7e6d-1913-4fa9-8e3d-e105384d9a24')\"\n",
              "              title=\"Convert this dataframe to an interactive table.\"\n",
              "              style=\"display:none;\">\n",
              "        \n",
              "  <svg xmlns=\"http://www.w3.org/2000/svg\" height=\"24px\"viewBox=\"0 0 24 24\"\n",
              "       width=\"24px\">\n",
              "    <path d=\"M0 0h24v24H0V0z\" fill=\"none\"/>\n",
              "    <path d=\"M18.56 5.44l.94 2.06.94-2.06 2.06-.94-2.06-.94-.94-2.06-.94 2.06-2.06.94zm-11 1L8.5 8.5l.94-2.06 2.06-.94-2.06-.94L8.5 2.5l-.94 2.06-2.06.94zm10 10l.94 2.06.94-2.06 2.06-.94-2.06-.94-.94-2.06-.94 2.06-2.06.94z\"/><path d=\"M17.41 7.96l-1.37-1.37c-.4-.4-.92-.59-1.43-.59-.52 0-1.04.2-1.43.59L10.3 9.45l-7.72 7.72c-.78.78-.78 2.05 0 2.83L4 21.41c.39.39.9.59 1.41.59.51 0 1.02-.2 1.41-.59l7.78-7.78 2.81-2.81c.8-.78.8-2.07 0-2.86zM5.41 20L4 18.59l7.72-7.72 1.47 1.35L5.41 20z\"/>\n",
              "  </svg>\n",
              "      </button>\n",
              "      \n",
              "  <style>\n",
              "    .colab-df-container {\n",
              "      display:flex;\n",
              "      flex-wrap:wrap;\n",
              "      gap: 12px;\n",
              "    }\n",
              "\n",
              "    .colab-df-convert {\n",
              "      background-color: #E8F0FE;\n",
              "      border: none;\n",
              "      border-radius: 50%;\n",
              "      cursor: pointer;\n",
              "      display: none;\n",
              "      fill: #1967D2;\n",
              "      height: 32px;\n",
              "      padding: 0 0 0 0;\n",
              "      width: 32px;\n",
              "    }\n",
              "\n",
              "    .colab-df-convert:hover {\n",
              "      background-color: #E2EBFA;\n",
              "      box-shadow: 0px 1px 2px rgba(60, 64, 67, 0.3), 0px 1px 3px 1px rgba(60, 64, 67, 0.15);\n",
              "      fill: #174EA6;\n",
              "    }\n",
              "\n",
              "    [theme=dark] .colab-df-convert {\n",
              "      background-color: #3B4455;\n",
              "      fill: #D2E3FC;\n",
              "    }\n",
              "\n",
              "    [theme=dark] .colab-df-convert:hover {\n",
              "      background-color: #434B5C;\n",
              "      box-shadow: 0px 1px 3px 1px rgba(0, 0, 0, 0.15);\n",
              "      filter: drop-shadow(0px 1px 2px rgba(0, 0, 0, 0.3));\n",
              "      fill: #FFFFFF;\n",
              "    }\n",
              "  </style>\n",
              "\n",
              "      <script>\n",
              "        const buttonEl =\n",
              "          document.querySelector('#df-04af7e6d-1913-4fa9-8e3d-e105384d9a24 button.colab-df-convert');\n",
              "        buttonEl.style.display =\n",
              "          google.colab.kernel.accessAllowed ? 'block' : 'none';\n",
              "\n",
              "        async function convertToInteractive(key) {\n",
              "          const element = document.querySelector('#df-04af7e6d-1913-4fa9-8e3d-e105384d9a24');\n",
              "          const dataTable =\n",
              "            await google.colab.kernel.invokeFunction('convertToInteractive',\n",
              "                                                     [key], {});\n",
              "          if (!dataTable) return;\n",
              "\n",
              "          const docLinkHtml = 'Like what you see? Visit the ' +\n",
              "            '<a target=\"_blank\" href=https://colab.research.google.com/notebooks/data_table.ipynb>data table notebook</a>'\n",
              "            + ' to learn more about interactive tables.';\n",
              "          element.innerHTML = '';\n",
              "          dataTable['output_type'] = 'display_data';\n",
              "          await google.colab.output.renderOutput(dataTable, element);\n",
              "          const docLink = document.createElement('div');\n",
              "          docLink.innerHTML = docLinkHtml;\n",
              "          element.appendChild(docLink);\n",
              "        }\n",
              "      </script>\n",
              "    </div>\n",
              "  </div>\n",
              "  "
            ],
            "text/plain": [
              "            rating  food_rating  service_rating\n",
              "count  1161.000000  1161.000000     1161.000000\n",
              "mean      1.199828     1.215332        1.090439\n",
              "std       0.773282     0.792294        0.790844\n",
              "min       0.000000     0.000000        0.000000\n",
              "25%       1.000000     1.000000        0.000000\n",
              "50%       1.000000     1.000000        1.000000\n",
              "75%       2.000000     2.000000        2.000000\n",
              "max       2.000000     2.000000        2.000000"
            ]
          },
          "execution_count": 32,
          "metadata": {},
          "output_type": "execute_result"
        }
      ],
      "source": [
        "#Describe the dataset\n",
        "rating_final_df[['rating','food_rating','service_rating']].describe()"
      ]
    },
    {
      "cell_type": "code",
      "execution_count": null,
      "metadata": {
        "colab": {
          "base_uri": "https://localhost:8080/"
        },
        "id": "SO2hhATd2d5L",
        "outputId": "011608de-b8fa-4eae-aefb-25445d93c6b9"
      },
      "outputs": [
        {
          "data": {
            "text/plain": [
              "130"
            ]
          },
          "execution_count": 33,
          "metadata": {},
          "output_type": "execute_result"
        }
      ],
      "source": [
        "#The total number of restaurent having rating value\n",
        "len(rating_final_df.placeID.unique())"
      ]
    },
    {
      "cell_type": "code",
      "execution_count": null,
      "metadata": {
        "colab": {
          "base_uri": "https://localhost:8080/"
        },
        "id": "EpuGZDrH2d5L",
        "outputId": "40c37125-325d-4829-8d50-ec1befd5337d"
      },
      "outputs": [
        {
          "data": {
            "text/plain": [
              "138"
            ]
          },
          "execution_count": 34,
          "metadata": {},
          "output_type": "execute_result"
        }
      ],
      "source": [
        "#The total number of users who gave rating\n",
        "len(rating_final_df.userID.unique())"
      ]
    },
    {
      "cell_type": "code",
      "execution_count": null,
      "metadata": {
        "colab": {
          "base_uri": "https://localhost:8080/",
          "height": 384
        },
        "id": "FCFr2dha5WIG",
        "outputId": "88a5e566-07fd-40b1-e928-ae9c37b1724b"
      },
      "outputs": [
        {
          "data": {
            "image/png": "[encoded data removed]",
            "text/plain": [
              "<Figure size 360x360 with 2 Axes>"
            ]
          },
          "metadata": {},
          "output_type": "display_data"
        }
      ],
      "source": [
        "import matplotlib.pyplot as mp\n",
        "import seaborn as sns\n",
        "mp.rcParams[\"figure.figsize\"] = (5,5)\n",
        "dataplot = sns.heatmap(rating_final_df.corr(), cmap=\"PiYG\", annot=True)\n",
        "mp.show()"
      ]
    },
    {
      "cell_type": "code",
      "execution_count": null,
      "metadata": {
        "colab": {
          "base_uri": "https://localhost:8080/",
          "height": 337
        },
        "id": "_id_MmaU2d5M",
        "outputId": "d657800c-05dd-4d30-d7d5-546a9281f1f0"
      },
      "outputs": [
        {
          "data": {
            "text/plain": [
              "<matplotlib.axes._subplots.AxesSubplot at 0x7f0fdf261690>"
            ]
          },
          "execution_count": 36,
          "metadata": {},
          "output_type": "execute_result"
        },
        {
          "data": {
            "image/png": "[encoded data removed]",
            "text/plain": [
              "<Figure size 360x360 with 1 Axes>"
            ]
          },
          "metadata": {},
          "output_type": "display_data"
        }
      ],
      "source": [
        "# Another way to plot a histogram of rating is shown below\n",
        "rating_final_df['rating'].hist(bins=50)"
      ]
    },
    {
      "cell_type": "code",
      "execution_count": null,
      "metadata": {
        "colab": {
          "base_uri": "https://localhost:8080/",
          "height": 337
        },
        "id": "7mn6ZWQT2d5M",
        "outputId": "123e2f74-a2aa-42c5-e4fa-e45598f9f980"
      },
      "outputs": [
        {
          "data": {
            "text/plain": [
              "<matplotlib.axes._subplots.AxesSubplot at 0x7f0fdf1093d0>"
            ]
          },
          "execution_count": 37,
          "metadata": {},
          "output_type": "execute_result"
        },
        {
          "data": {
            "image/png": "[encoded data removed]",
            "text/plain": [
              "<Figure size 360x360 with 1 Axes>"
            ]
          },
          "metadata": {},
          "output_type": "display_data"
        }
      ],
      "source": [
        "# Another way to plot a histogram of food_rating is shown below\n",
        "rating_final_df['food_rating'].hist(bins=50)"
      ]
    },
    {
      "cell_type": "code",
      "execution_count": null,
      "metadata": {
        "colab": {
          "base_uri": "https://localhost:8080/",
          "height": 337
        },
        "id": "LzuXHRML2d5M",
        "outputId": "e6415b85-141c-475c-8d99-23a135824dc9"
      },
      "outputs": [
        {
          "data": {
            "text/plain": [
              "<matplotlib.axes._subplots.AxesSubplot at 0x7f0fdf015e90>"
            ]
          },
          "execution_count": 38,
          "metadata": {},
          "output_type": "execute_result"
        },
        {
          "data": {
            "image/png": "[encoded data removed]",
            "text/plain": [
              "<Figure size 360x360 with 1 Axes>"
            ]
          },
          "metadata": {},
          "output_type": "display_data"
        }
      ],
      "source": [
        "# Another way to plot a histogram of service_rating is shown below\n",
        "rating_final_df['service_rating'].hist(bins=50)"
      ]
    },
    {
      "cell_type": "markdown",
      "metadata": {
        "id": "NnBAwgLj2d5N"
      },
      "source": [
        "### Explore the Consumers files\n",
        "#### usercuisine.csv file"
      ]
    },
    {
      "cell_type": "code",
      "execution_count": null,
      "metadata": {
        "colab": {
          "base_uri": "https://localhost:8080/",
          "height": 285
        },
        "id": "celsnBzp2d5O",
        "outputId": "37eb2d37-6793-4547-85fb-92c24d006f75"
      },
      "outputs": [
        {
          "data": {
            "text/html": [
              "\n",
              "  <div id=\"df-4bb71de7-7bf0-428e-9425-3b867b5e3078\">\n",
              "    <div class=\"colab-df-container\">\n",
              "      <div>\n",
              "<style scoped>\n",
              "    .dataframe tbody tr th:only-of-type {\n",
              "        vertical-align: middle;\n",
              "    }\n",
              "\n",
              "    .dataframe tbody tr th {\n",
              "        vertical-align: top;\n",
              "    }\n",
              "\n",
              "    .dataframe thead th {\n",
              "        text-align: right;\n",
              "    }\n",
              "</style>\n",
              "<table border=\"1\" class=\"dataframe\">\n",
              "  <thead>\n",
              "    <tr style=\"text-align: right;\">\n",
              "      <th></th>\n",
              "      <th>userID</th>\n",
              "      <th>Rcuisine</th>\n",
              "    </tr>\n",
              "  </thead>\n",
              "  <tbody>\n",
              "    <tr>\n",
              "      <th>0</th>\n",
              "      <td>U1001</td>\n",
              "      <td>American</td>\n",
              "    </tr>\n",
              "    <tr>\n",
              "      <th>1</th>\n",
              "      <td>U1002</td>\n",
              "      <td>Mexican</td>\n",
              "    </tr>\n",
              "    <tr>\n",
              "      <th>2</th>\n",
              "      <td>U1003</td>\n",
              "      <td>Mexican</td>\n",
              "    </tr>\n",
              "    <tr>\n",
              "      <th>3</th>\n",
              "      <td>U1004</td>\n",
              "      <td>Bakery</td>\n",
              "    </tr>\n",
              "    <tr>\n",
              "      <th>4</th>\n",
              "      <td>U1004</td>\n",
              "      <td>Breakfast-Brunch</td>\n",
              "    </tr>\n",
              "  </tbody>\n",
              "</table>\n",
              "</div>\n",
              "      <button class=\"colab-df-convert\" onclick=\"convertToInteractive('df-4bb71de7-7bf0-428e-9425-3b867b5e3078')\"\n",
              "              title=\"Convert this dataframe to an interactive table.\"\n",
              "              style=\"display:none;\">\n",
              "        \n",
              "  <svg xmlns=\"http://www.w3.org/2000/svg\" height=\"24px\"viewBox=\"0 0 24 24\"\n",
              "       width=\"24px\">\n",
              "    <path d=\"M0 0h24v24H0V0z\" fill=\"none\"/>\n",
              "    <path d=\"M18.56 5.44l.94 2.06.94-2.06 2.06-.94-2.06-.94-.94-2.06-.94 2.06-2.06.94zm-11 1L8.5 8.5l.94-2.06 2.06-.94-2.06-.94L8.5 2.5l-.94 2.06-2.06.94zm10 10l.94 2.06.94-2.06 2.06-.94-2.06-.94-.94-2.06-.94 2.06-2.06.94z\"/><path d=\"M17.41 7.96l-1.37-1.37c-.4-.4-.92-.59-1.43-.59-.52 0-1.04.2-1.43.59L10.3 9.45l-7.72 7.72c-.78.78-.78 2.05 0 2.83L4 21.41c.39.39.9.59 1.41.59.51 0 1.02-.2 1.41-.59l7.78-7.78 2.81-2.81c.8-.78.8-2.07 0-2.86zM5.41 20L4 18.59l7.72-7.72 1.47 1.35L5.41 20z\"/>\n",
              "  </svg>\n",
              "      </button>\n",
              "      \n",
              "  <style>\n",
              "    .colab-df-container {\n",
              "      display:flex;\n",
              "      flex-wrap:wrap;\n",
              "      gap: 12px;\n",
              "    }\n",
              "\n",
              "    .colab-df-convert {\n",
              "      background-color: #E8F0FE;\n",
              "      border: none;\n",
              "      border-radius: 50%;\n",
              "      cursor: pointer;\n",
              "      display: none;\n",
              "      fill: #1967D2;\n",
              "      height: 32px;\n",
              "      padding: 0 0 0 0;\n",
              "      width: 32px;\n",
              "    }\n",
              "\n",
              "    .colab-df-convert:hover {\n",
              "      background-color: #E2EBFA;\n",
              "      box-shadow: 0px 1px 2px rgba(60, 64, 67, 0.3), 0px 1px 3px 1px rgba(60, 64, 67, 0.15);\n",
              "      fill: #174EA6;\n",
              "    }\n",
              "\n",
              "    [theme=dark] .colab-df-convert {\n",
              "      background-color: #3B4455;\n",
              "      fill: #D2E3FC;\n",
              "    }\n",
              "\n",
              "    [theme=dark] .colab-df-convert:hover {\n",
              "      background-color: #434B5C;\n",
              "      box-shadow: 0px 1px 3px 1px rgba(0, 0, 0, 0.15);\n",
              "      filter: drop-shadow(0px 1px 2px rgba(0, 0, 0, 0.3));\n",
              "      fill: #FFFFFF;\n",
              "    }\n",
              "  </style>\n",
              "\n",
              "      <script>\n",
              "        const buttonEl =\n",
              "          document.querySelector('#df-4bb71de7-7bf0-428e-9425-3b867b5e3078 button.colab-df-convert');\n",
              "        buttonEl.style.display =\n",
              "          google.colab.kernel.accessAllowed ? 'block' : 'none';\n",
              "\n",
              "        async function convertToInteractive(key) {\n",
              "          const element = document.querySelector('#df-4bb71de7-7bf0-428e-9425-3b867b5e3078');\n",
              "          const dataTable =\n",
              "            await google.colab.kernel.invokeFunction('convertToInteractive',\n",
              "                                                     [key], {});\n",
              "          if (!dataTable) return;\n",
              "\n",
              "          const docLinkHtml = 'Like what you see? Visit the ' +\n",
              "            '<a target=\"_blank\" href=https://colab.research.google.com/notebooks/data_table.ipynb>data table notebook</a>'\n",
              "            + ' to learn more about interactive tables.';\n",
              "          element.innerHTML = '';\n",
              "          dataTable['output_type'] = 'display_data';\n",
              "          await google.colab.output.renderOutput(dataTable, element);\n",
              "          const docLink = document.createElement('div');\n",
              "          docLink.innerHTML = docLinkHtml;\n",
              "          element.appendChild(docLink);\n",
              "        }\n",
              "      </script>\n",
              "    </div>\n",
              "  </div>\n",
              "  "
            ],
            "text/plain": [
              "  userID          Rcuisine\n",
              "0  U1001          American\n",
              "1  U1002           Mexican\n",
              "2  U1003           Mexican\n",
              "3  U1004            Bakery\n",
              "4  U1004  Breakfast-Brunch"
            ]
          },
          "execution_count": 39,
          "metadata": {},
          "output_type": "execute_result"
        }
      ],
      "source": [
        "#Getting top five rows\n",
        "usercuisine_df.head()"
      ]
    },
    {
      "cell_type": "code",
      "execution_count": null,
      "metadata": {
        "colab": {
          "base_uri": "https://localhost:8080/"
        },
        "id": "dF504FsA2d5N",
        "outputId": "0fd07260-ba43-4d52-e7d0-e996cda39c6b"
      },
      "outputs": [
        {
          "data": {
            "text/plain": [
              "(330, 2)"
            ]
          },
          "execution_count": 40,
          "metadata": {},
          "output_type": "execute_result"
        }
      ],
      "source": [
        "#Getting information of shape and size\n",
        "usercuisine_df.shape"
      ]
    },
    {
      "cell_type": "code",
      "execution_count": null,
      "metadata": {
        "colab": {
          "base_uri": "https://localhost:8080/"
        },
        "id": "kOMSc49M2d5O",
        "outputId": "88f0c107-3edb-4123-9ced-979a5229b2e1"
      },
      "outputs": [
        {
          "data": {
            "text/plain": [
              "userID      0\n",
              "Rcuisine    0\n",
              "dtype: int64"
            ]
          },
          "execution_count": 41,
          "metadata": {},
          "output_type": "execute_result"
        }
      ],
      "source": [
        "#Checking for null values\n",
        "usercuisine_df.isnull().sum()"
      ]
    },
    {
      "cell_type": "code",
      "execution_count": null,
      "metadata": {
        "colab": {
          "base_uri": "https://localhost:8080/"
        },
        "id": "rlewV55V2d5O",
        "outputId": "a7766dca-876c-4aff-9fda-0bdadae63f68"
      },
      "outputs": [
        {
          "data": {
            "text/plain": [
              "count         330\n",
              "unique        103\n",
              "top       Mexican\n",
              "freq           97\n",
              "Name: Rcuisine, dtype: object"
            ]
          },
          "execution_count": 42,
          "metadata": {},
          "output_type": "execute_result"
        }
      ],
      "source": [
        "#Describe the dataset\n",
        "usercuisine_df['Rcuisine'].describe()"
      ]
    },
    {
      "cell_type": "markdown",
      "metadata": {
        "id": "k-di8MlD2d5P"
      },
      "source": [
        "#### userpayment.csv"
      ]
    },
    {
      "cell_type": "code",
      "execution_count": null,
      "metadata": {
        "colab": {
          "base_uri": "https://localhost:8080/",
          "height": 268
        },
        "id": "Ojtcfy5d2d5Q",
        "outputId": "33d706db-073e-402d-e6dd-ef1fb7b100a8"
      },
      "outputs": [
        {
          "data": {
            "text/html": [
              "\n",
              "  <div id=\"df-1c26f79f-7524-4552-9a9e-b450f27daa41\">\n",
              "    <div class=\"colab-df-container\">\n",
              "      <div>\n",
              "<style scoped>\n",
              "    .dataframe tbody tr th:only-of-type {\n",
              "        vertical-align: middle;\n",
              "    }\n",
              "\n",
              "    .dataframe tbody tr th {\n",
              "        vertical-align: top;\n",
              "    }\n",
              "\n",
              "    .dataframe thead th {\n",
              "        text-align: right;\n",
              "    }\n",
              "</style>\n",
              "<table border=\"1\" class=\"dataframe\">\n",
              "  <thead>\n",
              "    <tr style=\"text-align: right;\">\n",
              "      <th></th>\n",
              "      <th>userID</th>\n",
              "      <th>Upayment</th>\n",
              "    </tr>\n",
              "  </thead>\n",
              "  <tbody>\n",
              "    <tr>\n",
              "      <th>0</th>\n",
              "      <td>U1001</td>\n",
              "      <td>cash</td>\n",
              "    </tr>\n",
              "    <tr>\n",
              "      <th>1</th>\n",
              "      <td>U1002</td>\n",
              "      <td>cash</td>\n",
              "    </tr>\n",
              "    <tr>\n",
              "      <th>2</th>\n",
              "      <td>U1003</td>\n",
              "      <td>cash</td>\n",
              "    </tr>\n",
              "    <tr>\n",
              "      <th>3</th>\n",
              "      <td>U1004</td>\n",
              "      <td>cash</td>\n",
              "    </tr>\n",
              "    <tr>\n",
              "      <th>4</th>\n",
              "      <td>U1004</td>\n",
              "      <td>bank_debit_cards</td>\n",
              "    </tr>\n",
              "  </tbody>\n",
              "</table>\n",
              "</div>\n",
              "      <button class=\"colab-df-convert\" onclick=\"convertToInteractive('df-1c26f79f-7524-4552-9a9e-b450f27daa41')\"\n",
              "              title=\"Convert this dataframe to an interactive table.\"\n",
              "              style=\"display:none;\">\n",
              "        \n",
              "  <svg xmlns=\"http://www.w3.org/2000/svg\" height=\"24px\"viewBox=\"0 0 24 24\"\n",
              "       width=\"24px\">\n",
              "    <path d=\"M0 0h24v24H0V0z\" fill=\"none\"/>\n",
              "    <path d=\"M18.56 5.44l.94 2.06.94-2.06 2.06-.94-2.06-.94-.94-2.06-.94 2.06-2.06.94zm-11 1L8.5 8.5l.94-2.06 2.06-.94-2.06-.94L8.5 2.5l-.94 2.06-2.06.94zm10 10l.94 2.06.94-2.06 2.06-.94-2.06-.94-.94-2.06-.94 2.06-2.06.94z\"/><path d=\"M17.41 7.96l-1.37-1.37c-.4-.4-.92-.59-1.43-.59-.52 0-1.04.2-1.43.59L10.3 9.45l-7.72 7.72c-.78.78-.78 2.05 0 2.83L4 21.41c.39.39.9.59 1.41.59.51 0 1.02-.2 1.41-.59l7.78-7.78 2.81-2.81c.8-.78.8-2.07 0-2.86zM5.41 20L4 18.59l7.72-7.72 1.47 1.35L5.41 20z\"/>\n",
              "  </svg>\n",
              "      </button>\n",
              "      \n",
              "  <style>\n",
              "    .colab-df-container {\n",
              "      display:flex;\n",
              "      flex-wrap:wrap;\n",
              "      gap: 12px;\n",
              "    }\n",
              "\n",
              "    .colab-df-convert {\n",
              "      background-color: #E8F0FE;\n",
              "      border: none;\n",
              "      border-radius: 50%;\n",
              "      cursor: pointer;\n",
              "      display: none;\n",
              "      fill: #1967D2;\n",
              "      height: 32px;\n",
              "      padding: 0 0 0 0;\n",
              "      width: 32px;\n",
              "    }\n",
              "\n",
              "    .colab-df-convert:hover {\n",
              "      background-color: #E2EBFA;\n",
              "      box-shadow: 0px 1px 2px rgba(60, 64, 67, 0.3), 0px 1px 3px 1px rgba(60, 64, 67, 0.15);\n",
              "      fill: #174EA6;\n",
              "    }\n",
              "\n",
              "    [theme=dark] .colab-df-convert {\n",
              "      background-color: #3B4455;\n",
              "      fill: #D2E3FC;\n",
              "    }\n",
              "\n",
              "    [theme=dark] .colab-df-convert:hover {\n",
              "      background-color: #434B5C;\n",
              "      box-shadow: 0px 1px 3px 1px rgba(0, 0, 0, 0.15);\n",
              "      filter: drop-shadow(0px 1px 2px rgba(0, 0, 0, 0.3));\n",
              "      fill: #FFFFFF;\n",
              "    }\n",
              "  </style>\n",
              "\n",
              "      <script>\n",
              "        const buttonEl =\n",
              "          document.querySelector('#df-1c26f79f-7524-4552-9a9e-b450f27daa41 button.colab-df-convert');\n",
              "        buttonEl.style.display =\n",
              "          google.colab.kernel.accessAllowed ? 'block' : 'none';\n",
              "\n",
              "        async function convertToInteractive(key) {\n",
              "          const element = document.querySelector('#df-1c26f79f-7524-4552-9a9e-b450f27daa41');\n",
              "          const dataTable =\n",
              "            await google.colab.kernel.invokeFunction('convertToInteractive',\n",
              "                                                     [key], {});\n",
              "          if (!dataTable) return;\n",
              "\n",
              "          const docLinkHtml = 'Like what you see? Visit the ' +\n",
              "            '<a target=\"_blank\" href=https://colab.research.google.com/notebooks/data_table.ipynb>data table notebook</a>'\n",
              "            + ' to learn more about interactive tables.';\n",
              "          element.innerHTML = '';\n",
              "          dataTable['output_type'] = 'display_data';\n",
              "          await google.colab.output.renderOutput(dataTable, element);\n",
              "          const docLink = document.createElement('div');\n",
              "          docLink.innerHTML = docLinkHtml;\n",
              "          element.appendChild(docLink);\n",
              "        }\n",
              "      </script>\n",
              "    </div>\n",
              "  </div>\n",
              "  "
            ],
            "text/plain": [
              "  userID          Upayment\n",
              "0  U1001              cash\n",
              "1  U1002              cash\n",
              "2  U1003              cash\n",
              "3  U1004              cash\n",
              "4  U1004  bank_debit_cards"
            ]
          },
          "execution_count": 43,
          "metadata": {},
          "output_type": "execute_result"
        }
      ],
      "source": [
        "#Getting Top five rows\n",
        "userpayment_df.head()"
      ]
    },
    {
      "cell_type": "code",
      "execution_count": null,
      "metadata": {
        "colab": {
          "base_uri": "https://localhost:8080/"
        },
        "id": "j4y149KG2d5Q",
        "outputId": "de5a7b91-cff4-4d2d-a4ba-852365b1046e"
      },
      "outputs": [
        {
          "data": {
            "text/plain": [
              "(177, 2)"
            ]
          },
          "execution_count": 44,
          "metadata": {},
          "output_type": "execute_result"
        }
      ],
      "source": [
        "#Getting information of shape \n",
        "userpayment_df.shape"
      ]
    },
    {
      "cell_type": "code",
      "execution_count": null,
      "metadata": {
        "colab": {
          "base_uri": "https://localhost:8080/"
        },
        "id": "nWxX2Akb2d5Q",
        "outputId": "e6289e51-08d7-4b49-a3eb-9709f8baf85e"
      },
      "outputs": [
        {
          "data": {
            "text/plain": [
              "userID      0\n",
              "Upayment    0\n",
              "dtype: int64"
            ]
          },
          "execution_count": 45,
          "metadata": {},
          "output_type": "execute_result"
        }
      ],
      "source": [
        "#Checking for null values\n",
        "userpayment_df.isnull().sum()"
      ]
    },
    {
      "cell_type": "code",
      "execution_count": null,
      "metadata": {
        "colab": {
          "base_uri": "https://localhost:8080/"
        },
        "id": "P3SXSZ3I2d5Q",
        "outputId": "1815144a-b2b8-42d3-971f-b81dbabf738b"
      },
      "outputs": [
        {
          "data": {
            "text/plain": [
              "count      177\n",
              "unique       5\n",
              "top       cash\n",
              "freq       131\n",
              "Name: Upayment, dtype: object"
            ]
          },
          "execution_count": 46,
          "metadata": {},
          "output_type": "execute_result"
        }
      ],
      "source": [
        "#Describe the dataset\n",
        "userpayment_df['Upayment'].describe()"
      ]
    },
    {
      "cell_type": "markdown",
      "metadata": {
        "id": "e_kqbT9k2d5R"
      },
      "source": [
        "#### userprofile.csv"
      ]
    },
    {
      "cell_type": "code",
      "execution_count": null,
      "metadata": {
        "colab": {
          "base_uri": "https://localhost:8080/",
          "height": 319
        },
        "id": "mknXYGm82d5S",
        "outputId": "30d0c24c-f861-4f9b-ab31-074cfdade703"
      },
      "outputs": [
        {
          "data": {
            "text/html": [
              "\n",
              "  <div id=\"df-617e1e84-a411-44a7-b8c0-085f104c70b3\">\n",
              "    <div class=\"colab-df-container\">\n",
              "      <div>\n",
              "<style scoped>\n",
              "    .dataframe tbody tr th:only-of-type {\n",
              "        vertical-align: middle;\n",
              "    }\n",
              "\n",
              "    .dataframe tbody tr th {\n",
              "        vertical-align: top;\n",
              "    }\n",
              "\n",
              "    .dataframe thead th {\n",
              "        text-align: right;\n",
              "    }\n",
              "</style>\n",
              "<table border=\"1\" class=\"dataframe\">\n",
              "  <thead>\n",
              "    <tr style=\"text-align: right;\">\n",
              "      <th></th>\n",
              "      <th>userID</th>\n",
              "      <th>latitude</th>\n",
              "      <th>longitude</th>\n",
              "      <th>smoker</th>\n",
              "      <th>drink_level</th>\n",
              "      <th>dress_preference</th>\n",
              "      <th>ambience</th>\n",
              "      <th>transport</th>\n",
              "      <th>marital_status</th>\n",
              "      <th>hijos</th>\n",
              "      <th>birth_year</th>\n",
              "      <th>interest</th>\n",
              "      <th>personality</th>\n",
              "      <th>religion</th>\n",
              "      <th>activity</th>\n",
              "      <th>color</th>\n",
              "      <th>weight</th>\n",
              "      <th>budget</th>\n",
              "      <th>height</th>\n",
              "    </tr>\n",
              "  </thead>\n",
              "  <tbody>\n",
              "    <tr>\n",
              "      <th>0</th>\n",
              "      <td>U1001</td>\n",
              "      <td>22.139997</td>\n",
              "      <td>-100.978803</td>\n",
              "      <td>false</td>\n",
              "      <td>abstemious</td>\n",
              "      <td>informal</td>\n",
              "      <td>family</td>\n",
              "      <td>on foot</td>\n",
              "      <td>single</td>\n",
              "      <td>independent</td>\n",
              "      <td>1989</td>\n",
              "      <td>variety</td>\n",
              "      <td>thrifty-protector</td>\n",
              "      <td>none</td>\n",
              "      <td>student</td>\n",
              "      <td>black</td>\n",
              "      <td>69</td>\n",
              "      <td>medium</td>\n",
              "      <td>1.77</td>\n",
              "    </tr>\n",
              "    <tr>\n",
              "      <th>1</th>\n",
              "      <td>U1002</td>\n",
              "      <td>22.150087</td>\n",
              "      <td>-100.983325</td>\n",
              "      <td>false</td>\n",
              "      <td>abstemious</td>\n",
              "      <td>informal</td>\n",
              "      <td>family</td>\n",
              "      <td>public</td>\n",
              "      <td>single</td>\n",
              "      <td>independent</td>\n",
              "      <td>1990</td>\n",
              "      <td>technology</td>\n",
              "      <td>hunter-ostentatious</td>\n",
              "      <td>Catholic</td>\n",
              "      <td>student</td>\n",
              "      <td>red</td>\n",
              "      <td>40</td>\n",
              "      <td>low</td>\n",
              "      <td>1.87</td>\n",
              "    </tr>\n",
              "    <tr>\n",
              "      <th>2</th>\n",
              "      <td>U1003</td>\n",
              "      <td>22.119847</td>\n",
              "      <td>-100.946527</td>\n",
              "      <td>false</td>\n",
              "      <td>social drinker</td>\n",
              "      <td>formal</td>\n",
              "      <td>family</td>\n",
              "      <td>public</td>\n",
              "      <td>single</td>\n",
              "      <td>independent</td>\n",
              "      <td>1989</td>\n",
              "      <td>none</td>\n",
              "      <td>hard-worker</td>\n",
              "      <td>Catholic</td>\n",
              "      <td>student</td>\n",
              "      <td>blue</td>\n",
              "      <td>60</td>\n",
              "      <td>low</td>\n",
              "      <td>1.69</td>\n",
              "    </tr>\n",
              "    <tr>\n",
              "      <th>3</th>\n",
              "      <td>U1004</td>\n",
              "      <td>18.867000</td>\n",
              "      <td>-99.183000</td>\n",
              "      <td>false</td>\n",
              "      <td>abstemious</td>\n",
              "      <td>informal</td>\n",
              "      <td>family</td>\n",
              "      <td>public</td>\n",
              "      <td>single</td>\n",
              "      <td>independent</td>\n",
              "      <td>1940</td>\n",
              "      <td>variety</td>\n",
              "      <td>hard-worker</td>\n",
              "      <td>none</td>\n",
              "      <td>professional</td>\n",
              "      <td>green</td>\n",
              "      <td>44</td>\n",
              "      <td>medium</td>\n",
              "      <td>1.53</td>\n",
              "    </tr>\n",
              "    <tr>\n",
              "      <th>4</th>\n",
              "      <td>U1005</td>\n",
              "      <td>22.183477</td>\n",
              "      <td>-100.959891</td>\n",
              "      <td>false</td>\n",
              "      <td>abstemious</td>\n",
              "      <td>no preference</td>\n",
              "      <td>family</td>\n",
              "      <td>public</td>\n",
              "      <td>single</td>\n",
              "      <td>independent</td>\n",
              "      <td>1992</td>\n",
              "      <td>none</td>\n",
              "      <td>thrifty-protector</td>\n",
              "      <td>Catholic</td>\n",
              "      <td>student</td>\n",
              "      <td>black</td>\n",
              "      <td>65</td>\n",
              "      <td>medium</td>\n",
              "      <td>1.69</td>\n",
              "    </tr>\n",
              "  </tbody>\n",
              "</table>\n",
              "</div>\n",
              "      <button class=\"colab-df-convert\" onclick=\"convertToInteractive('df-617e1e84-a411-44a7-b8c0-085f104c70b3')\"\n",
              "              title=\"Convert this dataframe to an interactive table.\"\n",
              "              style=\"display:none;\">\n",
              "        \n",
              "  <svg xmlns=\"http://www.w3.org/2000/svg\" height=\"24px\"viewBox=\"0 0 24 24\"\n",
              "       width=\"24px\">\n",
              "    <path d=\"M0 0h24v24H0V0z\" fill=\"none\"/>\n",
              "    <path d=\"M18.56 5.44l.94 2.06.94-2.06 2.06-.94-2.06-.94-.94-2.06-.94 2.06-2.06.94zm-11 1L8.5 8.5l.94-2.06 2.06-.94-2.06-.94L8.5 2.5l-.94 2.06-2.06.94zm10 10l.94 2.06.94-2.06 2.06-.94-2.06-.94-.94-2.06-.94 2.06-2.06.94z\"/><path d=\"M17.41 7.96l-1.37-1.37c-.4-.4-.92-.59-1.43-.59-.52 0-1.04.2-1.43.59L10.3 9.45l-7.72 7.72c-.78.78-.78 2.05 0 2.83L4 21.41c.39.39.9.59 1.41.59.51 0 1.02-.2 1.41-.59l7.78-7.78 2.81-2.81c.8-.78.8-2.07 0-2.86zM5.41 20L4 18.59l7.72-7.72 1.47 1.35L5.41 20z\"/>\n",
              "  </svg>\n",
              "      </button>\n",
              "      \n",
              "  <style>\n",
              "    .colab-df-container {\n",
              "      display:flex;\n",
              "      flex-wrap:wrap;\n",
              "      gap: 12px;\n",
              "    }\n",
              "\n",
              "    .colab-df-convert {\n",
              "      background-color: #E8F0FE;\n",
              "      border: none;\n",
              "      border-radius: 50%;\n",
              "      cursor: pointer;\n",
              "      display: none;\n",
              "      fill: #1967D2;\n",
              "      height: 32px;\n",
              "      padding: 0 0 0 0;\n",
              "      width: 32px;\n",
              "    }\n",
              "\n",
              "    .colab-df-convert:hover {\n",
              "      background-color: #E2EBFA;\n",
              "      box-shadow: 0px 1px 2px rgba(60, 64, 67, 0.3), 0px 1px 3px 1px rgba(60, 64, 67, 0.15);\n",
              "      fill: #174EA6;\n",
              "    }\n",
              "\n",
              "    [theme=dark] .colab-df-convert {\n",
              "      background-color: #3B4455;\n",
              "      fill: #D2E3FC;\n",
              "    }\n",
              "\n",
              "    [theme=dark] .colab-df-convert:hover {\n",
              "      background-color: #434B5C;\n",
              "      box-shadow: 0px 1px 3px 1px rgba(0, 0, 0, 0.15);\n",
              "      filter: drop-shadow(0px 1px 2px rgba(0, 0, 0, 0.3));\n",
              "      fill: #FFFFFF;\n",
              "    }\n",
              "  </style>\n",
              "\n",
              "      <script>\n",
              "        const buttonEl =\n",
              "          document.querySelector('#df-617e1e84-a411-44a7-b8c0-085f104c70b3 button.colab-df-convert');\n",
              "        buttonEl.style.display =\n",
              "          google.colab.kernel.accessAllowed ? 'block' : 'none';\n",
              "\n",
              "        async function convertToInteractive(key) {\n",
              "          const element = document.querySelector('#df-617e1e84-a411-44a7-b8c0-085f104c70b3');\n",
              "          const dataTable =\n",
              "            await google.colab.kernel.invokeFunction('convertToInteractive',\n",
              "                                                     [key], {});\n",
              "          if (!dataTable) return;\n",
              "\n",
              "          const docLinkHtml = 'Like what you see? Visit the ' +\n",
              "            '<a target=\"_blank\" href=https://colab.research.google.com/notebooks/data_table.ipynb>data table notebook</a>'\n",
              "            + ' to learn more about interactive tables.';\n",
              "          element.innerHTML = '';\n",
              "          dataTable['output_type'] = 'display_data';\n",
              "          await google.colab.output.renderOutput(dataTable, element);\n",
              "          const docLink = document.createElement('div');\n",
              "          docLink.innerHTML = docLinkHtml;\n",
              "          element.appendChild(docLink);\n",
              "        }\n",
              "      </script>\n",
              "    </div>\n",
              "  </div>\n",
              "  "
            ],
            "text/plain": [
              "  userID   latitude   longitude smoker     drink_level dress_preference  \\\n",
              "0  U1001  22.139997 -100.978803  false      abstemious         informal   \n",
              "1  U1002  22.150087 -100.983325  false      abstemious         informal   \n",
              "2  U1003  22.119847 -100.946527  false  social drinker           formal   \n",
              "3  U1004  18.867000  -99.183000  false      abstemious         informal   \n",
              "4  U1005  22.183477 -100.959891  false      abstemious    no preference   \n",
              "\n",
              "  ambience transport marital_status        hijos  birth_year    interest  \\\n",
              "0   family   on foot         single  independent        1989     variety   \n",
              "1   family    public         single  independent        1990  technology   \n",
              "2   family    public         single  independent        1989        none   \n",
              "3   family    public         single  independent        1940     variety   \n",
              "4   family    public         single  independent        1992        none   \n",
              "\n",
              "           personality  religion      activity  color  weight  budget  height  \n",
              "0    thrifty-protector      none       student  black      69  medium    1.77  \n",
              "1  hunter-ostentatious  Catholic       student    red      40     low    1.87  \n",
              "2          hard-worker  Catholic       student   blue      60     low    1.69  \n",
              "3          hard-worker      none  professional  green      44  medium    1.53  \n",
              "4    thrifty-protector  Catholic       student  black      65  medium    1.69  "
            ]
          },
          "execution_count": 47,
          "metadata": {},
          "output_type": "execute_result"
        }
      ],
      "source": [
        "#Getting top five rows\n",
        "userprofile_df.head()"
      ]
    },
    {
      "cell_type": "code",
      "execution_count": null,
      "metadata": {
        "colab": {
          "base_uri": "https://localhost:8080/",
          "height": 237
        },
        "id": "P_YaCBLD2d5S",
        "outputId": "aed1fabe-2ad2-48a8-9b9a-9b341ab0e3cf"
      },
      "outputs": [
        {
          "data": {
            "text/html": [
              "\n",
              "  <div id=\"df-261aa6b1-d218-4ada-9394-8b63c7e1c219\">\n",
              "    <div class=\"colab-df-container\">\n",
              "      <div>\n",
              "<style scoped>\n",
              "    .dataframe tbody tr th:only-of-type {\n",
              "        vertical-align: middle;\n",
              "    }\n",
              "\n",
              "    .dataframe tbody tr th {\n",
              "        vertical-align: top;\n",
              "    }\n",
              "\n",
              "    .dataframe thead th {\n",
              "        text-align: right;\n",
              "    }\n",
              "</style>\n",
              "<table border=\"1\" class=\"dataframe\">\n",
              "  <thead>\n",
              "    <tr style=\"text-align: right;\">\n",
              "      <th></th>\n",
              "      <th>smoker</th>\n",
              "      <th>drink_level</th>\n",
              "      <th>dress_preference</th>\n",
              "      <th>ambience</th>\n",
              "      <th>transport</th>\n",
              "      <th>marital_status</th>\n",
              "      <th>hijos</th>\n",
              "      <th>interest</th>\n",
              "      <th>personality</th>\n",
              "      <th>religion</th>\n",
              "      <th>activity</th>\n",
              "      <th>color</th>\n",
              "      <th>budget</th>\n",
              "    </tr>\n",
              "  </thead>\n",
              "  <tbody>\n",
              "    <tr>\n",
              "      <th>count</th>\n",
              "      <td>138</td>\n",
              "      <td>138</td>\n",
              "      <td>138</td>\n",
              "      <td>138</td>\n",
              "      <td>138</td>\n",
              "      <td>138</td>\n",
              "      <td>138</td>\n",
              "      <td>138</td>\n",
              "      <td>138</td>\n",
              "      <td>138</td>\n",
              "      <td>138</td>\n",
              "      <td>138</td>\n",
              "      <td>138</td>\n",
              "    </tr>\n",
              "    <tr>\n",
              "      <th>unique</th>\n",
              "      <td>3</td>\n",
              "      <td>3</td>\n",
              "      <td>5</td>\n",
              "      <td>4</td>\n",
              "      <td>4</td>\n",
              "      <td>4</td>\n",
              "      <td>4</td>\n",
              "      <td>5</td>\n",
              "      <td>4</td>\n",
              "      <td>5</td>\n",
              "      <td>5</td>\n",
              "      <td>8</td>\n",
              "      <td>4</td>\n",
              "    </tr>\n",
              "    <tr>\n",
              "      <th>top</th>\n",
              "      <td>false</td>\n",
              "      <td>abstemious</td>\n",
              "      <td>no preference</td>\n",
              "      <td>family</td>\n",
              "      <td>public</td>\n",
              "      <td>single</td>\n",
              "      <td>independent</td>\n",
              "      <td>variety</td>\n",
              "      <td>hard-worker</td>\n",
              "      <td>Catholic</td>\n",
              "      <td>student</td>\n",
              "      <td>blue</td>\n",
              "      <td>medium</td>\n",
              "    </tr>\n",
              "    <tr>\n",
              "      <th>freq</th>\n",
              "      <td>109</td>\n",
              "      <td>51</td>\n",
              "      <td>53</td>\n",
              "      <td>70</td>\n",
              "      <td>82</td>\n",
              "      <td>122</td>\n",
              "      <td>113</td>\n",
              "      <td>50</td>\n",
              "      <td>61</td>\n",
              "      <td>99</td>\n",
              "      <td>113</td>\n",
              "      <td>45</td>\n",
              "      <td>91</td>\n",
              "    </tr>\n",
              "  </tbody>\n",
              "</table>\n",
              "</div>\n",
              "      <button class=\"colab-df-convert\" onclick=\"convertToInteractive('df-261aa6b1-d218-4ada-9394-8b63c7e1c219')\"\n",
              "              title=\"Convert this dataframe to an interactive table.\"\n",
              "              style=\"display:none;\">\n",
              "        \n",
              "  <svg xmlns=\"http://www.w3.org/2000/svg\" height=\"24px\"viewBox=\"0 0 24 24\"\n",
              "       width=\"24px\">\n",
              "    <path d=\"M0 0h24v24H0V0z\" fill=\"none\"/>\n",
              "    <path d=\"M18.56 5.44l.94 2.06.94-2.06 2.06-.94-2.06-.94-.94-2.06-.94 2.06-2.06.94zm-11 1L8.5 8.5l.94-2.06 2.06-.94-2.06-.94L8.5 2.5l-.94 2.06-2.06.94zm10 10l.94 2.06.94-2.06 2.06-.94-2.06-.94-.94-2.06-.94 2.06-2.06.94z\"/><path d=\"M17.41 7.96l-1.37-1.37c-.4-.4-.92-.59-1.43-.59-.52 0-1.04.2-1.43.59L10.3 9.45l-7.72 7.72c-.78.78-.78 2.05 0 2.83L4 21.41c.39.39.9.59 1.41.59.51 0 1.02-.2 1.41-.59l7.78-7.78 2.81-2.81c.8-.78.8-2.07 0-2.86zM5.41 20L4 18.59l7.72-7.72 1.47 1.35L5.41 20z\"/>\n",
              "  </svg>\n",
              "      </button>\n",
              "      \n",
              "  <style>\n",
              "    .colab-df-container {\n",
              "      display:flex;\n",
              "      flex-wrap:wrap;\n",
              "      gap: 12px;\n",
              "    }\n",
              "\n",
              "    .colab-df-convert {\n",
              "      background-color: #E8F0FE;\n",
              "      border: none;\n",
              "      border-radius: 50%;\n",
              "      cursor: pointer;\n",
              "      display: none;\n",
              "      fill: #1967D2;\n",
              "      height: 32px;\n",
              "      padding: 0 0 0 0;\n",
              "      width: 32px;\n",
              "    }\n",
              "\n",
              "    .colab-df-convert:hover {\n",
              "      background-color: #E2EBFA;\n",
              "      box-shadow: 0px 1px 2px rgba(60, 64, 67, 0.3), 0px 1px 3px 1px rgba(60, 64, 67, 0.15);\n",
              "      fill: #174EA6;\n",
              "    }\n",
              "\n",
              "    [theme=dark] .colab-df-convert {\n",
              "      background-color: #3B4455;\n",
              "      fill: #D2E3FC;\n",
              "    }\n",
              "\n",
              "    [theme=dark] .colab-df-convert:hover {\n",
              "      background-color: #434B5C;\n",
              "      box-shadow: 0px 1px 3px 1px rgba(0, 0, 0, 0.15);\n",
              "      filter: drop-shadow(0px 1px 2px rgba(0, 0, 0, 0.3));\n",
              "      fill: #FFFFFF;\n",
              "    }\n",
              "  </style>\n",
              "\n",
              "      <script>\n",
              "        const buttonEl =\n",
              "          document.querySelector('#df-261aa6b1-d218-4ada-9394-8b63c7e1c219 button.colab-df-convert');\n",
              "        buttonEl.style.display =\n",
              "          google.colab.kernel.accessAllowed ? 'block' : 'none';\n",
              "\n",
              "        async function convertToInteractive(key) {\n",
              "          const element = document.querySelector('#df-261aa6b1-d218-4ada-9394-8b63c7e1c219');\n",
              "          const dataTable =\n",
              "            await google.colab.kernel.invokeFunction('convertToInteractive',\n",
              "                                                     [key], {});\n",
              "          if (!dataTable) return;\n",
              "\n",
              "          const docLinkHtml = 'Like what you see? Visit the ' +\n",
              "            '<a target=\"_blank\" href=https://colab.research.google.com/notebooks/data_table.ipynb>data table notebook</a>'\n",
              "            + ' to learn more about interactive tables.';\n",
              "          element.innerHTML = '';\n",
              "          dataTable['output_type'] = 'display_data';\n",
              "          await google.colab.output.renderOutput(dataTable, element);\n",
              "          const docLink = document.createElement('div');\n",
              "          docLink.innerHTML = docLinkHtml;\n",
              "          element.appendChild(docLink);\n",
              "        }\n",
              "      </script>\n",
              "    </div>\n",
              "  </div>\n",
              "  "
            ],
            "text/plain": [
              "       smoker drink_level dress_preference ambience transport marital_status  \\\n",
              "count     138         138              138      138       138            138   \n",
              "unique      3           3                5        4         4              4   \n",
              "top     false  abstemious    no preference   family    public         single   \n",
              "freq      109          51               53       70        82            122   \n",
              "\n",
              "              hijos interest  personality  religion activity color  budget  \n",
              "count           138      138          138       138      138   138     138  \n",
              "unique            4        5            4         5        5     8       4  \n",
              "top     independent  variety  hard-worker  Catholic  student  blue  medium  \n",
              "freq            113       50           61        99      113    45      91  "
            ]
          },
          "execution_count": 48,
          "metadata": {},
          "output_type": "execute_result"
        }
      ],
      "source": [
        "#Describe the dataset\n",
        "userprofile_df[['smoker', 'drink_level',\n",
        "       'dress_preference', 'ambience', 'transport', 'marital_status', 'hijos',\n",
        "       'interest', 'personality', 'religion', 'activity',\n",
        "       'color','budget']].describe()"
      ]
    },
    {
      "cell_type": "code",
      "execution_count": null,
      "metadata": {
        "colab": {
          "base_uri": "https://localhost:8080/"
        },
        "id": "G0jGt3em2d5S",
        "outputId": "40903c3e-9715-4f5d-defc-1e751c57606d"
      },
      "outputs": [
        {
          "data": {
            "text/plain": [
              "(138, 19)"
            ]
          },
          "execution_count": 49,
          "metadata": {},
          "output_type": "execute_result"
        }
      ],
      "source": [
        "#Getting information of shape \n",
        "userprofile_df.shape"
      ]
    },
    {
      "cell_type": "markdown",
      "metadata": {
        "id": "oaK513F32d5T"
      },
      "source": [
        "#### combined all user according to their userID"
      ]
    },
    {
      "cell_type": "markdown",
      "metadata": {
        "id": "bkv0EGqjUNqG"
      },
      "source": [
        "Now combine all user of all three .csv file according to their userID and get their unique value, so that it is easy to compare."
      ]
    },
    {
      "cell_type": "code",
      "execution_count": null,
      "metadata": {
        "colab": {
          "base_uri": "https://localhost:8080/"
        },
        "id": "sq6tKkek2d5T",
        "outputId": "56feef1d-4232-4527-9c8b-45dba9bc5a71"
      },
      "outputs": [
        {
          "data": {
            "text/plain": [
              "138"
            ]
          },
          "execution_count": 50,
          "metadata": {},
          "output_type": "execute_result"
        }
      ],
      "source": [
        "user_all = np.concatenate((usercuisine_df.userID, userpayment_df.userID, userprofile_df.userID))\n",
        "user_all = np.sort( np.unique(user_all) ) #UserID's of all theree users\n",
        "len(user_all)"
      ]
    },
    {
      "cell_type": "markdown",
      "metadata": {
        "id": "1DqTQ7JUUQeO"
      },
      "source": [
        "There are total 138 users in the database"
      ]
    },
    {
      "cell_type": "code",
      "execution_count": null,
      "metadata": {
        "colab": {
          "base_uri": "https://localhost:8080/"
        },
        "id": "js1uuMq92d5T",
        "outputId": "10b05a3d-63a2-4dbf-9f4a-d9f444b1f0ee"
      },
      "outputs": [
        {
          "data": {
            "text/plain": [
              "array(['userID', 'latitude', 'longitude', 'smoker', 'drink_level',\n",
              "       'dress_preference', 'ambience', 'transport', 'marital_status',\n",
              "       'hijos', 'birth_year', 'interest', 'personality', 'religion',\n",
              "       'activity', 'color', 'weight', 'budget', 'height'], dtype=object)"
            ]
          },
          "execution_count": 51,
          "metadata": {},
          "output_type": "execute_result"
        }
      ],
      "source": [
        "#Check the column present in user profile\n",
        "userprofile_df.columns.values"
      ]
    },
    {
      "cell_type": "markdown",
      "metadata": {
        "id": "IGauRaRDUadk"
      },
      "source": [
        "On analysis, we found that only\n",
        "\n",
        " 'smoker','drink_level','transport','budget','dress_preference','ambience','activity','interest' are more effective features which mostly effect the results. I will take only these features for further analysis."
      ]
    },
    {
      "cell_type": "code",
      "execution_count": null,
      "metadata": {
        "colab": {
          "base_uri": "https://localhost:8080/"
        },
        "id": "1DFO1AM82d5U",
        "outputId": "eb0d2863-1c07-4772-cf20-00f85392f26f"
      },
      "outputs": [
        {
          "name": "stdout",
          "output_type": "stream",
          "text": [
            "false    109\n",
            "true      26\n",
            "?          3\n",
            "Name: smoker, dtype: int64 \n",
            "--------------------------------------\n",
            "\n",
            "abstemious        51\n",
            "casual drinker    47\n",
            "social drinker    40\n",
            "Name: drink_level, dtype: int64 \n",
            "--------------------------------------\n",
            "\n",
            "public       82\n",
            "car owner    35\n",
            "on foot      14\n",
            "?             7\n",
            "Name: transport, dtype: int64 \n",
            "--------------------------------------\n",
            "\n",
            "medium    91\n",
            "low       35\n",
            "?          7\n",
            "high       5\n",
            "Name: budget, dtype: int64 \n",
            "--------------------------------------\n",
            "\n",
            "no preference    53\n",
            "formal           41\n",
            "informal         35\n",
            "?                 5\n",
            "elegant           4\n",
            "Name: dress_preference, dtype: int64 \n",
            "--------------------------------------\n",
            "\n",
            "family      70\n",
            "friends     46\n",
            "solitary    16\n",
            "?            6\n",
            "Name: ambience, dtype: int64 \n",
            "--------------------------------------\n",
            "\n",
            "student          113\n",
            "professional      15\n",
            "?                  7\n",
            "unemployed         2\n",
            "working-class      1\n",
            "Name: activity, dtype: int64 \n",
            "--------------------------------------\n",
            "\n",
            "variety         50\n",
            "technology      36\n",
            "none            30\n",
            "eco-friendly    16\n",
            "retro            6\n",
            "Name: interest, dtype: int64 \n",
            "--------------------------------------\n",
            "\n"
          ]
        }
      ],
      "source": [
        "#Taking some important features from userprofile_df and print their value counts\n",
        "features_user =userprofile_df[['smoker','drink_level','transport','budget','dress_preference','ambience','activity','interest']]\n",
        "#Getting all information about features users\n",
        "for col in features_user.columns.values:\n",
        "        print(features_user[col].value_counts() , \"\\n--------------------------------------\\n\")"
      ]
    },
    {
      "cell_type": "markdown",
      "metadata": {
        "id": "uFgG1KLbUyFt"
      },
      "source": [
        "Here we see that some values from transport and dress_preference have same category, so we replace those value with common value for analysis purpose."
      ]
    },
    {
      "cell_type": "code",
      "execution_count": null,
      "metadata": {
        "colab": {
          "base_uri": "https://localhost:8080/"
        },
        "id": "bI_vb93t2d5U",
        "outputId": "26cacf24-4a50-47cb-f57c-55b7707a9026"
      },
      "outputs": [
        {
          "name": "stderr",
          "output_type": "stream",
          "text": [
            "/usr/local/lib/python3.7/dist-packages/ipykernel_launcher.py:2: SettingWithCopyWarning: \n",
            "A value is trying to be set on a copy of a slice from a DataFrame.\n",
            "Try using .loc[row_indexer,col_indexer] = value instead\n",
            "\n",
            "See the caveats in the documentation: https://pandas.pydata.org/pandas-docs/stable/user_guide/indexing.html#returning-a-view-versus-a-copy\n",
            "  \n",
            "/usr/local/lib/python3.7/dist-packages/ipykernel_launcher.py:3: SettingWithCopyWarning: \n",
            "A value is trying to be set on a copy of a slice from a DataFrame.\n",
            "Try using .loc[row_indexer,col_indexer] = value instead\n",
            "\n",
            "See the caveats in the documentation: https://pandas.pydata.org/pandas-docs/stable/user_guide/indexing.html#returning-a-view-versus-a-copy\n",
            "  This is separate from the ipykernel package so we can avoid doing imports until\n"
          ]
        }
      ],
      "source": [
        "#Replace some values of column which is similar type\n",
        "features_user['transport'] = features_user['transport'].replace({'public':'no car','on foot':'no car'}) \n",
        "features_user['dress_preference'] = features_user['dress_preference'].replace({'elegant':'formal'})  "
      ]
    },
    {
      "cell_type": "code",
      "execution_count": null,
      "metadata": {
        "colab": {
          "base_uri": "https://localhost:8080/"
        },
        "id": "VmYD3dhQ2d5V",
        "outputId": "82d223a8-db4c-44b8-8509-6af7cdf571e0"
      },
      "outputs": [
        {
          "name": "stderr",
          "output_type": "stream",
          "text": [
            "/usr/local/lib/python3.7/dist-packages/ipykernel_launcher.py:3: SettingWithCopyWarning: \n",
            "A value is trying to be set on a copy of a slice from a DataFrame.\n",
            "Try using .loc[row_indexer,col_indexer] = value instead\n",
            "\n",
            "See the caveats in the documentation: https://pandas.pydata.org/pandas-docs/stable/user_guide/indexing.html#returning-a-view-versus-a-copy\n",
            "  This is separate from the ipykernel package so we can avoid doing imports until\n"
          ]
        }
      ],
      "source": [
        "#Replace the '\\?' value with nan to all 'workclass', 'occupation', 'native_country' columns\n",
        "for col in features_user.columns:\n",
        "    features_user[col] = (features_user[col].replace({'?': np.NaN}))"
      ]
    },
    {
      "cell_type": "code",
      "execution_count": null,
      "metadata": {
        "colab": {
          "base_uri": "https://localhost:8080/",
          "height": 268
        },
        "id": "Y5IFKrPY2d5V",
        "outputId": "767c4746-d638-4b28-d3ab-a1a38494dabe"
      },
      "outputs": [
        {
          "data": {
            "text/html": [
              "\n",
              "  <div id=\"df-822411c4-b471-44b0-b968-efba4d10cd3e\">\n",
              "    <div class=\"colab-df-container\">\n",
              "      <div>\n",
              "<style scoped>\n",
              "    .dataframe tbody tr th:only-of-type {\n",
              "        vertical-align: middle;\n",
              "    }\n",
              "\n",
              "    .dataframe tbody tr th {\n",
              "        vertical-align: top;\n",
              "    }\n",
              "\n",
              "    .dataframe thead th {\n",
              "        text-align: right;\n",
              "    }\n",
              "</style>\n",
              "<table border=\"1\" class=\"dataframe\">\n",
              "  <thead>\n",
              "    <tr style=\"text-align: right;\">\n",
              "      <th></th>\n",
              "      <th>smoker</th>\n",
              "      <th>drink_level</th>\n",
              "      <th>transport</th>\n",
              "      <th>budget</th>\n",
              "      <th>dress_preference</th>\n",
              "      <th>ambience</th>\n",
              "      <th>activity</th>\n",
              "      <th>interest</th>\n",
              "    </tr>\n",
              "  </thead>\n",
              "  <tbody>\n",
              "    <tr>\n",
              "      <th>0</th>\n",
              "      <td>false</td>\n",
              "      <td>abstemious</td>\n",
              "      <td>no car</td>\n",
              "      <td>medium</td>\n",
              "      <td>informal</td>\n",
              "      <td>family</td>\n",
              "      <td>student</td>\n",
              "      <td>variety</td>\n",
              "    </tr>\n",
              "    <tr>\n",
              "      <th>1</th>\n",
              "      <td>false</td>\n",
              "      <td>abstemious</td>\n",
              "      <td>no car</td>\n",
              "      <td>low</td>\n",
              "      <td>informal</td>\n",
              "      <td>family</td>\n",
              "      <td>student</td>\n",
              "      <td>technology</td>\n",
              "    </tr>\n",
              "    <tr>\n",
              "      <th>2</th>\n",
              "      <td>false</td>\n",
              "      <td>social drinker</td>\n",
              "      <td>no car</td>\n",
              "      <td>low</td>\n",
              "      <td>formal</td>\n",
              "      <td>family</td>\n",
              "      <td>student</td>\n",
              "      <td>none</td>\n",
              "    </tr>\n",
              "    <tr>\n",
              "      <th>3</th>\n",
              "      <td>false</td>\n",
              "      <td>abstemious</td>\n",
              "      <td>no car</td>\n",
              "      <td>medium</td>\n",
              "      <td>informal</td>\n",
              "      <td>family</td>\n",
              "      <td>professional</td>\n",
              "      <td>variety</td>\n",
              "    </tr>\n",
              "    <tr>\n",
              "      <th>4</th>\n",
              "      <td>false</td>\n",
              "      <td>abstemious</td>\n",
              "      <td>no car</td>\n",
              "      <td>medium</td>\n",
              "      <td>no preference</td>\n",
              "      <td>family</td>\n",
              "      <td>student</td>\n",
              "      <td>none</td>\n",
              "    </tr>\n",
              "  </tbody>\n",
              "</table>\n",
              "</div>\n",
              "      <button class=\"colab-df-convert\" onclick=\"convertToInteractive('df-822411c4-b471-44b0-b968-efba4d10cd3e')\"\n",
              "              title=\"Convert this dataframe to an interactive table.\"\n",
              "              style=\"display:none;\">\n",
              "        \n",
              "  <svg xmlns=\"http://www.w3.org/2000/svg\" height=\"24px\"viewBox=\"0 0 24 24\"\n",
              "       width=\"24px\">\n",
              "    <path d=\"M0 0h24v24H0V0z\" fill=\"none\"/>\n",
              "    <path d=\"M18.56 5.44l.94 2.06.94-2.06 2.06-.94-2.06-.94-.94-2.06-.94 2.06-2.06.94zm-11 1L8.5 8.5l.94-2.06 2.06-.94-2.06-.94L8.5 2.5l-.94 2.06-2.06.94zm10 10l.94 2.06.94-2.06 2.06-.94-2.06-.94-.94-2.06-.94 2.06-2.06.94z\"/><path d=\"M17.41 7.96l-1.37-1.37c-.4-.4-.92-.59-1.43-.59-.52 0-1.04.2-1.43.59L10.3 9.45l-7.72 7.72c-.78.78-.78 2.05 0 2.83L4 21.41c.39.39.9.59 1.41.59.51 0 1.02-.2 1.41-.59l7.78-7.78 2.81-2.81c.8-.78.8-2.07 0-2.86zM5.41 20L4 18.59l7.72-7.72 1.47 1.35L5.41 20z\"/>\n",
              "  </svg>\n",
              "      </button>\n",
              "      \n",
              "  <style>\n",
              "    .colab-df-container {\n",
              "      display:flex;\n",
              "      flex-wrap:wrap;\n",
              "      gap: 12px;\n",
              "    }\n",
              "\n",
              "    .colab-df-convert {\n",
              "      background-color: #E8F0FE;\n",
              "      border: none;\n",
              "      border-radius: 50%;\n",
              "      cursor: pointer;\n",
              "      display: none;\n",
              "      fill: #1967D2;\n",
              "      height: 32px;\n",
              "      padding: 0 0 0 0;\n",
              "      width: 32px;\n",
              "    }\n",
              "\n",
              "    .colab-df-convert:hover {\n",
              "      background-color: #E2EBFA;\n",
              "      box-shadow: 0px 1px 2px rgba(60, 64, 67, 0.3), 0px 1px 3px 1px rgba(60, 64, 67, 0.15);\n",
              "      fill: #174EA6;\n",
              "    }\n",
              "\n",
              "    [theme=dark] .colab-df-convert {\n",
              "      background-color: #3B4455;\n",
              "      fill: #D2E3FC;\n",
              "    }\n",
              "\n",
              "    [theme=dark] .colab-df-convert:hover {\n",
              "      background-color: #434B5C;\n",
              "      box-shadow: 0px 1px 3px 1px rgba(0, 0, 0, 0.15);\n",
              "      filter: drop-shadow(0px 1px 2px rgba(0, 0, 0, 0.3));\n",
              "      fill: #FFFFFF;\n",
              "    }\n",
              "  </style>\n",
              "\n",
              "      <script>\n",
              "        const buttonEl =\n",
              "          document.querySelector('#df-822411c4-b471-44b0-b968-efba4d10cd3e button.colab-df-convert');\n",
              "        buttonEl.style.display =\n",
              "          google.colab.kernel.accessAllowed ? 'block' : 'none';\n",
              "\n",
              "        async function convertToInteractive(key) {\n",
              "          const element = document.querySelector('#df-822411c4-b471-44b0-b968-efba4d10cd3e');\n",
              "          const dataTable =\n",
              "            await google.colab.kernel.invokeFunction('convertToInteractive',\n",
              "                                                     [key], {});\n",
              "          if (!dataTable) return;\n",
              "\n",
              "          const docLinkHtml = 'Like what you see? Visit the ' +\n",
              "            '<a target=\"_blank\" href=https://colab.research.google.com/notebooks/data_table.ipynb>data table notebook</a>'\n",
              "            + ' to learn more about interactive tables.';\n",
              "          element.innerHTML = '';\n",
              "          dataTable['output_type'] = 'display_data';\n",
              "          await google.colab.output.renderOutput(dataTable, element);\n",
              "          const docLink = document.createElement('div');\n",
              "          docLink.innerHTML = docLinkHtml;\n",
              "          element.appendChild(docLink);\n",
              "        }\n",
              "      </script>\n",
              "    </div>\n",
              "  </div>\n",
              "  "
            ],
            "text/plain": [
              "  smoker     drink_level transport  budget dress_preference ambience  \\\n",
              "0  false      abstemious    no car  medium         informal   family   \n",
              "1  false      abstemious    no car     low         informal   family   \n",
              "2  false  social drinker    no car     low           formal   family   \n",
              "3  false      abstemious    no car  medium         informal   family   \n",
              "4  false      abstemious    no car  medium    no preference   family   \n",
              "\n",
              "       activity    interest  \n",
              "0       student     variety  \n",
              "1       student  technology  \n",
              "2       student        none  \n",
              "3  professional     variety  \n",
              "4       student        none  "
            ]
          },
          "execution_count": 55,
          "metadata": {},
          "output_type": "execute_result"
        }
      ],
      "source": [
        "#Drop the row having all value is Nan\n",
        "(features_user.dropna(axis=0, how='all')).head()"
      ]
    },
    {
      "cell_type": "code",
      "execution_count": null,
      "metadata": {
        "id": "9LnHtcG_Y-Ud"
      },
      "outputs": [],
      "source": [
        "features_user.to_csv(r'/content/sample_data/a', index=False)"
      ]
    },
    {
      "cell_type": "markdown",
      "metadata": {
        "id": "-EvjBvuE2d5W"
      },
      "source": [
        "#### Plotting graph of some categorical data from user profile using plotly\n",
        "\n"
      ]
    },
    {
      "cell_type": "code",
      "execution_count": null,
      "metadata": {
        "colab": {
          "base_uri": "https://localhost:8080/"
        },
        "id": "vXfNt4qB4c6y",
        "outputId": "2c30b40f-3aa2-4657-e5f1-3397f3768948"
      },
      "outputs": [
        {
          "name": "stdout",
          "output_type": "stream",
          "text": [
            "Collecting chart-studio\n",
            "  Downloading chart_studio-1.1.0-py3-none-any.whl (64 kB)\n",
            "\u001b[?25l\r\u001b[K     |█████                           | 10 kB 16.5 MB/s eta 0:00:01\r\u001b[K     |██████████▏                     | 20 kB 8.6 MB/s eta 0:00:01\r\u001b[K     |███████████████▎                | 30 kB 7.5 MB/s eta 0:00:01\r\u001b[K     |████████████████████▍           | 40 kB 6.9 MB/s eta 0:00:01\r\u001b[K     |█████████████████████████▍      | 51 kB 5.0 MB/s eta 0:00:01\r\u001b[K     |██████████████████████████████▌ | 61 kB 5.2 MB/s eta 0:00:01\r\u001b[K     |████████████████████████████████| 64 kB 1.9 MB/s \n",
            "\u001b[?25hCollecting retrying>=1.3.3\n",
            "  Downloading retrying-1.3.3.tar.gz (10 kB)\n",
            "Requirement already satisfied: plotly in /usr/local/lib/python3.7/dist-packages (from chart-studio) (5.5.0)\n",
            "Requirement already satisfied: requests in /usr/local/lib/python3.7/dist-packages (from chart-studio) (2.23.0)\n",
            "Requirement already satisfied: six in /usr/local/lib/python3.7/dist-packages (from chart-studio) (1.15.0)\n",
            "Requirement already satisfied: tenacity>=6.2.0 in /usr/local/lib/python3.7/dist-packages (from plotly->chart-studio) (8.0.1)\n",
            "Requirement already satisfied: idna<3,>=2.5 in /usr/local/lib/python3.7/dist-packages (from requests->chart-studio) (2.10)\n",
            "Requirement already satisfied: chardet<4,>=3.0.2 in /usr/local/lib/python3.7/dist-packages (from requests->chart-studio) (3.0.4)\n",
            "Requirement already satisfied: urllib3!=1.25.0,!=1.25.1,<1.26,>=1.21.1 in /usr/local/lib/python3.7/dist-packages (from requests->chart-studio) (1.24.3)\n",
            "Requirement already satisfied: certifi>=2017.4.17 in /usr/local/lib/python3.7/dist-packages (from requests->chart-studio) (2021.10.8)\n",
            "Building wheels for collected packages: retrying\n",
            "  Building wheel for retrying (setup.py) ... \u001b[?25l\u001b[?25hdone\n",
            "  Created wheel for retrying: filename=retrying-1.3.3-py3-none-any.whl size=11447 sha256=14f3126a574dd27dc2b13ea2a0874b8b8fce3c75ad2c6f303de9f79d3a486d32\n",
            "  Stored in directory: /root/.cache/pip/wheels/f9/8d/8d/f6af3f7f9eea3553bc2fe6d53e4b287dad18b06a861ac56ddf\n",
            "Successfully built retrying\n",
            "Installing collected packages: retrying, chart-studio\n",
            "Successfully installed chart-studio-1.1.0 retrying-1.3.3\n"
          ]
        }
      ],
      "source": [
        "!pip install chart-studio"
      ]
    },
    {
      "cell_type": "code",
      "execution_count": null,
      "metadata": {
        "colab": {
          "base_uri": "https://localhost:8080/",
          "height": 37
        },
        "id": "gaYeRmo_2d5W",
        "outputId": "2005ae9d-1258-45e1-ff2a-29bd5fba9345"
      },
      "outputs": [
        {
          "data": {
            "text/html": [
              "        <script type=\"text/javascript\">\n",
              "        window.PlotlyConfig = {MathJaxConfig: 'local'};\n",
              "        if (window.MathJax) {MathJax.Hub.Config({SVG: {font: \"STIX-Web\"}});}\n",
              "        if (typeof require !== 'undefined') {\n",
              "        require.undef(\"plotly\");\n",
              "        requirejs.config({\n",
              "            paths: {\n",
              "                'plotly': ['https://cdn.plot.ly/plotly-2.8.3.min']\n",
              "            }\n",
              "        });\n",
              "        require(['plotly'], function(Plotly) {\n",
              "            window._Plotly = Plotly;\n",
              "        });\n",
              "        }\n",
              "        </script>\n",
              "        "
            ]
          },
          "metadata": {},
          "output_type": "display_data"
        }
      ],
      "source": [
        "#importing the packeges\n",
        "from IPython.core.interactiveshell import InteractiveShell     #An enhanced, interactive shell for Python\n",
        "#‘all’, ‘last’, ‘last_expr’ or ‘none’, ‘last_expr_or_assign’\n",
        "#specifying which nodes should be run interactively \n",
        "\n",
        "from chart_studio import plotly\n",
        "\n",
        "InteractiveShell.ast_node_interactivity = \"all\"   #Options:\t'all','last','last_expr','none','last_expr_or_assign'\n",
        "\n",
        "import numpy as np # linear algebra\n",
        "import pandas as pd # data processing\n",
        "\n",
        "#Plotly Offline brings interactive Plotly graphs to the offline (local) environment\n",
        "import plotly.offline as py\n",
        "import plotly.figure_factory as ff\n",
        "import plotly.graph_objs as gobj\n",
        "import chart_studio.plotly as plty\n",
        "from plotly.graph_objs import *\n",
        "py.init_notebook_mode(connected=True)  # initiate notebook for offline plot"
      ]
    },
    {
      "cell_type": "code",
      "execution_count": null,
      "metadata": {
        "collapsed": true,
        "id": "SSgz7gUI2d5W"
      },
      "outputs": [],
      "source": [
        "#Getting some features of categorical data which is important\n",
        "features_user_col=features_user.columns"
      ]
    },
    {
      "cell_type": "code",
      "execution_count": null,
      "metadata": {
        "collapsed": true,
        "id": "bQmXJRWS2d5X"
      },
      "outputs": [],
      "source": [
        "#Method for plotting \n",
        "\n",
        "def plot_value_counts(col_name,table=False,bar=False):\n",
        "    \n",
        "    values_count = pd.DataFrame(features_user[col_name].value_counts())\n",
        "    values_count.columns = ['count']\n",
        "   \n",
        "    # Converting the index column into value count\n",
        "    values_count[col_name] = [ str(i) for i in values_count.index ]\n",
        "    \n",
        "    # add a column with the percentage of each data point to the sum of all data points\n",
        "    values_count['percent'] = values_count['count'].div(values_count['count'].sum()).multiply(100).round(2)\n",
        "    \n",
        "    # change the order of the columns.\n",
        "    values_count = values_count.reindex([col_name,'count','percent'],axis=1)\n",
        "    values_count.reset_index(drop=True,inplace=True)    \n",
        "    \n",
        "    if bar :\n",
        "        # add a font size for annotations0 which is relevant to the length of the data points.\n",
        "        font_size = 20 - (.25 * len(values_count[col_name]))\n",
        "        \n",
        "        trace0 = gobj.Bar( x = values_count[col_name], y = values_count['count'] )\n",
        "        data_ = gobj.Data( [trace0] )\n",
        "        \n",
        "        annotations0 = [ dict(x = xi,\n",
        "                             y = yi, \n",
        "                             showarrow=False,\n",
        "                             font={'size':font_size},\n",
        "                             text = \"{:,}\".format(yi),\n",
        "                             xanchor='center',\n",
        "                             yanchor='bottom' )\n",
        "                       for xi,yi,_ in values_count.values ]\n",
        "        \n",
        "        annotations1 = [ dict( x = xi,\n",
        "                              y = yi/2,\n",
        "                              showarrow = False,\n",
        "                              text = \"{}%\".format(pi),\n",
        "                              xanchor = 'center',\n",
        "                              yanchor = 'center',\n",
        "                              font = {'color':'yellow'})\n",
        "                         for xi,yi,pi in values_count.values if pi > 10 ]\n",
        "        \n",
        "        annotations = annotations0 + annotations1                       \n",
        "        \n",
        "        layout = gobj.Layout( title = col_name.replace('_',' ').capitalize(),\n",
        "                             titlefont = {'size': 50},\n",
        "                             yaxis = {'title':'count'},\n",
        "                             xaxis = {'type':'category'},\n",
        "                            annotations = annotations  )\n",
        "        figure = gobj.Figure( data = data_, layout = layout )\n",
        "        py.iplot(figure)\n",
        "    \n",
        "    if table : \n",
        "        values_count['count'] = values_count['count'].apply(lambda d : \"{:,}\".format(d))\n",
        "        table = ff.create_table(values_count,index_title=\"race\")      #Creating the table for race\n",
        "        py.iplot(table)\n",
        "    \n",
        "    return values_count"
      ]
    },
    {
      "cell_type": "markdown",
      "metadata": {
        "id": "piNCanFc2d5X"
      },
      "source": [
        "### Combined Analysis"
      ]
    },
    {
      "cell_type": "markdown",
      "metadata": {
        "id": "twTjL9PMVYAY"
      },
      "source": [
        "Now we will make a data frame of all 938 restaurant and 138 users for rating purpose. Here initially i'll put all the value of rating of all category (rating,food_rating,service_rating) restaurant-user combination to -1"
      ]
    },
    {
      "cell_type": "code",
      "execution_count": null,
      "metadata": {
        "collapsed": true,
        "id": "R_WoYPOb2d5Y"
      },
      "outputs": [],
      "source": [
        "#Combined the rating\n",
        "combined_rating = pd.DataFrame(np.zeros((len(restaurant_all),len(user_all)))-1.0,columns=user_all,index=restaurant_all)"
      ]
    },
    {
      "cell_type": "code",
      "execution_count": null,
      "metadata": {
        "collapsed": true,
        "id": "eBb7KE852d5Y"
      },
      "outputs": [],
      "source": [
        "#Assign a food rating\n",
        "food_rating =combined_rating.copy()  "
      ]
    },
    {
      "cell_type": "code",
      "execution_count": null,
      "metadata": {
        "collapsed": true,
        "id": "hBSQ84b42d5Y"
      },
      "outputs": [],
      "source": [
        "#Assign a service rating\n",
        "service_rating = combined_rating.copy()"
      ]
    },
    {
      "cell_type": "markdown",
      "metadata": {
        "id": "9_U-FlXvVD-U"
      },
      "source": [
        "Now we assign some rating value to those pair of restaurant-user which have some rating in rating_final.csv file and rest rating remain -1."
      ]
    },
    {
      "cell_type": "code",
      "execution_count": null,
      "metadata": {
        "collapsed": true,
        "id": "46s0i0wQ2d5Z"
      },
      "outputs": [],
      "source": [
        "#Assign a particular value of rating for those user who has given rating\n",
        "for i,j,p,q,r in zip(rating_final_df.placeID, rating_final_df.userID, rating_final_df.rating, rating_final_df.food_rating, \n",
        "                            rating_final_df.service_rating):\n",
        "    combined_rating.loc[i,j] = p\n",
        "    food_rating.loc[i,j] = q\n",
        "    service_rating.loc[i,j] = r"
      ]
    },
    {
      "cell_type": "markdown",
      "metadata": {
        "id": "tgHY_pJSVORi"
      },
      "source": [
        "Now i'll review all rating of user-restaurant combination which having some rating in rating_final.csv file.Now assign 0 for no rating and 1 for rating."
      ]
    },
    {
      "cell_type": "code",
      "execution_count": null,
      "metadata": {
        "collapsed": true,
        "id": "oL4kJrcH2d5Z"
      },
      "outputs": [],
      "source": [
        "#Rastaurant-user pair rating, 0 means no rating and 1 means yes rating\n",
        "review_rate = pd.DataFrame( np.zeros(combined_rating.shape),columns=user_all,index=restaurant_all)\n",
        "review_rate[combined_rating >= 0] = 1"
      ]
    },
    {
      "cell_type": "code",
      "execution_count": null,
      "metadata": {
        "collapsed": true,
        "id": "ZKU4BHRO2d5a"
      },
      "outputs": [],
      "source": [
        "# For the different cuisine categories of the restaurants use dummy variable\n",
        "cuisine_res = pd.get_dummies(chefmozcuisine_df,columns=['Rcuisine'])"
      ]
    },
    {
      "cell_type": "code",
      "execution_count": null,
      "metadata": {
        "collapsed": true,
        "id": "8Zs3e_sb2d5a"
      },
      "outputs": [],
      "source": [
        "#Applying groupby on placeID for removing duplicate restaurant ID's\n",
        "cuisine_res = cuisine_res.groupby('placeID',as_index=False).sum()"
      ]
    },
    {
      "cell_type": "code",
      "execution_count": null,
      "metadata": {
        "colab": {
          "base_uri": "https://localhost:8080/",
          "height": 297
        },
        "id": "PxzPy4wN2d5a",
        "outputId": "e9c5a48f-303d-401f-d0b2-db6a7805b538"
      },
      "outputs": [
        {
          "data": {
            "text/html": [
              "\n",
              "  <div id=\"df-c9e5b0de-e4e6-4c71-a55f-4b896bd298e6\">\n",
              "    <div class=\"colab-df-container\">\n",
              "      <div>\n",
              "<style scoped>\n",
              "    .dataframe tbody tr th:only-of-type {\n",
              "        vertical-align: middle;\n",
              "    }\n",
              "\n",
              "    .dataframe tbody tr th {\n",
              "        vertical-align: top;\n",
              "    }\n",
              "\n",
              "    .dataframe thead th {\n",
              "        text-align: right;\n",
              "    }\n",
              "</style>\n",
              "<table border=\"1\" class=\"dataframe\">\n",
              "  <thead>\n",
              "    <tr style=\"text-align: right;\">\n",
              "      <th></th>\n",
              "      <th>placeID</th>\n",
              "      <th>Rcuisine_Afghan</th>\n",
              "      <th>Rcuisine_African</th>\n",
              "      <th>Rcuisine_American</th>\n",
              "      <th>Rcuisine_Armenian</th>\n",
              "      <th>Rcuisine_Asian</th>\n",
              "      <th>Rcuisine_Bagels</th>\n",
              "      <th>Rcuisine_Bakery</th>\n",
              "      <th>Rcuisine_Bar</th>\n",
              "      <th>Rcuisine_Bar_Pub_Brewery</th>\n",
              "      <th>...</th>\n",
              "      <th>Rcuisine_Soup</th>\n",
              "      <th>Rcuisine_Southern</th>\n",
              "      <th>Rcuisine_Southwestern</th>\n",
              "      <th>Rcuisine_Spanish</th>\n",
              "      <th>Rcuisine_Steaks</th>\n",
              "      <th>Rcuisine_Sushi</th>\n",
              "      <th>Rcuisine_Thai</th>\n",
              "      <th>Rcuisine_Turkish</th>\n",
              "      <th>Rcuisine_Vegetarian</th>\n",
              "      <th>Rcuisine_Vietnamese</th>\n",
              "    </tr>\n",
              "  </thead>\n",
              "  <tbody>\n",
              "    <tr>\n",
              "      <th>0</th>\n",
              "      <td>132001</td>\n",
              "      <td>0</td>\n",
              "      <td>0</td>\n",
              "      <td>0</td>\n",
              "      <td>0</td>\n",
              "      <td>0</td>\n",
              "      <td>0</td>\n",
              "      <td>0</td>\n",
              "      <td>0</td>\n",
              "      <td>0</td>\n",
              "      <td>...</td>\n",
              "      <td>0</td>\n",
              "      <td>0</td>\n",
              "      <td>0</td>\n",
              "      <td>0</td>\n",
              "      <td>0</td>\n",
              "      <td>0</td>\n",
              "      <td>0</td>\n",
              "      <td>0</td>\n",
              "      <td>0</td>\n",
              "      <td>0</td>\n",
              "    </tr>\n",
              "    <tr>\n",
              "      <th>1</th>\n",
              "      <td>132002</td>\n",
              "      <td>0</td>\n",
              "      <td>0</td>\n",
              "      <td>0</td>\n",
              "      <td>0</td>\n",
              "      <td>0</td>\n",
              "      <td>0</td>\n",
              "      <td>0</td>\n",
              "      <td>0</td>\n",
              "      <td>0</td>\n",
              "      <td>...</td>\n",
              "      <td>0</td>\n",
              "      <td>0</td>\n",
              "      <td>0</td>\n",
              "      <td>0</td>\n",
              "      <td>0</td>\n",
              "      <td>0</td>\n",
              "      <td>0</td>\n",
              "      <td>0</td>\n",
              "      <td>0</td>\n",
              "      <td>0</td>\n",
              "    </tr>\n",
              "    <tr>\n",
              "      <th>2</th>\n",
              "      <td>132003</td>\n",
              "      <td>0</td>\n",
              "      <td>0</td>\n",
              "      <td>0</td>\n",
              "      <td>0</td>\n",
              "      <td>0</td>\n",
              "      <td>0</td>\n",
              "      <td>0</td>\n",
              "      <td>0</td>\n",
              "      <td>0</td>\n",
              "      <td>...</td>\n",
              "      <td>0</td>\n",
              "      <td>0</td>\n",
              "      <td>0</td>\n",
              "      <td>0</td>\n",
              "      <td>0</td>\n",
              "      <td>0</td>\n",
              "      <td>0</td>\n",
              "      <td>0</td>\n",
              "      <td>0</td>\n",
              "      <td>0</td>\n",
              "    </tr>\n",
              "    <tr>\n",
              "      <th>3</th>\n",
              "      <td>132004</td>\n",
              "      <td>0</td>\n",
              "      <td>0</td>\n",
              "      <td>0</td>\n",
              "      <td>0</td>\n",
              "      <td>0</td>\n",
              "      <td>0</td>\n",
              "      <td>0</td>\n",
              "      <td>0</td>\n",
              "      <td>0</td>\n",
              "      <td>...</td>\n",
              "      <td>0</td>\n",
              "      <td>0</td>\n",
              "      <td>0</td>\n",
              "      <td>0</td>\n",
              "      <td>0</td>\n",
              "      <td>0</td>\n",
              "      <td>0</td>\n",
              "      <td>0</td>\n",
              "      <td>0</td>\n",
              "      <td>0</td>\n",
              "    </tr>\n",
              "    <tr>\n",
              "      <th>4</th>\n",
              "      <td>132005</td>\n",
              "      <td>0</td>\n",
              "      <td>0</td>\n",
              "      <td>0</td>\n",
              "      <td>0</td>\n",
              "      <td>0</td>\n",
              "      <td>0</td>\n",
              "      <td>0</td>\n",
              "      <td>0</td>\n",
              "      <td>0</td>\n",
              "      <td>...</td>\n",
              "      <td>0</td>\n",
              "      <td>0</td>\n",
              "      <td>0</td>\n",
              "      <td>0</td>\n",
              "      <td>0</td>\n",
              "      <td>0</td>\n",
              "      <td>0</td>\n",
              "      <td>0</td>\n",
              "      <td>0</td>\n",
              "      <td>0</td>\n",
              "    </tr>\n",
              "  </tbody>\n",
              "</table>\n",
              "<p>5 rows × 60 columns</p>\n",
              "</div>\n",
              "      <button class=\"colab-df-convert\" onclick=\"convertToInteractive('df-c9e5b0de-e4e6-4c71-a55f-4b896bd298e6')\"\n",
              "              title=\"Convert this dataframe to an interactive table.\"\n",
              "              style=\"display:none;\">\n",
              "        \n",
              "  <svg xmlns=\"http://www.w3.org/2000/svg\" height=\"24px\"viewBox=\"0 0 24 24\"\n",
              "       width=\"24px\">\n",
              "    <path d=\"M0 0h24v24H0V0z\" fill=\"none\"/>\n",
              "    <path d=\"M18.56 5.44l.94 2.06.94-2.06 2.06-.94-2.06-.94-.94-2.06-.94 2.06-2.06.94zm-11 1L8.5 8.5l.94-2.06 2.06-.94-2.06-.94L8.5 2.5l-.94 2.06-2.06.94zm10 10l.94 2.06.94-2.06 2.06-.94-2.06-.94-.94-2.06-.94 2.06-2.06.94z\"/><path d=\"M17.41 7.96l-1.37-1.37c-.4-.4-.92-.59-1.43-.59-.52 0-1.04.2-1.43.59L10.3 9.45l-7.72 7.72c-.78.78-.78 2.05 0 2.83L4 21.41c.39.39.9.59 1.41.59.51 0 1.02-.2 1.41-.59l7.78-7.78 2.81-2.81c.8-.78.8-2.07 0-2.86zM5.41 20L4 18.59l7.72-7.72 1.47 1.35L5.41 20z\"/>\n",
              "  </svg>\n",
              "      </button>\n",
              "      \n",
              "  <style>\n",
              "    .colab-df-container {\n",
              "      display:flex;\n",
              "      flex-wrap:wrap;\n",
              "      gap: 12px;\n",
              "    }\n",
              "\n",
              "    .colab-df-convert {\n",
              "      background-color: #E8F0FE;\n",
              "      border: none;\n",
              "      border-radius: 50%;\n",
              "      cursor: pointer;\n",
              "      display: none;\n",
              "      fill: #1967D2;\n",
              "      height: 32px;\n",
              "      padding: 0 0 0 0;\n",
              "      width: 32px;\n",
              "    }\n",
              "\n",
              "    .colab-df-convert:hover {\n",
              "      background-color: #E2EBFA;\n",
              "      box-shadow: 0px 1px 2px rgba(60, 64, 67, 0.3), 0px 1px 3px 1px rgba(60, 64, 67, 0.15);\n",
              "      fill: #174EA6;\n",
              "    }\n",
              "\n",
              "    [theme=dark] .colab-df-convert {\n",
              "      background-color: #3B4455;\n",
              "      fill: #D2E3FC;\n",
              "    }\n",
              "\n",
              "    [theme=dark] .colab-df-convert:hover {\n",
              "      background-color: #434B5C;\n",
              "      box-shadow: 0px 1px 3px 1px rgba(0, 0, 0, 0.15);\n",
              "      filter: drop-shadow(0px 1px 2px rgba(0, 0, 0, 0.3));\n",
              "      fill: #FFFFFF;\n",
              "    }\n",
              "  </style>\n",
              "\n",
              "      <script>\n",
              "        const buttonEl =\n",
              "          document.querySelector('#df-c9e5b0de-e4e6-4c71-a55f-4b896bd298e6 button.colab-df-convert');\n",
              "        buttonEl.style.display =\n",
              "          google.colab.kernel.accessAllowed ? 'block' : 'none';\n",
              "\n",
              "        async function convertToInteractive(key) {\n",
              "          const element = document.querySelector('#df-c9e5b0de-e4e6-4c71-a55f-4b896bd298e6');\n",
              "          const dataTable =\n",
              "            await google.colab.kernel.invokeFunction('convertToInteractive',\n",
              "                                                     [key], {});\n",
              "          if (!dataTable) return;\n",
              "\n",
              "          const docLinkHtml = 'Like what you see? Visit the ' +\n",
              "            '<a target=\"_blank\" href=https://colab.research.google.com/notebooks/data_table.ipynb>data table notebook</a>'\n",
              "            + ' to learn more about interactive tables.';\n",
              "          element.innerHTML = '';\n",
              "          dataTable['output_type'] = 'display_data';\n",
              "          await google.colab.output.renderOutput(dataTable, element);\n",
              "          const docLink = document.createElement('div');\n",
              "          docLink.innerHTML = docLinkHtml;\n",
              "          element.appendChild(docLink);\n",
              "        }\n",
              "      </script>\n",
              "    </div>\n",
              "  </div>\n",
              "  "
            ],
            "text/plain": [
              "   placeID  Rcuisine_Afghan  Rcuisine_African  Rcuisine_American  \\\n",
              "0   132001                0                 0                  0   \n",
              "1   132002                0                 0                  0   \n",
              "2   132003                0                 0                  0   \n",
              "3   132004                0                 0                  0   \n",
              "4   132005                0                 0                  0   \n",
              "\n",
              "   Rcuisine_Armenian  Rcuisine_Asian  Rcuisine_Bagels  Rcuisine_Bakery  \\\n",
              "0                  0               0                0                0   \n",
              "1                  0               0                0                0   \n",
              "2                  0               0                0                0   \n",
              "3                  0               0                0                0   \n",
              "4                  0               0                0                0   \n",
              "\n",
              "   Rcuisine_Bar  Rcuisine_Bar_Pub_Brewery  ...  Rcuisine_Soup  \\\n",
              "0             0                         0  ...              0   \n",
              "1             0                         0  ...              0   \n",
              "2             0                         0  ...              0   \n",
              "3             0                         0  ...              0   \n",
              "4             0                         0  ...              0   \n",
              "\n",
              "   Rcuisine_Southern  Rcuisine_Southwestern  Rcuisine_Spanish  \\\n",
              "0                  0                      0                 0   \n",
              "1                  0                      0                 0   \n",
              "2                  0                      0                 0   \n",
              "3                  0                      0                 0   \n",
              "4                  0                      0                 0   \n",
              "\n",
              "   Rcuisine_Steaks  Rcuisine_Sushi  Rcuisine_Thai  Rcuisine_Turkish  \\\n",
              "0                0               0              0                 0   \n",
              "1                0               0              0                 0   \n",
              "2                0               0              0                 0   \n",
              "3                0               0              0                 0   \n",
              "4                0               0              0                 0   \n",
              "\n",
              "   Rcuisine_Vegetarian  Rcuisine_Vietnamese  \n",
              "0                    0                    0  \n",
              "1                    0                    0  \n",
              "2                    0                    0  \n",
              "3                    0                    0  \n",
              "4                    0                    0  \n",
              "\n",
              "[5 rows x 60 columns]"
            ]
          },
          "execution_count": 68,
          "metadata": {},
          "output_type": "execute_result"
        }
      ],
      "source": [
        "cuisine_res.head()"
      ]
    },
    {
      "cell_type": "code",
      "execution_count": null,
      "metadata": {
        "collapsed": true,
        "id": "DF2DYzIA2d5a"
      },
      "outputs": [],
      "source": [
        "#For different cuisine categories of the restaurants use dummy variable\n",
        "parking_res = pd.get_dummies(chefmozparking_df,columns=['parking_lot'])"
      ]
    },
    {
      "cell_type": "code",
      "execution_count": null,
      "metadata": {
        "collapsed": true,
        "id": "j1TeTT7B2d5b"
      },
      "outputs": [],
      "source": [
        "#Applying groupby on placeID for removing duplicate restaurant ID's\n",
        "parking_res= parking_res.groupby('placeID',as_index=False).sum()"
      ]
    },
    {
      "cell_type": "code",
      "execution_count": null,
      "metadata": {
        "colab": {
          "base_uri": "https://localhost:8080/",
          "height": 285
        },
        "id": "OxSA_qu22d5b",
        "outputId": "85ea6e5c-d0be-4994-f894-047af0479d02"
      },
      "outputs": [
        {
          "data": {
            "text/html": [
              "\n",
              "  <div id=\"df-9de3c35e-6441-4fb5-b577-7663c9cc94c7\">\n",
              "    <div class=\"colab-df-container\">\n",
              "      <div>\n",
              "<style scoped>\n",
              "    .dataframe tbody tr th:only-of-type {\n",
              "        vertical-align: middle;\n",
              "    }\n",
              "\n",
              "    .dataframe tbody tr th {\n",
              "        vertical-align: top;\n",
              "    }\n",
              "\n",
              "    .dataframe thead th {\n",
              "        text-align: right;\n",
              "    }\n",
              "</style>\n",
              "<table border=\"1\" class=\"dataframe\">\n",
              "  <thead>\n",
              "    <tr style=\"text-align: right;\">\n",
              "      <th></th>\n",
              "      <th>placeID</th>\n",
              "      <th>parking_lot_fee</th>\n",
              "      <th>parking_lot_none</th>\n",
              "      <th>parking_lot_public</th>\n",
              "      <th>parking_lot_street</th>\n",
              "      <th>parking_lot_valet parking</th>\n",
              "      <th>parking_lot_validated parking</th>\n",
              "      <th>parking_lot_yes</th>\n",
              "    </tr>\n",
              "  </thead>\n",
              "  <tbody>\n",
              "    <tr>\n",
              "      <th>0</th>\n",
              "      <td>132012</td>\n",
              "      <td>0</td>\n",
              "      <td>0</td>\n",
              "      <td>1</td>\n",
              "      <td>1</td>\n",
              "      <td>0</td>\n",
              "      <td>0</td>\n",
              "      <td>0</td>\n",
              "    </tr>\n",
              "    <tr>\n",
              "      <th>1</th>\n",
              "      <td>132023</td>\n",
              "      <td>1</td>\n",
              "      <td>0</td>\n",
              "      <td>1</td>\n",
              "      <td>0</td>\n",
              "      <td>0</td>\n",
              "      <td>0</td>\n",
              "      <td>0</td>\n",
              "    </tr>\n",
              "    <tr>\n",
              "      <th>2</th>\n",
              "      <td>132024</td>\n",
              "      <td>0</td>\n",
              "      <td>0</td>\n",
              "      <td>0</td>\n",
              "      <td>1</td>\n",
              "      <td>0</td>\n",
              "      <td>0</td>\n",
              "      <td>0</td>\n",
              "    </tr>\n",
              "    <tr>\n",
              "      <th>3</th>\n",
              "      <td>132026</td>\n",
              "      <td>1</td>\n",
              "      <td>0</td>\n",
              "      <td>0</td>\n",
              "      <td>0</td>\n",
              "      <td>0</td>\n",
              "      <td>0</td>\n",
              "      <td>0</td>\n",
              "    </tr>\n",
              "    <tr>\n",
              "      <th>4</th>\n",
              "      <td>132030</td>\n",
              "      <td>0</td>\n",
              "      <td>0</td>\n",
              "      <td>0</td>\n",
              "      <td>1</td>\n",
              "      <td>0</td>\n",
              "      <td>0</td>\n",
              "      <td>0</td>\n",
              "    </tr>\n",
              "  </tbody>\n",
              "</table>\n",
              "</div>\n",
              "      <button class=\"colab-df-convert\" onclick=\"convertToInteractive('df-9de3c35e-6441-4fb5-b577-7663c9cc94c7')\"\n",
              "              title=\"Convert this dataframe to an interactive table.\"\n",
              "              style=\"display:none;\">\n",
              "        \n",
              "  <svg xmlns=\"http://www.w3.org/2000/svg\" height=\"24px\"viewBox=\"0 0 24 24\"\n",
              "       width=\"24px\">\n",
              "    <path d=\"M0 0h24v24H0V0z\" fill=\"none\"/>\n",
              "    <path d=\"M18.56 5.44l.94 2.06.94-2.06 2.06-.94-2.06-.94-.94-2.06-.94 2.06-2.06.94zm-11 1L8.5 8.5l.94-2.06 2.06-.94-2.06-.94L8.5 2.5l-.94 2.06-2.06.94zm10 10l.94 2.06.94-2.06 2.06-.94-2.06-.94-.94-2.06-.94 2.06-2.06.94z\"/><path d=\"M17.41 7.96l-1.37-1.37c-.4-.4-.92-.59-1.43-.59-.52 0-1.04.2-1.43.59L10.3 9.45l-7.72 7.72c-.78.78-.78 2.05 0 2.83L4 21.41c.39.39.9.59 1.41.59.51 0 1.02-.2 1.41-.59l7.78-7.78 2.81-2.81c.8-.78.8-2.07 0-2.86zM5.41 20L4 18.59l7.72-7.72 1.47 1.35L5.41 20z\"/>\n",
              "  </svg>\n",
              "      </button>\n",
              "      \n",
              "  <style>\n",
              "    .colab-df-container {\n",
              "      display:flex;\n",
              "      flex-wrap:wrap;\n",
              "      gap: 12px;\n",
              "    }\n",
              "\n",
              "    .colab-df-convert {\n",
              "      background-color: #E8F0FE;\n",
              "      border: none;\n",
              "      border-radius: 50%;\n",
              "      cursor: pointer;\n",
              "      display: none;\n",
              "      fill: #1967D2;\n",
              "      height: 32px;\n",
              "      padding: 0 0 0 0;\n",
              "      width: 32px;\n",
              "    }\n",
              "\n",
              "    .colab-df-convert:hover {\n",
              "      background-color: #E2EBFA;\n",
              "      box-shadow: 0px 1px 2px rgba(60, 64, 67, 0.3), 0px 1px 3px 1px rgba(60, 64, 67, 0.15);\n",
              "      fill: #174EA6;\n",
              "    }\n",
              "\n",
              "    [theme=dark] .colab-df-convert {\n",
              "      background-color: #3B4455;\n",
              "      fill: #D2E3FC;\n",
              "    }\n",
              "\n",
              "    [theme=dark] .colab-df-convert:hover {\n",
              "      background-color: #434B5C;\n",
              "      box-shadow: 0px 1px 3px 1px rgba(0, 0, 0, 0.15);\n",
              "      filter: drop-shadow(0px 1px 2px rgba(0, 0, 0, 0.3));\n",
              "      fill: #FFFFFF;\n",
              "    }\n",
              "  </style>\n",
              "\n",
              "      <script>\n",
              "        const buttonEl =\n",
              "          document.querySelector('#df-9de3c35e-6441-4fb5-b577-7663c9cc94c7 button.colab-df-convert');\n",
              "        buttonEl.style.display =\n",
              "          google.colab.kernel.accessAllowed ? 'block' : 'none';\n",
              "\n",
              "        async function convertToInteractive(key) {\n",
              "          const element = document.querySelector('#df-9de3c35e-6441-4fb5-b577-7663c9cc94c7');\n",
              "          const dataTable =\n",
              "            await google.colab.kernel.invokeFunction('convertToInteractive',\n",
              "                                                     [key], {});\n",
              "          if (!dataTable) return;\n",
              "\n",
              "          const docLinkHtml = 'Like what you see? Visit the ' +\n",
              "            '<a target=\"_blank\" href=https://colab.research.google.com/notebooks/data_table.ipynb>data table notebook</a>'\n",
              "            + ' to learn more about interactive tables.';\n",
              "          element.innerHTML = '';\n",
              "          dataTable['output_type'] = 'display_data';\n",
              "          await google.colab.output.renderOutput(dataTable, element);\n",
              "          const docLink = document.createElement('div');\n",
              "          docLink.innerHTML = docLinkHtml;\n",
              "          element.appendChild(docLink);\n",
              "        }\n",
              "      </script>\n",
              "    </div>\n",
              "  </div>\n",
              "  "
            ],
            "text/plain": [
              "   placeID  parking_lot_fee  parking_lot_none  parking_lot_public  \\\n",
              "0   132012                0                 0                   1   \n",
              "1   132023                1                 0                   1   \n",
              "2   132024                0                 0                   0   \n",
              "3   132026                1                 0                   0   \n",
              "4   132030                0                 0                   0   \n",
              "\n",
              "   parking_lot_street  parking_lot_valet parking  \\\n",
              "0                   1                          0   \n",
              "1                   0                          0   \n",
              "2                   1                          0   \n",
              "3                   0                          0   \n",
              "4                   1                          0   \n",
              "\n",
              "   parking_lot_validated parking  parking_lot_yes  \n",
              "0                              0                0  \n",
              "1                              0                0  \n",
              "2                              0                0  \n",
              "3                              0                0  \n",
              "4                              0                0  "
            ]
          },
          "execution_count": 71,
          "metadata": {},
          "output_type": "execute_result"
        }
      ],
      "source": [
        "parking_res.head()"
      ]
    },
    {
      "cell_type": "code",
      "execution_count": null,
      "metadata": {
        "collapsed": true,
        "id": "15rTnJPm2d5b"
      },
      "outputs": [],
      "source": [
        "# Taking some features which are more relevant\n",
        "features_res = geoplaces2_df[['placeID','alcohol','smoking_area','Rambience','other_services','price','dress_code',\n",
        "                    'accessibility','area']]"
      ]
    },
    {
      "cell_type": "code",
      "execution_count": null,
      "metadata": {
        "colab": {
          "base_uri": "https://localhost:8080/",
          "height": 268
        },
        "id": "CANP-BA02d5b",
        "outputId": "ce51adf2-3a2d-4b51-e201-7265c408b59c"
      },
      "outputs": [
        {
          "data": {
            "text/html": [
              "\n",
              "  <div id=\"df-a73b1495-c6b0-4662-91de-5c182f712eac\">\n",
              "    <div class=\"colab-df-container\">\n",
              "      <div>\n",
              "<style scoped>\n",
              "    .dataframe tbody tr th:only-of-type {\n",
              "        vertical-align: middle;\n",
              "    }\n",
              "\n",
              "    .dataframe tbody tr th {\n",
              "        vertical-align: top;\n",
              "    }\n",
              "\n",
              "    .dataframe thead th {\n",
              "        text-align: right;\n",
              "    }\n",
              "</style>\n",
              "<table border=\"1\" class=\"dataframe\">\n",
              "  <thead>\n",
              "    <tr style=\"text-align: right;\">\n",
              "      <th></th>\n",
              "      <th>placeID</th>\n",
              "    </tr>\n",
              "  </thead>\n",
              "  <tbody>\n",
              "    <tr>\n",
              "      <th>0</th>\n",
              "      <td>132001</td>\n",
              "    </tr>\n",
              "    <tr>\n",
              "      <th>1</th>\n",
              "      <td>132002</td>\n",
              "    </tr>\n",
              "    <tr>\n",
              "      <th>2</th>\n",
              "      <td>132003</td>\n",
              "    </tr>\n",
              "    <tr>\n",
              "      <th>3</th>\n",
              "      <td>132004</td>\n",
              "    </tr>\n",
              "    <tr>\n",
              "      <th>4</th>\n",
              "      <td>132005</td>\n",
              "    </tr>\n",
              "  </tbody>\n",
              "</table>\n",
              "</div>\n",
              "      <button class=\"colab-df-convert\" onclick=\"convertToInteractive('df-a73b1495-c6b0-4662-91de-5c182f712eac')\"\n",
              "              title=\"Convert this dataframe to an interactive table.\"\n",
              "              style=\"display:none;\">\n",
              "        \n",
              "  <svg xmlns=\"http://www.w3.org/2000/svg\" height=\"24px\"viewBox=\"0 0 24 24\"\n",
              "       width=\"24px\">\n",
              "    <path d=\"M0 0h24v24H0V0z\" fill=\"none\"/>\n",
              "    <path d=\"M18.56 5.44l.94 2.06.94-2.06 2.06-.94-2.06-.94-.94-2.06-.94 2.06-2.06.94zm-11 1L8.5 8.5l.94-2.06 2.06-.94-2.06-.94L8.5 2.5l-.94 2.06-2.06.94zm10 10l.94 2.06.94-2.06 2.06-.94-2.06-.94-.94-2.06-.94 2.06-2.06.94z\"/><path d=\"M17.41 7.96l-1.37-1.37c-.4-.4-.92-.59-1.43-.59-.52 0-1.04.2-1.43.59L10.3 9.45l-7.72 7.72c-.78.78-.78 2.05 0 2.83L4 21.41c.39.39.9.59 1.41.59.51 0 1.02-.2 1.41-.59l7.78-7.78 2.81-2.81c.8-.78.8-2.07 0-2.86zM5.41 20L4 18.59l7.72-7.72 1.47 1.35L5.41 20z\"/>\n",
              "  </svg>\n",
              "      </button>\n",
              "      \n",
              "  <style>\n",
              "    .colab-df-container {\n",
              "      display:flex;\n",
              "      flex-wrap:wrap;\n",
              "      gap: 12px;\n",
              "    }\n",
              "\n",
              "    .colab-df-convert {\n",
              "      background-color: #E8F0FE;\n",
              "      border: none;\n",
              "      border-radius: 50%;\n",
              "      cursor: pointer;\n",
              "      display: none;\n",
              "      fill: #1967D2;\n",
              "      height: 32px;\n",
              "      padding: 0 0 0 0;\n",
              "      width: 32px;\n",
              "    }\n",
              "\n",
              "    .colab-df-convert:hover {\n",
              "      background-color: #E2EBFA;\n",
              "      box-shadow: 0px 1px 2px rgba(60, 64, 67, 0.3), 0px 1px 3px 1px rgba(60, 64, 67, 0.15);\n",
              "      fill: #174EA6;\n",
              "    }\n",
              "\n",
              "    [theme=dark] .colab-df-convert {\n",
              "      background-color: #3B4455;\n",
              "      fill: #D2E3FC;\n",
              "    }\n",
              "\n",
              "    [theme=dark] .colab-df-convert:hover {\n",
              "      background-color: #434B5C;\n",
              "      box-shadow: 0px 1px 3px 1px rgba(0, 0, 0, 0.15);\n",
              "      filter: drop-shadow(0px 1px 2px rgba(0, 0, 0, 0.3));\n",
              "      fill: #FFFFFF;\n",
              "    }\n",
              "  </style>\n",
              "\n",
              "      <script>\n",
              "        const buttonEl =\n",
              "          document.querySelector('#df-a73b1495-c6b0-4662-91de-5c182f712eac button.colab-df-convert');\n",
              "        buttonEl.style.display =\n",
              "          google.colab.kernel.accessAllowed ? 'block' : 'none';\n",
              "\n",
              "        async function convertToInteractive(key) {\n",
              "          const element = document.querySelector('#df-a73b1495-c6b0-4662-91de-5c182f712eac');\n",
              "          const dataTable =\n",
              "            await google.colab.kernel.invokeFunction('convertToInteractive',\n",
              "                                                     [key], {});\n",
              "          if (!dataTable) return;\n",
              "\n",
              "          const docLinkHtml = 'Like what you see? Visit the ' +\n",
              "            '<a target=\"_blank\" href=https://colab.research.google.com/notebooks/data_table.ipynb>data table notebook</a>'\n",
              "            + ' to learn more about interactive tables.';\n",
              "          element.innerHTML = '';\n",
              "          dataTable['output_type'] = 'display_data';\n",
              "          await google.colab.output.renderOutput(dataTable, element);\n",
              "          const docLink = document.createElement('div');\n",
              "          docLink.innerHTML = docLinkHtml;\n",
              "          element.appendChild(docLink);\n",
              "        }\n",
              "      </script>\n",
              "    </div>\n",
              "  </div>\n",
              "  "
            ],
            "text/plain": [
              "   placeID\n",
              "0   132001\n",
              "1   132002\n",
              "2   132003\n",
              "3   132004\n",
              "4   132005"
            ]
          },
          "execution_count": 73,
          "metadata": {},
          "output_type": "execute_result"
        }
      ],
      "source": [
        "#Applying groupby on placeID for removing duplicate restaurant ID's\n",
        "restaurant_df = pd.DataFrame({'placeID': restaurant_all})\n",
        "restaurant_df.head()"
      ]
    },
    {
      "cell_type": "markdown",
      "metadata": {
        "id": "9iweD2QSVjer"
      },
      "source": [
        "Left join on restaurant_df, using common place ID\n",
        "\n",
        "Here we will merge restaurant file with cuisine,parking and features columns on placeID to get all important features which will effect the result."
      ]
    },
    {
      "cell_type": "code",
      "execution_count": null,
      "metadata": {
        "colab": {
          "base_uri": "https://localhost:8080/",
          "height": 314
        },
        "id": "nsEhCaBt2d5c",
        "outputId": "69135167-8fad-4d73-c892-6c85e023644e"
      },
      "outputs": [
        {
          "data": {
            "text/html": [
              "\n",
              "  <div id=\"df-b2989539-a633-4d12-af7c-8a8f56f5a673\">\n",
              "    <div class=\"colab-df-container\">\n",
              "      <div>\n",
              "<style scoped>\n",
              "    .dataframe tbody tr th:only-of-type {\n",
              "        vertical-align: middle;\n",
              "    }\n",
              "\n",
              "    .dataframe tbody tr th {\n",
              "        vertical-align: top;\n",
              "    }\n",
              "\n",
              "    .dataframe thead th {\n",
              "        text-align: right;\n",
              "    }\n",
              "</style>\n",
              "<table border=\"1\" class=\"dataframe\">\n",
              "  <thead>\n",
              "    <tr style=\"text-align: right;\">\n",
              "      <th></th>\n",
              "      <th>placeID</th>\n",
              "      <th>Rcuisine_Afghan</th>\n",
              "      <th>Rcuisine_African</th>\n",
              "      <th>Rcuisine_American</th>\n",
              "      <th>Rcuisine_Armenian</th>\n",
              "      <th>Rcuisine_Asian</th>\n",
              "      <th>Rcuisine_Bagels</th>\n",
              "      <th>Rcuisine_Bakery</th>\n",
              "      <th>Rcuisine_Bar</th>\n",
              "      <th>Rcuisine_Bar_Pub_Brewery</th>\n",
              "      <th>...</th>\n",
              "      <th>parking_lot_validated parking</th>\n",
              "      <th>parking_lot_yes</th>\n",
              "      <th>alcohol</th>\n",
              "      <th>smoking_area</th>\n",
              "      <th>Rambience</th>\n",
              "      <th>other_services</th>\n",
              "      <th>price</th>\n",
              "      <th>dress_code</th>\n",
              "      <th>accessibility</th>\n",
              "      <th>area</th>\n",
              "    </tr>\n",
              "  </thead>\n",
              "  <tbody>\n",
              "    <tr>\n",
              "      <th>0</th>\n",
              "      <td>132001</td>\n",
              "      <td>0.0</td>\n",
              "      <td>0.0</td>\n",
              "      <td>0.0</td>\n",
              "      <td>0.0</td>\n",
              "      <td>0.0</td>\n",
              "      <td>0.0</td>\n",
              "      <td>0.0</td>\n",
              "      <td>0.0</td>\n",
              "      <td>0.0</td>\n",
              "      <td>...</td>\n",
              "      <td>NaN</td>\n",
              "      <td>NaN</td>\n",
              "      <td>NaN</td>\n",
              "      <td>NaN</td>\n",
              "      <td>NaN</td>\n",
              "      <td>NaN</td>\n",
              "      <td>NaN</td>\n",
              "      <td>NaN</td>\n",
              "      <td>NaN</td>\n",
              "      <td>NaN</td>\n",
              "    </tr>\n",
              "    <tr>\n",
              "      <th>1</th>\n",
              "      <td>132002</td>\n",
              "      <td>0.0</td>\n",
              "      <td>0.0</td>\n",
              "      <td>0.0</td>\n",
              "      <td>0.0</td>\n",
              "      <td>0.0</td>\n",
              "      <td>0.0</td>\n",
              "      <td>0.0</td>\n",
              "      <td>0.0</td>\n",
              "      <td>0.0</td>\n",
              "      <td>...</td>\n",
              "      <td>NaN</td>\n",
              "      <td>NaN</td>\n",
              "      <td>NaN</td>\n",
              "      <td>NaN</td>\n",
              "      <td>NaN</td>\n",
              "      <td>NaN</td>\n",
              "      <td>NaN</td>\n",
              "      <td>NaN</td>\n",
              "      <td>NaN</td>\n",
              "      <td>NaN</td>\n",
              "    </tr>\n",
              "    <tr>\n",
              "      <th>2</th>\n",
              "      <td>132003</td>\n",
              "      <td>0.0</td>\n",
              "      <td>0.0</td>\n",
              "      <td>0.0</td>\n",
              "      <td>0.0</td>\n",
              "      <td>0.0</td>\n",
              "      <td>0.0</td>\n",
              "      <td>0.0</td>\n",
              "      <td>0.0</td>\n",
              "      <td>0.0</td>\n",
              "      <td>...</td>\n",
              "      <td>NaN</td>\n",
              "      <td>NaN</td>\n",
              "      <td>NaN</td>\n",
              "      <td>NaN</td>\n",
              "      <td>NaN</td>\n",
              "      <td>NaN</td>\n",
              "      <td>NaN</td>\n",
              "      <td>NaN</td>\n",
              "      <td>NaN</td>\n",
              "      <td>NaN</td>\n",
              "    </tr>\n",
              "    <tr>\n",
              "      <th>3</th>\n",
              "      <td>132004</td>\n",
              "      <td>0.0</td>\n",
              "      <td>0.0</td>\n",
              "      <td>0.0</td>\n",
              "      <td>0.0</td>\n",
              "      <td>0.0</td>\n",
              "      <td>0.0</td>\n",
              "      <td>0.0</td>\n",
              "      <td>0.0</td>\n",
              "      <td>0.0</td>\n",
              "      <td>...</td>\n",
              "      <td>NaN</td>\n",
              "      <td>NaN</td>\n",
              "      <td>NaN</td>\n",
              "      <td>NaN</td>\n",
              "      <td>NaN</td>\n",
              "      <td>NaN</td>\n",
              "      <td>NaN</td>\n",
              "      <td>NaN</td>\n",
              "      <td>NaN</td>\n",
              "      <td>NaN</td>\n",
              "    </tr>\n",
              "    <tr>\n",
              "      <th>4</th>\n",
              "      <td>132005</td>\n",
              "      <td>0.0</td>\n",
              "      <td>0.0</td>\n",
              "      <td>0.0</td>\n",
              "      <td>0.0</td>\n",
              "      <td>0.0</td>\n",
              "      <td>0.0</td>\n",
              "      <td>0.0</td>\n",
              "      <td>0.0</td>\n",
              "      <td>0.0</td>\n",
              "      <td>...</td>\n",
              "      <td>NaN</td>\n",
              "      <td>NaN</td>\n",
              "      <td>NaN</td>\n",
              "      <td>NaN</td>\n",
              "      <td>NaN</td>\n",
              "      <td>NaN</td>\n",
              "      <td>NaN</td>\n",
              "      <td>NaN</td>\n",
              "      <td>NaN</td>\n",
              "      <td>NaN</td>\n",
              "    </tr>\n",
              "  </tbody>\n",
              "</table>\n",
              "<p>5 rows × 75 columns</p>\n",
              "</div>\n",
              "      <button class=\"colab-df-convert\" onclick=\"convertToInteractive('df-b2989539-a633-4d12-af7c-8a8f56f5a673')\"\n",
              "              title=\"Convert this dataframe to an interactive table.\"\n",
              "              style=\"display:none;\">\n",
              "        \n",
              "  <svg xmlns=\"http://www.w3.org/2000/svg\" height=\"24px\"viewBox=\"0 0 24 24\"\n",
              "       width=\"24px\">\n",
              "    <path d=\"M0 0h24v24H0V0z\" fill=\"none\"/>\n",
              "    <path d=\"M18.56 5.44l.94 2.06.94-2.06 2.06-.94-2.06-.94-.94-2.06-.94 2.06-2.06.94zm-11 1L8.5 8.5l.94-2.06 2.06-.94-2.06-.94L8.5 2.5l-.94 2.06-2.06.94zm10 10l.94 2.06.94-2.06 2.06-.94-2.06-.94-.94-2.06-.94 2.06-2.06.94z\"/><path d=\"M17.41 7.96l-1.37-1.37c-.4-.4-.92-.59-1.43-.59-.52 0-1.04.2-1.43.59L10.3 9.45l-7.72 7.72c-.78.78-.78 2.05 0 2.83L4 21.41c.39.39.9.59 1.41.59.51 0 1.02-.2 1.41-.59l7.78-7.78 2.81-2.81c.8-.78.8-2.07 0-2.86zM5.41 20L4 18.59l7.72-7.72 1.47 1.35L5.41 20z\"/>\n",
              "  </svg>\n",
              "      </button>\n",
              "      \n",
              "  <style>\n",
              "    .colab-df-container {\n",
              "      display:flex;\n",
              "      flex-wrap:wrap;\n",
              "      gap: 12px;\n",
              "    }\n",
              "\n",
              "    .colab-df-convert {\n",
              "      background-color: #E8F0FE;\n",
              "      border: none;\n",
              "      border-radius: 50%;\n",
              "      cursor: pointer;\n",
              "      display: none;\n",
              "      fill: #1967D2;\n",
              "      height: 32px;\n",
              "      padding: 0 0 0 0;\n",
              "      width: 32px;\n",
              "    }\n",
              "\n",
              "    .colab-df-convert:hover {\n",
              "      background-color: #E2EBFA;\n",
              "      box-shadow: 0px 1px 2px rgba(60, 64, 67, 0.3), 0px 1px 3px 1px rgba(60, 64, 67, 0.15);\n",
              "      fill: #174EA6;\n",
              "    }\n",
              "\n",
              "    [theme=dark] .colab-df-convert {\n",
              "      background-color: #3B4455;\n",
              "      fill: #D2E3FC;\n",
              "    }\n",
              "\n",
              "    [theme=dark] .colab-df-convert:hover {\n",
              "      background-color: #434B5C;\n",
              "      box-shadow: 0px 1px 3px 1px rgba(0, 0, 0, 0.15);\n",
              "      filter: drop-shadow(0px 1px 2px rgba(0, 0, 0, 0.3));\n",
              "      fill: #FFFFFF;\n",
              "    }\n",
              "  </style>\n",
              "\n",
              "      <script>\n",
              "        const buttonEl =\n",
              "          document.querySelector('#df-b2989539-a633-4d12-af7c-8a8f56f5a673 button.colab-df-convert');\n",
              "        buttonEl.style.display =\n",
              "          google.colab.kernel.accessAllowed ? 'block' : 'none';\n",
              "\n",
              "        async function convertToInteractive(key) {\n",
              "          const element = document.querySelector('#df-b2989539-a633-4d12-af7c-8a8f56f5a673');\n",
              "          const dataTable =\n",
              "            await google.colab.kernel.invokeFunction('convertToInteractive',\n",
              "                                                     [key], {});\n",
              "          if (!dataTable) return;\n",
              "\n",
              "          const docLinkHtml = 'Like what you see? Visit the ' +\n",
              "            '<a target=\"_blank\" href=https://colab.research.google.com/notebooks/data_table.ipynb>data table notebook</a>'\n",
              "            + ' to learn more about interactive tables.';\n",
              "          element.innerHTML = '';\n",
              "          dataTable['output_type'] = 'display_data';\n",
              "          await google.colab.output.renderOutput(dataTable, element);\n",
              "          const docLink = document.createElement('div');\n",
              "          docLink.innerHTML = docLinkHtml;\n",
              "          element.appendChild(docLink);\n",
              "        }\n",
              "      </script>\n",
              "    </div>\n",
              "  </div>\n",
              "  "
            ],
            "text/plain": [
              "   placeID  Rcuisine_Afghan  Rcuisine_African  Rcuisine_American  \\\n",
              "0   132001              0.0               0.0                0.0   \n",
              "1   132002              0.0               0.0                0.0   \n",
              "2   132003              0.0               0.0                0.0   \n",
              "3   132004              0.0               0.0                0.0   \n",
              "4   132005              0.0               0.0                0.0   \n",
              "\n",
              "   Rcuisine_Armenian  Rcuisine_Asian  Rcuisine_Bagels  Rcuisine_Bakery  \\\n",
              "0                0.0             0.0              0.0              0.0   \n",
              "1                0.0             0.0              0.0              0.0   \n",
              "2                0.0             0.0              0.0              0.0   \n",
              "3                0.0             0.0              0.0              0.0   \n",
              "4                0.0             0.0              0.0              0.0   \n",
              "\n",
              "   Rcuisine_Bar  Rcuisine_Bar_Pub_Brewery  ...  parking_lot_validated parking  \\\n",
              "0           0.0                       0.0  ...                            NaN   \n",
              "1           0.0                       0.0  ...                            NaN   \n",
              "2           0.0                       0.0  ...                            NaN   \n",
              "3           0.0                       0.0  ...                            NaN   \n",
              "4           0.0                       0.0  ...                            NaN   \n",
              "\n",
              "   parking_lot_yes  alcohol  smoking_area  Rambience  other_services  price  \\\n",
              "0              NaN      NaN           NaN        NaN             NaN    NaN   \n",
              "1              NaN      NaN           NaN        NaN             NaN    NaN   \n",
              "2              NaN      NaN           NaN        NaN             NaN    NaN   \n",
              "3              NaN      NaN           NaN        NaN             NaN    NaN   \n",
              "4              NaN      NaN           NaN        NaN             NaN    NaN   \n",
              "\n",
              "   dress_code  accessibility  area  \n",
              "0         NaN            NaN   NaN  \n",
              "1         NaN            NaN   NaN  \n",
              "2         NaN            NaN   NaN  \n",
              "3         NaN            NaN   NaN  \n",
              "4         NaN            NaN   NaN  \n",
              "\n",
              "[5 rows x 75 columns]"
            ]
          },
          "execution_count": 74,
          "metadata": {},
          "output_type": "execute_result"
        }
      ],
      "source": [
        "#Merge the restaurant_df according to cuisine,parking and features\n",
        "restaurant_df = pd.merge(left=restaurant_df, right=cuisine_res, how=\"left\", on=\"placeID\")\n",
        "restaurant_df = pd.merge(left=restaurant_df, right=parking_res, how=\"left\", on=\"placeID\")\n",
        "restaurant_df = pd.merge(left=restaurant_df, right=features_res, how=\"left\", on=\"placeID\")\n",
        "restaurant_df.head()"
      ]
    },
    {
      "cell_type": "code",
      "execution_count": null,
      "metadata": {
        "collapsed": true,
        "id": "yZL_d3Wr2d5c"
      },
      "outputs": [],
      "source": [
        "# Getting the placeID's for all 938 restaurant having rating\n",
        "rated_res = restaurant_all[np.sum(review_rate,axis=1) > 0]"
      ]
    },
    {
      "cell_type": "code",
      "execution_count": null,
      "metadata": {
        "colab": {
          "base_uri": "https://localhost:8080/"
        },
        "id": "RSoqowyi2d5c",
        "outputId": "53bbfcba-7ce1-49fb-f58e-1f17ee104d61"
      },
      "outputs": [
        {
          "data": {
            "text/plain": [
              "array([[0., 0., 0., ..., 0., 0., 0.],\n",
              "       [0., 0., 0., ..., 0., 0., 0.],\n",
              "       [0., 0., 0., ..., 0., 0., 0.],\n",
              "       ...,\n",
              "       [0., 1., 0., ..., 0., 0., 0.],\n",
              "       [0., 0., 0., ..., 0., 0., 0.],\n",
              "       [0., 0., 0., ..., 0., 0., 0.]])"
            ]
          },
          "execution_count": 76,
          "metadata": {},
          "output_type": "execute_result"
        }
      ],
      "source": [
        "# Check for restaurant has rating, 0 means No and 1 means Yes.\n",
        "Rate = review_rate.loc[rated_res].values\n",
        "Rate"
      ]
    },
    {
      "cell_type": "code",
      "execution_count": null,
      "metadata": {
        "collapsed": true,
        "id": "6VHZ2Jzm2d5d"
      },
      "outputs": [],
      "source": [
        "# Assigning combined,food and service rating of combined restaurant file\n",
        "combined_Y = combined_rating.loc[rated_res].values\n",
        "food_Y  = food_rating.loc[rated_res].values\n",
        "service_Y = service_rating.loc[rated_res].values"
      ]
    },
    {
      "cell_type": "code",
      "execution_count": null,
      "metadata": {
        "collapsed": true,
        "id": "WjJ2MVkT2d5d"
      },
      "outputs": [],
      "source": [
        "#Getting index value of restaurant_df having rating value\n",
        "index = [x in rated_res for x in restaurant_df['placeID'].values]"
      ]
    },
    {
      "cell_type": "code",
      "execution_count": null,
      "metadata": {
        "collapsed": true,
        "id": "nLGYyDWj2d5e"
      },
      "outputs": [],
      "source": [
        "# Features for all 938 restaurant having rating\n",
        "X_val = restaurant_df.loc[index, :].reset_index(drop=True)"
      ]
    },
    {
      "cell_type": "code",
      "execution_count": null,
      "metadata": {
        "colab": {
          "base_uri": "https://localhost:8080/"
        },
        "id": "vE0l4Q7V2d5e",
        "outputId": "d33e884c-7a5a-4f5d-da78-9368120ed429"
      },
      "outputs": [
        {
          "data": {
            "text/plain": [
              "placeID               0\n",
              "Rcuisine_Afghan      35\n",
              "Rcuisine_African     35\n",
              "Rcuisine_American    35\n",
              "Rcuisine_Armenian    35\n",
              "                     ..\n",
              "other_services        0\n",
              "price                 0\n",
              "dress_code            0\n",
              "accessibility         0\n",
              "area                  0\n",
              "Length: 75, dtype: int64"
            ]
          },
          "execution_count": 80,
          "metadata": {},
          "output_type": "execute_result"
        }
      ],
      "source": [
        "X_val.isnull().sum() # all the NANs are from cuisine"
      ]
    },
    {
      "cell_type": "code",
      "execution_count": null,
      "metadata": {
        "colab": {
          "base_uri": "https://localhost:8080/",
          "height": 314
        },
        "id": "1D2CbbyI2d5f",
        "outputId": "c809aadd-bb95-4a94-f361-f0e4df96da23"
      },
      "outputs": [
        {
          "data": {
            "text/html": [
              "\n",
              "  <div id=\"df-50a6fb57-dfaf-4038-b335-d1b577df8f20\">\n",
              "    <div class=\"colab-df-container\">\n",
              "      <div>\n",
              "<style scoped>\n",
              "    .dataframe tbody tr th:only-of-type {\n",
              "        vertical-align: middle;\n",
              "    }\n",
              "\n",
              "    .dataframe tbody tr th {\n",
              "        vertical-align: top;\n",
              "    }\n",
              "\n",
              "    .dataframe thead th {\n",
              "        text-align: right;\n",
              "    }\n",
              "</style>\n",
              "<table border=\"1\" class=\"dataframe\">\n",
              "  <thead>\n",
              "    <tr style=\"text-align: right;\">\n",
              "      <th></th>\n",
              "      <th>placeID</th>\n",
              "      <th>Rcuisine_Afghan</th>\n",
              "      <th>Rcuisine_African</th>\n",
              "      <th>Rcuisine_American</th>\n",
              "      <th>Rcuisine_Armenian</th>\n",
              "      <th>Rcuisine_Asian</th>\n",
              "      <th>Rcuisine_Bagels</th>\n",
              "      <th>Rcuisine_Bakery</th>\n",
              "      <th>Rcuisine_Bar</th>\n",
              "      <th>Rcuisine_Bar_Pub_Brewery</th>\n",
              "      <th>...</th>\n",
              "      <th>parking_lot_validated parking</th>\n",
              "      <th>parking_lot_yes</th>\n",
              "      <th>alcohol</th>\n",
              "      <th>smoking_area</th>\n",
              "      <th>Rambience</th>\n",
              "      <th>other_services</th>\n",
              "      <th>price</th>\n",
              "      <th>dress_code</th>\n",
              "      <th>accessibility</th>\n",
              "      <th>area</th>\n",
              "    </tr>\n",
              "  </thead>\n",
              "  <tbody>\n",
              "    <tr>\n",
              "      <th>0</th>\n",
              "      <td>132560</td>\n",
              "      <td>0.0</td>\n",
              "      <td>0.0</td>\n",
              "      <td>0.0</td>\n",
              "      <td>0.0</td>\n",
              "      <td>0.0</td>\n",
              "      <td>0.0</td>\n",
              "      <td>0.0</td>\n",
              "      <td>0.0</td>\n",
              "      <td>0.0</td>\n",
              "      <td>...</td>\n",
              "      <td>0.0</td>\n",
              "      <td>0.0</td>\n",
              "      <td>No_Alcohol_Served</td>\n",
              "      <td>permitted</td>\n",
              "      <td>familiar</td>\n",
              "      <td>none</td>\n",
              "      <td>low</td>\n",
              "      <td>informal</td>\n",
              "      <td>no_accessibility</td>\n",
              "      <td>open</td>\n",
              "    </tr>\n",
              "    <tr>\n",
              "      <th>1</th>\n",
              "      <td>132561</td>\n",
              "      <td>0.0</td>\n",
              "      <td>0.0</td>\n",
              "      <td>0.0</td>\n",
              "      <td>0.0</td>\n",
              "      <td>0.0</td>\n",
              "      <td>0.0</td>\n",
              "      <td>0.0</td>\n",
              "      <td>0.0</td>\n",
              "      <td>0.0</td>\n",
              "      <td>...</td>\n",
              "      <td>0.0</td>\n",
              "      <td>0.0</td>\n",
              "      <td>No_Alcohol_Served</td>\n",
              "      <td>none</td>\n",
              "      <td>familiar</td>\n",
              "      <td>none</td>\n",
              "      <td>low</td>\n",
              "      <td>informal</td>\n",
              "      <td>completely</td>\n",
              "      <td>closed</td>\n",
              "    </tr>\n",
              "    <tr>\n",
              "      <th>2</th>\n",
              "      <td>132564</td>\n",
              "      <td>0.0</td>\n",
              "      <td>0.0</td>\n",
              "      <td>0.0</td>\n",
              "      <td>0.0</td>\n",
              "      <td>0.0</td>\n",
              "      <td>0.0</td>\n",
              "      <td>0.0</td>\n",
              "      <td>0.0</td>\n",
              "      <td>0.0</td>\n",
              "      <td>...</td>\n",
              "      <td>0.0</td>\n",
              "      <td>0.0</td>\n",
              "      <td>No_Alcohol_Served</td>\n",
              "      <td>none</td>\n",
              "      <td>familiar</td>\n",
              "      <td>none</td>\n",
              "      <td>low</td>\n",
              "      <td>informal</td>\n",
              "      <td>completely</td>\n",
              "      <td>closed</td>\n",
              "    </tr>\n",
              "    <tr>\n",
              "      <th>3</th>\n",
              "      <td>132572</td>\n",
              "      <td>0.0</td>\n",
              "      <td>0.0</td>\n",
              "      <td>0.0</td>\n",
              "      <td>0.0</td>\n",
              "      <td>0.0</td>\n",
              "      <td>0.0</td>\n",
              "      <td>0.0</td>\n",
              "      <td>0.0</td>\n",
              "      <td>0.0</td>\n",
              "      <td>...</td>\n",
              "      <td>0.0</td>\n",
              "      <td>1.0</td>\n",
              "      <td>No_Alcohol_Served</td>\n",
              "      <td>not permitted</td>\n",
              "      <td>familiar</td>\n",
              "      <td>none</td>\n",
              "      <td>low</td>\n",
              "      <td>informal</td>\n",
              "      <td>completely</td>\n",
              "      <td>closed</td>\n",
              "    </tr>\n",
              "    <tr>\n",
              "      <th>4</th>\n",
              "      <td>132583</td>\n",
              "      <td>0.0</td>\n",
              "      <td>0.0</td>\n",
              "      <td>1.0</td>\n",
              "      <td>0.0</td>\n",
              "      <td>0.0</td>\n",
              "      <td>0.0</td>\n",
              "      <td>0.0</td>\n",
              "      <td>0.0</td>\n",
              "      <td>0.0</td>\n",
              "      <td>...</td>\n",
              "      <td>0.0</td>\n",
              "      <td>0.0</td>\n",
              "      <td>No_Alcohol_Served</td>\n",
              "      <td>not permitted</td>\n",
              "      <td>familiar</td>\n",
              "      <td>none</td>\n",
              "      <td>low</td>\n",
              "      <td>informal</td>\n",
              "      <td>partially</td>\n",
              "      <td>closed</td>\n",
              "    </tr>\n",
              "  </tbody>\n",
              "</table>\n",
              "<p>5 rows × 75 columns</p>\n",
              "</div>\n",
              "      <button class=\"colab-df-convert\" onclick=\"convertToInteractive('df-50a6fb57-dfaf-4038-b335-d1b577df8f20')\"\n",
              "              title=\"Convert this dataframe to an interactive table.\"\n",
              "              style=\"display:none;\">\n",
              "        \n",
              "  <svg xmlns=\"http://www.w3.org/2000/svg\" height=\"24px\"viewBox=\"0 0 24 24\"\n",
              "       width=\"24px\">\n",
              "    <path d=\"M0 0h24v24H0V0z\" fill=\"none\"/>\n",
              "    <path d=\"M18.56 5.44l.94 2.06.94-2.06 2.06-.94-2.06-.94-.94-2.06-.94 2.06-2.06.94zm-11 1L8.5 8.5l.94-2.06 2.06-.94-2.06-.94L8.5 2.5l-.94 2.06-2.06.94zm10 10l.94 2.06.94-2.06 2.06-.94-2.06-.94-.94-2.06-.94 2.06-2.06.94z\"/><path d=\"M17.41 7.96l-1.37-1.37c-.4-.4-.92-.59-1.43-.59-.52 0-1.04.2-1.43.59L10.3 9.45l-7.72 7.72c-.78.78-.78 2.05 0 2.83L4 21.41c.39.39.9.59 1.41.59.51 0 1.02-.2 1.41-.59l7.78-7.78 2.81-2.81c.8-.78.8-2.07 0-2.86zM5.41 20L4 18.59l7.72-7.72 1.47 1.35L5.41 20z\"/>\n",
              "  </svg>\n",
              "      </button>\n",
              "      \n",
              "  <style>\n",
              "    .colab-df-container {\n",
              "      display:flex;\n",
              "      flex-wrap:wrap;\n",
              "      gap: 12px;\n",
              "    }\n",
              "\n",
              "    .colab-df-convert {\n",
              "      background-color: #E8F0FE;\n",
              "      border: none;\n",
              "      border-radius: 50%;\n",
              "      cursor: pointer;\n",
              "      display: none;\n",
              "      fill: #1967D2;\n",
              "      height: 32px;\n",
              "      padding: 0 0 0 0;\n",
              "      width: 32px;\n",
              "    }\n",
              "\n",
              "    .colab-df-convert:hover {\n",
              "      background-color: #E2EBFA;\n",
              "      box-shadow: 0px 1px 2px rgba(60, 64, 67, 0.3), 0px 1px 3px 1px rgba(60, 64, 67, 0.15);\n",
              "      fill: #174EA6;\n",
              "    }\n",
              "\n",
              "    [theme=dark] .colab-df-convert {\n",
              "      background-color: #3B4455;\n",
              "      fill: #D2E3FC;\n",
              "    }\n",
              "\n",
              "    [theme=dark] .colab-df-convert:hover {\n",
              "      background-color: #434B5C;\n",
              "      box-shadow: 0px 1px 3px 1px rgba(0, 0, 0, 0.15);\n",
              "      filter: drop-shadow(0px 1px 2px rgba(0, 0, 0, 0.3));\n",
              "      fill: #FFFFFF;\n",
              "    }\n",
              "  </style>\n",
              "\n",
              "      <script>\n",
              "        const buttonEl =\n",
              "          document.querySelector('#df-50a6fb57-dfaf-4038-b335-d1b577df8f20 button.colab-df-convert');\n",
              "        buttonEl.style.display =\n",
              "          google.colab.kernel.accessAllowed ? 'block' : 'none';\n",
              "\n",
              "        async function convertToInteractive(key) {\n",
              "          const element = document.querySelector('#df-50a6fb57-dfaf-4038-b335-d1b577df8f20');\n",
              "          const dataTable =\n",
              "            await google.colab.kernel.invokeFunction('convertToInteractive',\n",
              "                                                     [key], {});\n",
              "          if (!dataTable) return;\n",
              "\n",
              "          const docLinkHtml = 'Like what you see? Visit the ' +\n",
              "            '<a target=\"_blank\" href=https://colab.research.google.com/notebooks/data_table.ipynb>data table notebook</a>'\n",
              "            + ' to learn more about interactive tables.';\n",
              "          element.innerHTML = '';\n",
              "          dataTable['output_type'] = 'display_data';\n",
              "          await google.colab.output.renderOutput(dataTable, element);\n",
              "          const docLink = document.createElement('div');\n",
              "          docLink.innerHTML = docLinkHtml;\n",
              "          element.appendChild(docLink);\n",
              "        }\n",
              "      </script>\n",
              "    </div>\n",
              "  </div>\n",
              "  "
            ],
            "text/plain": [
              "   placeID  Rcuisine_Afghan  Rcuisine_African  Rcuisine_American  \\\n",
              "0   132560              0.0               0.0                0.0   \n",
              "1   132561              0.0               0.0                0.0   \n",
              "2   132564              0.0               0.0                0.0   \n",
              "3   132572              0.0               0.0                0.0   \n",
              "4   132583              0.0               0.0                1.0   \n",
              "\n",
              "   Rcuisine_Armenian  Rcuisine_Asian  Rcuisine_Bagels  Rcuisine_Bakery  \\\n",
              "0                0.0             0.0              0.0              0.0   \n",
              "1                0.0             0.0              0.0              0.0   \n",
              "2                0.0             0.0              0.0              0.0   \n",
              "3                0.0             0.0              0.0              0.0   \n",
              "4                0.0             0.0              0.0              0.0   \n",
              "\n",
              "   Rcuisine_Bar  Rcuisine_Bar_Pub_Brewery  ...  parking_lot_validated parking  \\\n",
              "0           0.0                       0.0  ...                            0.0   \n",
              "1           0.0                       0.0  ...                            0.0   \n",
              "2           0.0                       0.0  ...                            0.0   \n",
              "3           0.0                       0.0  ...                            0.0   \n",
              "4           0.0                       0.0  ...                            0.0   \n",
              "\n",
              "   parking_lot_yes            alcohol   smoking_area  Rambience  \\\n",
              "0              0.0  No_Alcohol_Served      permitted   familiar   \n",
              "1              0.0  No_Alcohol_Served           none   familiar   \n",
              "2              0.0  No_Alcohol_Served           none   familiar   \n",
              "3              1.0  No_Alcohol_Served  not permitted   familiar   \n",
              "4              0.0  No_Alcohol_Served  not permitted   familiar   \n",
              "\n",
              "   other_services  price  dress_code     accessibility    area  \n",
              "0            none    low    informal  no_accessibility    open  \n",
              "1            none    low    informal        completely  closed  \n",
              "2            none    low    informal        completely  closed  \n",
              "3            none    low    informal        completely  closed  \n",
              "4            none    low    informal         partially  closed  \n",
              "\n",
              "[5 rows x 75 columns]"
            ]
          },
          "execution_count": 81,
          "metadata": {},
          "output_type": "execute_result"
        }
      ],
      "source": [
        "#Fill the na value with zero\n",
        "X_val.fillna(0).head()"
      ]
    },
    {
      "cell_type": "code",
      "execution_count": null,
      "metadata": {
        "colab": {
          "base_uri": "https://localhost:8080/",
          "height": 314
        },
        "id": "7N6VDXhr2d5f",
        "outputId": "bc30fcbf-6776-4922-9c9a-499b395229f1"
      },
      "outputs": [
        {
          "data": {
            "text/html": [
              "\n",
              "  <div id=\"df-57570d5d-0b4b-4f19-b7b4-ffe9f06c2ff2\">\n",
              "    <div class=\"colab-df-container\">\n",
              "      <div>\n",
              "<style scoped>\n",
              "    .dataframe tbody tr th:only-of-type {\n",
              "        vertical-align: middle;\n",
              "    }\n",
              "\n",
              "    .dataframe tbody tr th {\n",
              "        vertical-align: top;\n",
              "    }\n",
              "\n",
              "    .dataframe thead th {\n",
              "        text-align: right;\n",
              "    }\n",
              "</style>\n",
              "<table border=\"1\" class=\"dataframe\">\n",
              "  <thead>\n",
              "    <tr style=\"text-align: right;\">\n",
              "      <th></th>\n",
              "      <th>placeID</th>\n",
              "      <th>Rcuisine_American</th>\n",
              "      <th>Rcuisine_Armenian</th>\n",
              "      <th>Rcuisine_Bakery</th>\n",
              "      <th>Rcuisine_Bar</th>\n",
              "      <th>Rcuisine_Bar_Pub_Brewery</th>\n",
              "      <th>Rcuisine_Breakfast-Brunch</th>\n",
              "      <th>Rcuisine_Burgers</th>\n",
              "      <th>Rcuisine_Cafe-Coffee_Shop</th>\n",
              "      <th>Rcuisine_Cafeteria</th>\n",
              "      <th>...</th>\n",
              "      <th>parking_lot_valet parking</th>\n",
              "      <th>parking_lot_yes</th>\n",
              "      <th>alcohol</th>\n",
              "      <th>smoking_area</th>\n",
              "      <th>Rambience</th>\n",
              "      <th>other_services</th>\n",
              "      <th>price</th>\n",
              "      <th>dress_code</th>\n",
              "      <th>accessibility</th>\n",
              "      <th>area</th>\n",
              "    </tr>\n",
              "  </thead>\n",
              "  <tbody>\n",
              "    <tr>\n",
              "      <th>0</th>\n",
              "      <td>132560</td>\n",
              "      <td>0.0</td>\n",
              "      <td>0.0</td>\n",
              "      <td>0.0</td>\n",
              "      <td>0.0</td>\n",
              "      <td>0.0</td>\n",
              "      <td>0.0</td>\n",
              "      <td>0.0</td>\n",
              "      <td>0.0</td>\n",
              "      <td>0.0</td>\n",
              "      <td>...</td>\n",
              "      <td>0.0</td>\n",
              "      <td>0.0</td>\n",
              "      <td>No_Alcohol_Served</td>\n",
              "      <td>permitted</td>\n",
              "      <td>familiar</td>\n",
              "      <td>none</td>\n",
              "      <td>low</td>\n",
              "      <td>informal</td>\n",
              "      <td>no_accessibility</td>\n",
              "      <td>open</td>\n",
              "    </tr>\n",
              "    <tr>\n",
              "      <th>1</th>\n",
              "      <td>132561</td>\n",
              "      <td>NaN</td>\n",
              "      <td>NaN</td>\n",
              "      <td>NaN</td>\n",
              "      <td>NaN</td>\n",
              "      <td>NaN</td>\n",
              "      <td>NaN</td>\n",
              "      <td>NaN</td>\n",
              "      <td>NaN</td>\n",
              "      <td>NaN</td>\n",
              "      <td>...</td>\n",
              "      <td>0.0</td>\n",
              "      <td>0.0</td>\n",
              "      <td>No_Alcohol_Served</td>\n",
              "      <td>none</td>\n",
              "      <td>familiar</td>\n",
              "      <td>none</td>\n",
              "      <td>low</td>\n",
              "      <td>informal</td>\n",
              "      <td>completely</td>\n",
              "      <td>closed</td>\n",
              "    </tr>\n",
              "    <tr>\n",
              "      <th>2</th>\n",
              "      <td>132564</td>\n",
              "      <td>NaN</td>\n",
              "      <td>NaN</td>\n",
              "      <td>NaN</td>\n",
              "      <td>NaN</td>\n",
              "      <td>NaN</td>\n",
              "      <td>NaN</td>\n",
              "      <td>NaN</td>\n",
              "      <td>NaN</td>\n",
              "      <td>NaN</td>\n",
              "      <td>...</td>\n",
              "      <td>0.0</td>\n",
              "      <td>0.0</td>\n",
              "      <td>No_Alcohol_Served</td>\n",
              "      <td>none</td>\n",
              "      <td>familiar</td>\n",
              "      <td>none</td>\n",
              "      <td>low</td>\n",
              "      <td>informal</td>\n",
              "      <td>completely</td>\n",
              "      <td>closed</td>\n",
              "    </tr>\n",
              "    <tr>\n",
              "      <th>3</th>\n",
              "      <td>132572</td>\n",
              "      <td>0.0</td>\n",
              "      <td>0.0</td>\n",
              "      <td>0.0</td>\n",
              "      <td>0.0</td>\n",
              "      <td>0.0</td>\n",
              "      <td>0.0</td>\n",
              "      <td>0.0</td>\n",
              "      <td>0.0</td>\n",
              "      <td>1.0</td>\n",
              "      <td>...</td>\n",
              "      <td>0.0</td>\n",
              "      <td>1.0</td>\n",
              "      <td>No_Alcohol_Served</td>\n",
              "      <td>not permitted</td>\n",
              "      <td>familiar</td>\n",
              "      <td>none</td>\n",
              "      <td>low</td>\n",
              "      <td>informal</td>\n",
              "      <td>completely</td>\n",
              "      <td>closed</td>\n",
              "    </tr>\n",
              "    <tr>\n",
              "      <th>4</th>\n",
              "      <td>132583</td>\n",
              "      <td>1.0</td>\n",
              "      <td>0.0</td>\n",
              "      <td>0.0</td>\n",
              "      <td>0.0</td>\n",
              "      <td>0.0</td>\n",
              "      <td>0.0</td>\n",
              "      <td>0.0</td>\n",
              "      <td>0.0</td>\n",
              "      <td>0.0</td>\n",
              "      <td>...</td>\n",
              "      <td>0.0</td>\n",
              "      <td>0.0</td>\n",
              "      <td>No_Alcohol_Served</td>\n",
              "      <td>not permitted</td>\n",
              "      <td>familiar</td>\n",
              "      <td>none</td>\n",
              "      <td>low</td>\n",
              "      <td>informal</td>\n",
              "      <td>partially</td>\n",
              "      <td>closed</td>\n",
              "    </tr>\n",
              "  </tbody>\n",
              "</table>\n",
              "<p>5 rows × 36 columns</p>\n",
              "</div>\n",
              "      <button class=\"colab-df-convert\" onclick=\"convertToInteractive('df-57570d5d-0b4b-4f19-b7b4-ffe9f06c2ff2')\"\n",
              "              title=\"Convert this dataframe to an interactive table.\"\n",
              "              style=\"display:none;\">\n",
              "        \n",
              "  <svg xmlns=\"http://www.w3.org/2000/svg\" height=\"24px\"viewBox=\"0 0 24 24\"\n",
              "       width=\"24px\">\n",
              "    <path d=\"M0 0h24v24H0V0z\" fill=\"none\"/>\n",
              "    <path d=\"M18.56 5.44l.94 2.06.94-2.06 2.06-.94-2.06-.94-.94-2.06-.94 2.06-2.06.94zm-11 1L8.5 8.5l.94-2.06 2.06-.94-2.06-.94L8.5 2.5l-.94 2.06-2.06.94zm10 10l.94 2.06.94-2.06 2.06-.94-2.06-.94-.94-2.06-.94 2.06-2.06.94z\"/><path d=\"M17.41 7.96l-1.37-1.37c-.4-.4-.92-.59-1.43-.59-.52 0-1.04.2-1.43.59L10.3 9.45l-7.72 7.72c-.78.78-.78 2.05 0 2.83L4 21.41c.39.39.9.59 1.41.59.51 0 1.02-.2 1.41-.59l7.78-7.78 2.81-2.81c.8-.78.8-2.07 0-2.86zM5.41 20L4 18.59l7.72-7.72 1.47 1.35L5.41 20z\"/>\n",
              "  </svg>\n",
              "      </button>\n",
              "      \n",
              "  <style>\n",
              "    .colab-df-container {\n",
              "      display:flex;\n",
              "      flex-wrap:wrap;\n",
              "      gap: 12px;\n",
              "    }\n",
              "\n",
              "    .colab-df-convert {\n",
              "      background-color: #E8F0FE;\n",
              "      border: none;\n",
              "      border-radius: 50%;\n",
              "      cursor: pointer;\n",
              "      display: none;\n",
              "      fill: #1967D2;\n",
              "      height: 32px;\n",
              "      padding: 0 0 0 0;\n",
              "      width: 32px;\n",
              "    }\n",
              "\n",
              "    .colab-df-convert:hover {\n",
              "      background-color: #E2EBFA;\n",
              "      box-shadow: 0px 1px 2px rgba(60, 64, 67, 0.3), 0px 1px 3px 1px rgba(60, 64, 67, 0.15);\n",
              "      fill: #174EA6;\n",
              "    }\n",
              "\n",
              "    [theme=dark] .colab-df-convert {\n",
              "      background-color: #3B4455;\n",
              "      fill: #D2E3FC;\n",
              "    }\n",
              "\n",
              "    [theme=dark] .colab-df-convert:hover {\n",
              "      background-color: #434B5C;\n",
              "      box-shadow: 0px 1px 3px 1px rgba(0, 0, 0, 0.15);\n",
              "      filter: drop-shadow(0px 1px 2px rgba(0, 0, 0, 0.3));\n",
              "      fill: #FFFFFF;\n",
              "    }\n",
              "  </style>\n",
              "\n",
              "      <script>\n",
              "        const buttonEl =\n",
              "          document.querySelector('#df-57570d5d-0b4b-4f19-b7b4-ffe9f06c2ff2 button.colab-df-convert');\n",
              "        buttonEl.style.display =\n",
              "          google.colab.kernel.accessAllowed ? 'block' : 'none';\n",
              "\n",
              "        async function convertToInteractive(key) {\n",
              "          const element = document.querySelector('#df-57570d5d-0b4b-4f19-b7b4-ffe9f06c2ff2');\n",
              "          const dataTable =\n",
              "            await google.colab.kernel.invokeFunction('convertToInteractive',\n",
              "                                                     [key], {});\n",
              "          if (!dataTable) return;\n",
              "\n",
              "          const docLinkHtml = 'Like what you see? Visit the ' +\n",
              "            '<a target=\"_blank\" href=https://colab.research.google.com/notebooks/data_table.ipynb>data table notebook</a>'\n",
              "            + ' to learn more about interactive tables.';\n",
              "          element.innerHTML = '';\n",
              "          dataTable['output_type'] = 'display_data';\n",
              "          await google.colab.output.renderOutput(dataTable, element);\n",
              "          const docLink = document.createElement('div');\n",
              "          docLink.innerHTML = docLinkHtml;\n",
              "          element.appendChild(docLink);\n",
              "        }\n",
              "      </script>\n",
              "    </div>\n",
              "  </div>\n",
              "  "
            ],
            "text/plain": [
              "   placeID  Rcuisine_American  Rcuisine_Armenian  Rcuisine_Bakery  \\\n",
              "0   132560                0.0                0.0              0.0   \n",
              "1   132561                NaN                NaN              NaN   \n",
              "2   132564                NaN                NaN              NaN   \n",
              "3   132572                0.0                0.0              0.0   \n",
              "4   132583                1.0                0.0              0.0   \n",
              "\n",
              "   Rcuisine_Bar  Rcuisine_Bar_Pub_Brewery  Rcuisine_Breakfast-Brunch  \\\n",
              "0           0.0                       0.0                        0.0   \n",
              "1           NaN                       NaN                        NaN   \n",
              "2           NaN                       NaN                        NaN   \n",
              "3           0.0                       0.0                        0.0   \n",
              "4           0.0                       0.0                        0.0   \n",
              "\n",
              "   Rcuisine_Burgers  Rcuisine_Cafe-Coffee_Shop  Rcuisine_Cafeteria  ...  \\\n",
              "0               0.0                        0.0                 0.0  ...   \n",
              "1               NaN                        NaN                 NaN  ...   \n",
              "2               NaN                        NaN                 NaN  ...   \n",
              "3               0.0                        0.0                 1.0  ...   \n",
              "4               0.0                        0.0                 0.0  ...   \n",
              "\n",
              "   parking_lot_valet parking  parking_lot_yes            alcohol  \\\n",
              "0                        0.0              0.0  No_Alcohol_Served   \n",
              "1                        0.0              0.0  No_Alcohol_Served   \n",
              "2                        0.0              0.0  No_Alcohol_Served   \n",
              "3                        0.0              1.0  No_Alcohol_Served   \n",
              "4                        0.0              0.0  No_Alcohol_Served   \n",
              "\n",
              "    smoking_area  Rambience  other_services  price  dress_code  \\\n",
              "0      permitted   familiar            none    low    informal   \n",
              "1           none   familiar            none    low    informal   \n",
              "2           none   familiar            none    low    informal   \n",
              "3  not permitted   familiar            none    low    informal   \n",
              "4  not permitted   familiar            none    low    informal   \n",
              "\n",
              "      accessibility    area  \n",
              "0  no_accessibility    open  \n",
              "1        completely  closed  \n",
              "2        completely  closed  \n",
              "3        completely  closed  \n",
              "4         partially  closed  \n",
              "\n",
              "[5 rows x 36 columns]"
            ]
          },
          "execution_count": 82,
          "metadata": {},
          "output_type": "execute_result"
        }
      ],
      "source": [
        "# drop a feature if the entire column are 0\n",
        "features_to_drop = X_val.columns.values[np.sum(X_val,axis=0) == 0] \n",
        "X_val = X_val.drop(features_to_drop, axis=1)\n",
        "X_val.head()"
      ]
    },
    {
      "cell_type": "code",
      "execution_count": null,
      "metadata": {
        "colab": {
          "base_uri": "https://localhost:8080/"
        },
        "id": "AFI3WdCO2d5g",
        "outputId": "19db2518-aae5-4f7b-da27-7b4fe662d832"
      },
      "outputs": [
        {
          "data": {
            "text/plain": [
              "Index(['placeID', 'Rcuisine_American', 'Rcuisine_Armenian', 'Rcuisine_Bakery',\n",
              "       'Rcuisine_Bar', 'Rcuisine_Bar_Pub_Brewery', 'Rcuisine_Breakfast-Brunch',\n",
              "       'Rcuisine_Burgers', 'Rcuisine_Cafe-Coffee_Shop', 'Rcuisine_Cafeteria',\n",
              "       'Rcuisine_Chinese', 'Rcuisine_Contemporary', 'Rcuisine_Family',\n",
              "       'Rcuisine_Fast_Food', 'Rcuisine_Game', 'Rcuisine_International',\n",
              "       'Rcuisine_Italian', 'Rcuisine_Japanese', 'Rcuisine_Mediterranean',\n",
              "       'Rcuisine_Mexican', 'Rcuisine_Pizzeria', 'Rcuisine_Regional',\n",
              "       'Rcuisine_Seafood', 'Rcuisine_Vietnamese', 'parking_lot_none',\n",
              "       'parking_lot_public', 'parking_lot_valet parking', 'parking_lot_yes',\n",
              "       'alcohol', 'smoking_area', 'Rambience', 'other_services', 'price',\n",
              "       'dress_code', 'accessibility', 'area'],\n",
              "      dtype='object')"
            ]
          },
          "execution_count": 83,
          "metadata": {},
          "output_type": "execute_result"
        }
      ],
      "source": [
        "#Columns in X_val which contain placeID,cuisine,parking and some features from geo file.\n",
        "X_val.columns"
      ]
    },
    {
      "cell_type": "code",
      "execution_count": null,
      "metadata": {
        "collapsed": true,
        "id": "Ie5XHPQR2d5h"
      },
      "outputs": [],
      "source": [
        "# drop placeID for getting only important features which will effect the result\n",
        "X_val = X_val.drop(['placeID'], axis=1)"
      ]
    },
    {
      "cell_type": "code",
      "execution_count": null,
      "metadata": {
        "colab": {
          "base_uri": "https://localhost:8080/"
        },
        "id": "1YMISGFl2d5h",
        "outputId": "875ea34d-948a-48d9-e81d-817fe40de702"
      },
      "outputs": [
        {
          "data": {
            "text/plain": [
              "Rcuisine_American            float64\n",
              "Rcuisine_Armenian            float64\n",
              "Rcuisine_Bakery              float64\n",
              "Rcuisine_Bar                 float64\n",
              "Rcuisine_Bar_Pub_Brewery     float64\n",
              "Rcuisine_Breakfast-Brunch    float64\n",
              "Rcuisine_Burgers             float64\n",
              "Rcuisine_Cafe-Coffee_Shop    float64\n",
              "Rcuisine_Cafeteria           float64\n",
              "Rcuisine_Chinese             float64\n",
              "Rcuisine_Contemporary        float64\n",
              "Rcuisine_Family              float64\n",
              "Rcuisine_Fast_Food           float64\n",
              "Rcuisine_Game                float64\n",
              "Rcuisine_International       float64\n",
              "Rcuisine_Italian             float64\n",
              "Rcuisine_Japanese            float64\n",
              "Rcuisine_Mediterranean       float64\n",
              "Rcuisine_Mexican             float64\n",
              "Rcuisine_Pizzeria            float64\n",
              "Rcuisine_Regional            float64\n",
              "Rcuisine_Seafood             float64\n",
              "Rcuisine_Vietnamese          float64\n",
              "parking_lot_none             float64\n",
              "parking_lot_public           float64\n",
              "parking_lot_valet parking    float64\n",
              "parking_lot_yes              float64\n",
              "alcohol                       object\n",
              "smoking_area                  object\n",
              "Rambience                     object\n",
              "other_services                object\n",
              "price                         object\n",
              "dress_code                    object\n",
              "accessibility                 object\n",
              "area                          object\n",
              "dtype: object"
            ]
          },
          "execution_count": 85,
          "metadata": {},
          "output_type": "execute_result"
        }
      ],
      "source": [
        "X_val.dtypes"
      ]
    },
    {
      "cell_type": "code",
      "execution_count": null,
      "metadata": {
        "collapsed": true,
        "id": "PGpjVQ952d5h"
      },
      "outputs": [],
      "source": [
        "#Categorize the column of dataset which is object type \n",
        "for col in X_val.columns:\n",
        "    if X_val[col].dtype == object:\n",
        "        X_val[col] = X_val[col].astype('category')"
      ]
    },
    {
      "cell_type": "code",
      "execution_count": null,
      "metadata": {
        "colab": {
          "base_uri": "https://localhost:8080/"
        },
        "id": "-cfBd27X2d5i",
        "outputId": "fc3a32c1-5db0-4379-b4a8-849a14dac4a1"
      },
      "outputs": [
        {
          "name": "stdout",
          "output_type": "stream",
          "text": [
            "<class 'pandas.core.frame.DataFrame'>\n",
            "RangeIndex: 130 entries, 0 to 129\n",
            "Data columns (total 35 columns):\n",
            " #   Column                     Non-Null Count  Dtype   \n",
            "---  ------                     --------------  -----   \n",
            " 0   Rcuisine_American          95 non-null     float64 \n",
            " 1   Rcuisine_Armenian          95 non-null     float64 \n",
            " 2   Rcuisine_Bakery            95 non-null     float64 \n",
            " 3   Rcuisine_Bar               95 non-null     float64 \n",
            " 4   Rcuisine_Bar_Pub_Brewery   95 non-null     float64 \n",
            " 5   Rcuisine_Breakfast-Brunch  95 non-null     float64 \n",
            " 6   Rcuisine_Burgers           95 non-null     float64 \n",
            " 7   Rcuisine_Cafe-Coffee_Shop  95 non-null     float64 \n",
            " 8   Rcuisine_Cafeteria         95 non-null     float64 \n",
            " 9   Rcuisine_Chinese           95 non-null     float64 \n",
            " 10  Rcuisine_Contemporary      95 non-null     float64 \n",
            " 11  Rcuisine_Family            95 non-null     float64 \n",
            " 12  Rcuisine_Fast_Food         95 non-null     float64 \n",
            " 13  Rcuisine_Game              95 non-null     float64 \n",
            " 14  Rcuisine_International     95 non-null     float64 \n",
            " 15  Rcuisine_Italian           95 non-null     float64 \n",
            " 16  Rcuisine_Japanese          95 non-null     float64 \n",
            " 17  Rcuisine_Mediterranean     95 non-null     float64 \n",
            " 18  Rcuisine_Mexican           95 non-null     float64 \n",
            " 19  Rcuisine_Pizzeria          95 non-null     float64 \n",
            " 20  Rcuisine_Regional          95 non-null     float64 \n",
            " 21  Rcuisine_Seafood           95 non-null     float64 \n",
            " 22  Rcuisine_Vietnamese        95 non-null     float64 \n",
            " 23  parking_lot_none           130 non-null    float64 \n",
            " 24  parking_lot_public         130 non-null    float64 \n",
            " 25  parking_lot_valet parking  130 non-null    float64 \n",
            " 26  parking_lot_yes            130 non-null    float64 \n",
            " 27  alcohol                    130 non-null    category\n",
            " 28  smoking_area               130 non-null    category\n",
            " 29  Rambience                  130 non-null    category\n",
            " 30  other_services             130 non-null    category\n",
            " 31  price                      130 non-null    category\n",
            " 32  dress_code                 130 non-null    category\n",
            " 33  accessibility              130 non-null    category\n",
            " 34  area                       130 non-null    category\n",
            "dtypes: category(8), float64(27)\n",
            "memory usage: 29.7 KB\n"
          ]
        }
      ],
      "source": [
        "X_val.info()"
      ]
    },
    {
      "cell_type": "markdown",
      "metadata": {
        "id": "W3eDAos-2d5i"
      },
      "source": [
        "### Plotting the above features using plotly"
      ]
    },
    {
      "cell_type": "code",
      "execution_count": null,
      "metadata": {
        "colab": {
          "base_uri": "https://localhost:8080/",
          "height": 37
        },
        "id": "Vbk-jq-O2d5j",
        "outputId": "674d5804-c52a-4f1b-e99f-1941c9185628"
      },
      "outputs": [
        {
          "data": {
            "text/html": [
              "        <script type=\"text/javascript\">\n",
              "        window.PlotlyConfig = {MathJaxConfig: 'local'};\n",
              "        if (window.MathJax) {MathJax.Hub.Config({SVG: {font: \"STIX-Web\"}});}\n",
              "        if (typeof require !== 'undefined') {\n",
              "        require.undef(\"plotly\");\n",
              "        requirejs.config({\n",
              "            paths: {\n",
              "                'plotly': ['https://cdn.plot.ly/plotly-2.8.3.min']\n",
              "            }\n",
              "        });\n",
              "        require(['plotly'], function(Plotly) {\n",
              "            window._Plotly = Plotly;\n",
              "        });\n",
              "        }\n",
              "        </script>\n",
              "        "
            ]
          },
          "metadata": {},
          "output_type": "display_data"
        }
      ],
      "source": [
        "#importing the packeges\n",
        "from IPython.core.interactiveshell import InteractiveShell     #An enhanced, interactive shell for Python\n",
        "#‘all’, ‘last’, ‘last_expr’ or ‘none’, ‘last_expr_or_assign’\n",
        "#specifying which nodes should be run interactively \n",
        "InteractiveShell.ast_node_interactivity = \"all\"   #Options:\t'all','last','last_expr','none','last_expr_or_assign'\n",
        "\n",
        "import numpy as np # linear algebra\n",
        "import pandas as pd # data processing\n",
        "\n",
        "#Plotly Offline brings interactive Plotly graphs to the offline (local) environment\n",
        "import plotly.offline as py\n",
        "import plotly.figure_factory as ff\n",
        "import plotly.graph_objs as gobj\n",
        "from plotly.graph_objs import *\n",
        "py.init_notebook_mode(connected=True)  # initiate notebook for offline plot"
      ]
    },
    {
      "cell_type": "code",
      "execution_count": null,
      "metadata": {
        "collapsed": true,
        "id": "_SKlPxb12d5j"
      },
      "outputs": [],
      "source": [
        "#Method for plotting \n",
        "\n",
        "def plot_value_counts(col_name,table=False,bar=False):\n",
        "    \n",
        "    values_count = pd.DataFrame(X_val[col_name].value_counts())\n",
        "    values_count.columns = ['count']\n",
        "   \n",
        "    # Converting the index column into value count\n",
        "    values_count[col_name] = [ str(i) for i in values_count.index ]\n",
        "    \n",
        "    # add a column with the percentage of each data point to the sum of all data points\n",
        "    values_count['percent'] = values_count['count'].div(values_count['count'].sum()).multiply(100).round(2)\n",
        "    \n",
        "    # change the order of the columns.\n",
        "    values_count = values_count.reindex([col_name,'count','percent'],axis=1)\n",
        "    values_count.reset_index(drop=True,inplace=True)    \n",
        "    \n",
        "    if bar :\n",
        "        # add a font size for annotations0 which is relevant to the length of the data points.\n",
        "        font_size = 20 - (.25 * len(values_count[col_name]))\n",
        "        \n",
        "        trace0 = gobj.Bar( x = values_count[col_name], y = values_count['count'] )\n",
        "        data_ = gobj.Data( [trace0] )\n",
        "        \n",
        "        annotations0 = [ dict(x = xi,\n",
        "                             y = yi, \n",
        "                             showarrow=False,\n",
        "                             font={'size':font_size},\n",
        "                             text = \"{:,}\".format(yi),\n",
        "                             xanchor='center',\n",
        "                             yanchor='bottom' )\n",
        "                       for xi,yi,_ in values_count.values ]\n",
        "        \n",
        "        annotations1 = [ dict( x = xi,\n",
        "                              y = yi/2,\n",
        "                              showarrow = False,\n",
        "                              text = \"{}%\".format(pi),\n",
        "                              xanchor = 'center',\n",
        "                              yanchor = 'center',\n",
        "                              font = {'color':'yellow'})\n",
        "                         for xi,yi,pi in values_count.values if pi > 10 ]\n",
        "        \n",
        "        annotations = annotations0 + annotations1                       \n",
        "        \n",
        "        layout = gobj.Layout( title = col_name.replace('_',' ').capitalize(),\n",
        "                             titlefont = {'size': 50},\n",
        "                             yaxis = {'title':'count'},\n",
        "                             xaxis = {'type':'category'},\n",
        "                            annotations = annotations  )\n",
        "        figure = gobj.Figure( data = data_, layout = layout )\n",
        "        py.iplot(figure)\n",
        "    \n",
        "    if table : \n",
        "        values_count['count'] = values_count['count'].apply(lambda d : \"{:,}\".format(d))\n",
        "        table = ff.create_table(values_count,index_title=\"race\")      #Creating the table for race\n",
        "        py.iplot(table)\n",
        "    \n",
        "    return values_count"
      ]
    },
    {
      "cell_type": "markdown",
      "metadata": {
        "id": "PX7jzG072d5k"
      },
      "source": [
        "### Calculate the mean rating of restaurant"
      ]
    },
    {
      "cell_type": "code",
      "execution_count": null,
      "metadata": {
        "collapsed": true,
        "id": "Qw-RJmjz2d5k"
      },
      "outputs": [],
      "source": [
        "#Method to get mean value\n",
        "def calculate_Mean(col1,col2):\n",
        "    col1 = col1*col2\n",
        "    mean =  (np.sum(col1,axis=1)/np.sum((col2 == 1.0), axis=1)).reshape(col1.shape[0],1)\n",
        "    return mean"
      ]
    },
    {
      "cell_type": "code",
      "execution_count": null,
      "metadata": {
        "collapsed": true,
        "id": "vKe5diMF2d5k"
      },
      "outputs": [],
      "source": [
        "#Taking mean value of all kind of rating like combined rating, food rating, service rating\n",
        "combined_mean_Y = calculate_Mean(combined_Y,Rate)\n",
        "food_mean_Y = calculate_Mean(food_Y,Rate)\n",
        "service_mean_Y = calculate_Mean(service_Y,Rate)"
      ]
    },
    {
      "cell_type": "markdown",
      "metadata": {
        "id": "G4za9EHO2d5k"
      },
      "source": [
        "#### Plotting mean value of all rating by using matplotlib"
      ]
    },
    {
      "cell_type": "code",
      "execution_count": null,
      "metadata": {
        "collapsed": true,
        "id": "6peEvQ6R2d5l"
      },
      "outputs": [],
      "source": [
        "#Method to to print the ratings of different groups of restaurants based on different value\n",
        "\n",
        "def mean_rating_plotting(df,rotate=False):\n",
        "    \n",
        "    n = df.shape[1]\n",
        "    columns = df.columns.values\n",
        "    \n",
        "    if n > 1:\n",
        "        combined_y = [ combined_mean_Y[df[i] == 1].mean() for i in columns ]\n",
        "        food_y = [food_mean_Y[df[i] == 1].mean() for i in columns ]\n",
        "        service_y = [service_mean_Y[df[i] == 1].mean() for i in columns ] \n",
        "        y = pd.DataFrame({'combined':combined_y, 'food':food_y, 'service':service_y},\n",
        "                         columns=['combined','food','service'],index=columns) \n",
        "        ticks = columns\n",
        "        \n",
        "    else:\n",
        "        values = df[columns[0]].unique()\n",
        "        values = values[values != '?']\n",
        "        combined_y = [combined_mean_Y[df[columns[0]] == i].mean() for i in values ]\n",
        "        food_y = [food_mean_Y[df[columns[0]] == i].mean() for i in values ]\n",
        "        service_y = [service_mean_Y[df[columns[0]] == i].mean() for i in values ] \n",
        "        y = pd.DataFrame({'combined':combined_y, 'food':food_y, 'service':service_y},\n",
        "                         columns=['combined','food','service'],index=values) \n",
        "        ticks = values\n",
        "   \n",
        "    fig = plt.figure()\n",
        "    plt.plot(range(y.shape[0]),y['combined'],'-o',c='g',label='overall')\n",
        "    plt.plot(range(y.shape[0]),y['food'],'-o',c='r',label='food')   \n",
        "    plt.plot(range(y.shape[0]),y['service'],'-o',c='b',label='service')\n",
        "    plt.xticks(range(y.shape[0]),ticks,fontsize=13)\n",
        "    if rotate: plt.xticks(rotation=40)\n",
        "    plt.yticks(fontsize=13) \n",
        "    if n == 1: plt.xlabel(columns[0],fontsize=15)\n",
        "    plt.ylabel('mean rating',fontsize=15)\n",
        "    plt.legend(fontsize=15,frameon=False)\n",
        "    plt.show()\n",
        "    \n",
        "    print(y)"
      ]
    },
    {
      "cell_type": "code",
      "execution_count": null,
      "metadata": {
        "colab": {
          "base_uri": "https://localhost:8080/"
        },
        "id": "2pqHXc0d2d5l",
        "outputId": "f82a7b73-5087-4592-c4c2-317f94feed54"
      },
      "outputs": [
        {
          "data": {
            "text/plain": [
              "Index(['Rcuisine_American', 'Rcuisine_Armenian', 'Rcuisine_Bakery',\n",
              "       'Rcuisine_Bar', 'Rcuisine_Bar_Pub_Brewery', 'Rcuisine_Breakfast-Brunch',\n",
              "       'Rcuisine_Burgers', 'Rcuisine_Cafe-Coffee_Shop', 'Rcuisine_Cafeteria',\n",
              "       'Rcuisine_Chinese', 'Rcuisine_Contemporary', 'Rcuisine_Family',\n",
              "       'Rcuisine_Fast_Food', 'Rcuisine_Game', 'Rcuisine_International',\n",
              "       'Rcuisine_Italian', 'Rcuisine_Japanese', 'Rcuisine_Mediterranean',\n",
              "       'Rcuisine_Mexican', 'Rcuisine_Pizzeria', 'Rcuisine_Regional',\n",
              "       'Rcuisine_Seafood', 'Rcuisine_Vietnamese', 'parking_lot_none',\n",
              "       'parking_lot_public', 'parking_lot_valet parking', 'parking_lot_yes',\n",
              "       'alcohol', 'smoking_area', 'Rambience', 'other_services', 'price',\n",
              "       'dress_code', 'accessibility', 'area'],\n",
              "      dtype='object')"
            ]
          },
          "execution_count": 93,
          "metadata": {},
          "output_type": "execute_result"
        }
      ],
      "source": [
        "X_val.columns"
      ]
    },
    {
      "cell_type": "code",
      "execution_count": null,
      "metadata": {
        "collapsed": true,
        "id": "5n31AyJw2d5l"
      },
      "outputs": [],
      "source": [
        "features_col=['parking_lot_none',\n",
        "       'parking_lot_public', 'parking_lot_valet parking', 'parking_lot_yes',\n",
        "       'alcohol', 'smoking_area', 'Rambience', 'other_services', 'price',\n",
        "       'dress_code', 'accessibility', 'area']"
      ]
    },
    {
      "cell_type": "markdown",
      "metadata": {
        "id": "zG9XlAGK2d5m"
      },
      "source": [
        "#### Analysing some features_col by using matplotlib"
      ]
    },
    {
      "cell_type": "code",
      "execution_count": null,
      "metadata": {
        "colab": {
          "base_uri": "https://localhost:8080/"
        },
        "id": "DvQc-SYr2d5m",
        "outputId": "b9d1f200-0c7a-46f9-9836-a3ea8ef4c4e8"
      },
      "outputs": [
        {
          "data": {
            "text/plain": [
              "medium    60\n",
              "low       45\n",
              "high      25\n",
              "Name: price, dtype: int64"
            ]
          },
          "execution_count": 95,
          "metadata": {},
          "output_type": "execute_result"
        }
      ],
      "source": [
        "#Getting price detail\n",
        "X_val.price.value_counts()"
      ]
    },
    {
      "cell_type": "code",
      "execution_count": null,
      "metadata": {
        "colab": {
          "base_uri": "https://localhost:8080/"
        },
        "id": "P6m1PBA72d5m",
        "outputId": "74597578-cc8b-4c73-f57d-832393c18a2c"
      },
      "outputs": [
        {
          "data": {
            "text/plain": [
              "medium    91\n",
              "low       35\n",
              "?          7\n",
              "high       5\n",
              "Name: budget, dtype: int64"
            ]
          },
          "execution_count": 96,
          "metadata": {},
          "output_type": "execute_result"
        }
      ],
      "source": [
        "#Finding budget detail\n",
        "userprofile_df.budget.value_counts()"
      ]
    },
    {
      "cell_type": "code",
      "execution_count": null,
      "metadata": {
        "colab": {
          "base_uri": "https://localhost:8080/",
          "height": 122
        },
        "id": "MhZYXEei2d5m",
        "outputId": "a27219d3-fb60-4304-e4e0-5deb2d027673"
      },
      "outputs": [
        {
          "data": {
            "image/png": "[encoded data removed]",
            "text/plain": [
              "<Figure size 360x360 with 1 Axes>"
            ]
          },
          "metadata": {},
          "output_type": "display_data"
        },
        {
          "name": "stdout",
          "output_type": "stream",
          "text": [
            "        combined      food   service\n",
            "low     1.063059  1.135805  0.935632\n",
            "medium  1.234342  1.255871  1.161361\n",
            "high    1.258106  1.253816  1.174754\n"
          ]
        }
      ],
      "source": [
        "# plotting the mean rating as a function of price\n",
        "mean_rating_plotting(X_val[['price']])"
      ]
    },
    {
      "cell_type": "code",
      "execution_count": null,
      "metadata": {
        "colab": {
          "base_uri": "https://localhost:8080/"
        },
        "id": "65eQJVyO2d5m",
        "outputId": "2d67f64c-a3b0-4abe-bfa9-064dc4df9c06"
      },
      "outputs": [
        {
          "data": {
            "text/plain": [
              "parking_lot_none             65.0\n",
              "parking_lot_public           16.0\n",
              "parking_lot_valet parking     3.0\n",
              "parking_lot_yes              46.0\n",
              "dtype: float64"
            ]
          },
          "execution_count": 98,
          "metadata": {},
          "output_type": "execute_result"
        }
      ],
      "source": [
        "#Taking subset of features which is imoortant for parking \n",
        "columns = ['parking_lot_none','parking_lot_public', 'parking_lot_valet parking','parking_lot_yes']\n",
        "X_val[columns].sum()"
      ]
    },
    {
      "cell_type": "code",
      "execution_count": null,
      "metadata": {
        "colab": {
          "base_uri": "https://localhost:8080/"
        },
        "id": "tKieF-Bc2d5n",
        "outputId": "37654083-1966-4050-ca68-8ca88ea0932e"
      },
      "outputs": [
        {
          "data": {
            "text/plain": [
              "130.0"
            ]
          },
          "execution_count": 99,
          "metadata": {},
          "output_type": "execute_result"
        }
      ],
      "source": [
        "#Finding the tital sum of parking features\n",
        "X_val[columns].sum().sum()"
      ]
    },
    {
      "cell_type": "code",
      "execution_count": null,
      "metadata": {
        "colab": {
          "base_uri": "https://localhost:8080/",
          "height": 139
        },
        "id": "9dDaFGG62d5n",
        "outputId": "d9120293-3aeb-4ff6-8960-ac449c1121cd"
      },
      "outputs": [
        {
          "data": {
            "image/png": "[encoded data removed]",
            "text/plain": [
              "<Figure size 360x360 with 1 Axes>"
            ]
          },
          "metadata": {},
          "output_type": "display_data"
        },
        {
          "name": "stdout",
          "output_type": "stream",
          "text": [
            "                           combined      food   service\n",
            "parking_lot_none           1.170202  1.194014  1.097035\n",
            "parking_lot_public         1.101438  1.233839  0.977173\n",
            "parking_lot_valet parking  1.393519  1.324074  1.300926\n",
            "parking_lot_yes            1.206176  1.227920  1.093676\n"
          ]
        }
      ],
      "source": [
        "# finding mean rating of parking features\n",
        "mean_rating_plotting(X_val[columns], rotate=True)"
      ]
    },
    {
      "cell_type": "code",
      "execution_count": null,
      "metadata": {
        "colab": {
          "base_uri": "https://localhost:8080/"
        },
        "id": "eH4IiOZz2d5n",
        "outputId": "d5610997-a88f-43da-ea6d-8c4ea585affd"
      },
      "outputs": [
        {
          "data": {
            "text/plain": [
              "high      3\n",
              "low       0\n",
              "medium    0\n",
              "Name: price, dtype: int64"
            ]
          },
          "execution_count": 101,
          "metadata": {},
          "output_type": "execute_result"
        }
      ],
      "source": [
        "X_val.price[X_val['parking_lot_valet parking']==1].value_counts()"
      ]
    },
    {
      "cell_type": "code",
      "execution_count": null,
      "metadata": {
        "colab": {
          "base_uri": "https://localhost:8080/"
        },
        "id": "08CrZ5sY2d5o",
        "outputId": "ad152575-ff93-4d61-f7b5-d0e9510a7848"
      },
      "outputs": [
        {
          "data": {
            "text/plain": [
              "medium    8\n",
              "low       7\n",
              "high      1\n",
              "Name: price, dtype: int64"
            ]
          },
          "execution_count": 102,
          "metadata": {},
          "output_type": "execute_result"
        }
      ],
      "source": [
        "X_val.price[X_val['parking_lot_public']==1].value_counts()"
      ]
    },
    {
      "cell_type": "code",
      "execution_count": null,
      "metadata": {
        "colab": {
          "base_uri": "https://localhost:8080/"
        },
        "id": "MaTsdbhq2d5o",
        "outputId": "322bca21-0679-4f45-a639-88f571c8f0ae"
      },
      "outputs": [
        {
          "data": {
            "text/plain": [
              "low       31\n",
              "medium    29\n",
              "high       5\n",
              "Name: price, dtype: int64"
            ]
          },
          "execution_count": 103,
          "metadata": {},
          "output_type": "execute_result"
        }
      ],
      "source": [
        "X_val.price[X_val['parking_lot_none']==1].value_counts()"
      ]
    },
    {
      "cell_type": "code",
      "execution_count": null,
      "metadata": {
        "colab": {
          "base_uri": "https://localhost:8080/"
        },
        "id": "tuAbYIlO2d5o",
        "outputId": "bf0da220-61c5-402f-a1da-028f027aebd0"
      },
      "outputs": [
        {
          "data": {
            "text/plain": [
              "none             70\n",
              "not permitted    25\n",
              "section          24\n",
              "permitted         9\n",
              "only at bar       2\n",
              "Name: smoking_area, dtype: int64"
            ]
          },
          "execution_count": 104,
          "metadata": {},
          "output_type": "execute_result"
        }
      ],
      "source": [
        "X_val.smoking_area.value_counts()"
      ]
    },
    {
      "cell_type": "code",
      "execution_count": null,
      "metadata": {
        "colab": {
          "base_uri": "https://localhost:8080/"
        },
        "id": "7sFLYE_n2d5p",
        "outputId": "82c9de48-6aaa-4a5a-dd0c-079b10c7e56a"
      },
      "outputs": [
        {
          "data": {
            "text/plain": [
              "false    109\n",
              "true      26\n",
              "Name: smoker, dtype: int64"
            ]
          },
          "execution_count": 105,
          "metadata": {},
          "output_type": "execute_result"
        }
      ],
      "source": [
        "features_user.smoker.value_counts()"
      ]
    },
    {
      "cell_type": "code",
      "execution_count": null,
      "metadata": {
        "colab": {
          "base_uri": "https://localhost:8080/",
          "height": 156
        },
        "id": "ufLGv_b_2d5p",
        "outputId": "16dc90ee-d66a-4dab-cbfc-58d672f73f6d"
      },
      "outputs": [
        {
          "data": {
            "image/png": "[encoded data removed]",
            "text/plain": [
              "<Figure size 360x360 with 1 Axes>"
            ]
          },
          "metadata": {},
          "output_type": "display_data"
        },
        {
          "name": "stdout",
          "output_type": "stream",
          "text": [
            "               combined      food   service\n",
            "permitted      1.201852  1.331481  1.128704\n",
            "none           1.171497  1.208648  1.086371\n",
            "not permitted  1.071238  1.175244  0.986184\n",
            "section        1.291368  1.221073  1.147479\n",
            "only at bar    1.377778  1.266667  1.377778\n"
          ]
        }
      ],
      "source": [
        "# Mean rating of smoking area \n",
        "mean_rating_plotting(X_val[['smoking_area']])"
      ]
    },
    {
      "cell_type": "code",
      "execution_count": null,
      "metadata": {
        "colab": {
          "base_uri": "https://localhost:8080/"
        },
        "id": "tXcvjnGO2d5p",
        "outputId": "5eabdd33-c70d-4f39-ada5-ab655d64b408"
      },
      "outputs": [
        {
          "data": {
            "text/plain": [
              "No_Alcohol_Served    87\n",
              "Wine-Beer            34\n",
              "Full_Bar              9\n",
              "Name: alcohol, dtype: int64"
            ]
          },
          "execution_count": 107,
          "metadata": {},
          "output_type": "execute_result"
        }
      ],
      "source": [
        "X_val.alcohol.value_counts()"
      ]
    },
    {
      "cell_type": "code",
      "execution_count": null,
      "metadata": {
        "colab": {
          "base_uri": "https://localhost:8080/",
          "height": 122
        },
        "id": "P7_LOEgD2d5p",
        "outputId": "a6584d12-0ff2-48fd-95d7-7afec899b9bd"
      },
      "outputs": [
        {
          "data": {
            "image/png": "[encoded data removed]",
            "text/plain": [
              "<Figure size 360x360 with 1 Axes>"
            ]
          },
          "metadata": {},
          "output_type": "display_data"
        },
        {
          "name": "stdout",
          "output_type": "stream",
          "text": [
            "                   combined      food   service\n",
            "No_Alcohol_Served  1.148075  1.194730  1.042417\n",
            "Full_Bar           1.287124  1.218315  1.170311\n",
            "Wine-Beer          1.231887  1.261840  1.174437\n"
          ]
        }
      ],
      "source": [
        "# mean rating as a function of alcohol\n",
        "mean_rating_plotting(X_val[['alcohol']])"
      ]
    },
    {
      "cell_type": "code",
      "execution_count": null,
      "metadata": {
        "colab": {
          "base_uri": "https://localhost:8080/"
        },
        "id": "19ZxnhoS2d5q",
        "outputId": "3194d7b8-791b-46f9-bbc2-3c125b1e3b2f"
      },
      "outputs": [
        {
          "data": {
            "text/plain": [
              "medium    41\n",
              "low       39\n",
              "high       7\n",
              "Name: price, dtype: int64"
            ]
          },
          "execution_count": 109,
          "metadata": {},
          "output_type": "execute_result"
        }
      ],
      "source": [
        "X_val.price[X_val.alcohol == 'No_Alcohol_Served'].value_counts()"
      ]
    },
    {
      "cell_type": "code",
      "execution_count": null,
      "metadata": {
        "colab": {
          "base_uri": "https://localhost:8080/"
        },
        "id": "JOSHEiRH2d5q",
        "outputId": "a6640ac4-23bf-4f26-cad7-3222bc9d6a3d"
      },
      "outputs": [
        {
          "data": {
            "text/plain": [
              "medium    15\n",
              "high      14\n",
              "low        5\n",
              "Name: price, dtype: int64"
            ]
          },
          "execution_count": 110,
          "metadata": {},
          "output_type": "execute_result"
        }
      ],
      "source": [
        "X_val.price[X_val.alcohol == 'Wine-Beer'].value_counts()"
      ]
    },
    {
      "cell_type": "code",
      "execution_count": null,
      "metadata": {
        "colab": {
          "base_uri": "https://localhost:8080/"
        },
        "id": "O4ELqhrS2d5q",
        "outputId": "83397c24-4776-4059-f4c4-3d5aa7845547"
      },
      "outputs": [
        {
          "data": {
            "text/plain": [
              "high      4\n",
              "medium    4\n",
              "low       1\n",
              "Name: price, dtype: int64"
            ]
          },
          "execution_count": 111,
          "metadata": {},
          "output_type": "execute_result"
        }
      ],
      "source": [
        "X_val.price[X_val.alcohol == 'Full_Bar'].value_counts()"
      ]
    },
    {
      "cell_type": "code",
      "execution_count": null,
      "metadata": {
        "colab": {
          "base_uri": "https://localhost:8080/"
        },
        "id": "moAKPhxV2d5q",
        "outputId": "9e8ab067-d508-4dfd-a834-5a3d2f282354"
      },
      "outputs": [
        {
          "data": {
            "text/plain": [
              "none        119\n",
              "variety       7\n",
              "Internet      4\n",
              "Name: other_services, dtype: int64"
            ]
          },
          "execution_count": 112,
          "metadata": {},
          "output_type": "execute_result"
        }
      ],
      "source": [
        "X_val.other_services.value_counts()"
      ]
    },
    {
      "cell_type": "code",
      "execution_count": null,
      "metadata": {
        "colab": {
          "base_uri": "https://localhost:8080/",
          "height": 122
        },
        "id": "6mD6oLwa2d5r",
        "outputId": "2fe0c1ac-2bfc-417f-ce74-c61110ffd4ea"
      },
      "outputs": [
        {
          "data": {
            "image/png": "[encoded data removed]",
            "text/plain": [
              "<Figure size 360x360 with 1 Axes>"
            ]
          },
          "metadata": {},
          "output_type": "display_data"
        },
        {
          "name": "stdout",
          "output_type": "stream",
          "text": [
            "          combined      food   service\n",
            "none      1.156273  1.193252  1.067643\n",
            "variety   1.498639  1.520748  1.322449\n",
            "Internet  1.315972  1.291667  1.211806\n"
          ]
        }
      ],
      "source": [
        "# mean rating as a function of other_services\n",
        "mean_rating_plotting(X_val[['other_services']])"
      ]
    },
    {
      "cell_type": "code",
      "execution_count": null,
      "metadata": {
        "colab": {
          "base_uri": "https://localhost:8080/"
        },
        "id": "CtnbdNw22d5r",
        "outputId": "876d0de6-a739-42fb-da8c-18eab907be61"
      },
      "outputs": [
        {
          "data": {
            "text/plain": [
              "medium    4\n",
              "low       2\n",
              "high      1\n",
              "Name: price, dtype: int64"
            ]
          },
          "execution_count": 114,
          "metadata": {},
          "output_type": "execute_result"
        }
      ],
      "source": [
        "X_val.price[X_val.other_services == 'variety'].value_counts()"
      ]
    },
    {
      "cell_type": "code",
      "execution_count": null,
      "metadata": {
        "colab": {
          "base_uri": "https://localhost:8080/"
        },
        "id": "UWxE9Z_N2d5r",
        "outputId": "fb003ad2-b8af-403b-b559-fa66e0ea21b6"
      },
      "outputs": [
        {
          "data": {
            "text/plain": [
              "medium    53\n",
              "low       43\n",
              "high      23\n",
              "Name: price, dtype: int64"
            ]
          },
          "execution_count": 115,
          "metadata": {},
          "output_type": "execute_result"
        }
      ],
      "source": [
        "X_val.price[X_val.other_services == 'none'].value_counts()"
      ]
    },
    {
      "cell_type": "code",
      "execution_count": null,
      "metadata": {
        "colab": {
          "base_uri": "https://localhost:8080/"
        },
        "id": "xlvYJQDG2d5r",
        "outputId": "e7b766fc-0349-4c90-bee3-f53eb12601cb"
      },
      "outputs": [
        {
          "data": {
            "text/plain": [
              "informal    118\n",
              "casual       10\n",
              "formal        2\n",
              "Name: dress_code, dtype: int64"
            ]
          },
          "execution_count": 116,
          "metadata": {},
          "output_type": "execute_result"
        }
      ],
      "source": [
        "X_val.dress_code.value_counts()"
      ]
    },
    {
      "cell_type": "code",
      "execution_count": null,
      "metadata": {
        "colab": {
          "base_uri": "https://localhost:8080/",
          "height": 122
        },
        "id": "iYdkhXCB2d5r",
        "outputId": "bf70dc34-6a7c-410d-dcd5-c87cc77b9c1c"
      },
      "outputs": [
        {
          "data": {
            "image/png": "[encoded data removed]",
            "text/plain": [
              "<Figure size 360x360 with 1 Axes>"
            ]
          },
          "metadata": {},
          "output_type": "display_data"
        },
        {
          "name": "stdout",
          "output_type": "stream",
          "text": [
            "          combined      food   service\n",
            "informal  1.166441  1.200562  1.068978\n",
            "casual    1.187739  1.264256  1.118116\n",
            "formal    1.916667  1.750000  1.916667\n"
          ]
        }
      ],
      "source": [
        "# Mean rating of dress code function\n",
        "mean_rating_plotting(X_val[['dress_code']])"
      ]
    },
    {
      "cell_type": "code",
      "execution_count": null,
      "metadata": {
        "colab": {
          "base_uri": "https://localhost:8080/"
        },
        "id": "eDs8B2iU2d5s",
        "outputId": "f8e70703-5f7e-4463-90f0-bb87aaab4c1d"
      },
      "outputs": [
        {
          "data": {
            "text/plain": [
              "high      1\n",
              "medium    1\n",
              "low       0\n",
              "Name: price, dtype: int64"
            ]
          },
          "execution_count": 118,
          "metadata": {},
          "output_type": "execute_result"
        }
      ],
      "source": [
        "X_val.price[X_val.dress_code == 'formal'].value_counts()"
      ]
    },
    {
      "cell_type": "code",
      "execution_count": null,
      "metadata": {
        "colab": {
          "base_uri": "https://localhost:8080/"
        },
        "id": "yr7IaOyv2d5s",
        "outputId": "41869ac6-2441-441c-87f4-e738af76fa40"
      },
      "outputs": [
        {
          "data": {
            "text/plain": [
              "medium    57\n",
              "low       40\n",
              "high      21\n",
              "Name: price, dtype: int64"
            ]
          },
          "execution_count": 119,
          "metadata": {},
          "output_type": "execute_result"
        }
      ],
      "source": [
        "X_val.price[X_val.dress_code == 'informal'].value_counts()"
      ]
    },
    {
      "cell_type": "code",
      "execution_count": null,
      "metadata": {
        "colab": {
          "base_uri": "https://localhost:8080/"
        },
        "id": "KB8UDfRz2d5s",
        "outputId": "d11eb103-3dce-4eb2-a5f0-67678d50139c"
      },
      "outputs": [
        {
          "data": {
            "text/plain": [
              "low       5\n",
              "high      3\n",
              "medium    2\n",
              "Name: price, dtype: int64"
            ]
          },
          "execution_count": 120,
          "metadata": {},
          "output_type": "execute_result"
        }
      ],
      "source": [
        "X_val.price[X_val.dress_code == 'casual'].value_counts()"
      ]
    },
    {
      "cell_type": "code",
      "execution_count": null,
      "metadata": {
        "colab": {
          "base_uri": "https://localhost:8080/"
        },
        "id": "eGA8GyvQ2d5t",
        "outputId": "add7ba35-121a-46f6-fc42-11c95bef628d"
      },
      "outputs": [
        {
          "data": {
            "text/plain": [
              "no_accessibility    76\n",
              "completely          45\n",
              "partially            9\n",
              "Name: accessibility, dtype: int64"
            ]
          },
          "execution_count": 121,
          "metadata": {},
          "output_type": "execute_result"
        }
      ],
      "source": [
        "X_val.accessibility.value_counts()"
      ]
    },
    {
      "cell_type": "code",
      "execution_count": null,
      "metadata": {
        "colab": {
          "base_uri": "https://localhost:8080/",
          "height": 122
        },
        "id": "pFK0D2dj2d5u",
        "outputId": "a13d0fc8-a8e0-44f3-88ec-b505220e5cac"
      },
      "outputs": [
        {
          "data": {
            "image/png": "[encoded data removed]",
            "text/plain": [
              "<Figure size 360x360 with 1 Axes>"
            ]
          },
          "metadata": {},
          "output_type": "display_data"
        },
        {
          "name": "stdout",
          "output_type": "stream",
          "text": [
            "                  combined      food   service\n",
            "no_accessibility  1.196189  1.206242  1.091278\n",
            "completely        1.132494  1.203597  1.049709\n",
            "partially         1.275356  1.330294  1.219991\n"
          ]
        }
      ],
      "source": [
        "# mean rating as a function of dress accessibility\n",
        "mean_rating_plotting(X_val[['accessibility']])"
      ]
    },
    {
      "cell_type": "code",
      "execution_count": null,
      "metadata": {
        "colab": {
          "base_uri": "https://localhost:8080/"
        },
        "id": "27PRUTq92d5u",
        "outputId": "0963af4b-7c46-459c-d449-1dc7781a2c3d"
      },
      "outputs": [
        {
          "data": {
            "text/plain": [
              "medium    8\n",
              "low       1\n",
              "high      0\n",
              "Name: price, dtype: int64"
            ]
          },
          "execution_count": 123,
          "metadata": {},
          "output_type": "execute_result"
        }
      ],
      "source": [
        "X_val.price[X_val.accessibility == 'partially'].value_counts()"
      ]
    },
    {
      "cell_type": "code",
      "execution_count": null,
      "metadata": {
        "colab": {
          "base_uri": "https://localhost:8080/"
        },
        "id": "HRECHteY2d5v",
        "outputId": "877bf554-03cf-425a-c405-63343b7cb720"
      },
      "outputs": [
        {
          "data": {
            "text/plain": [
              "medium    39\n",
              "high      23\n",
              "low       14\n",
              "Name: price, dtype: int64"
            ]
          },
          "execution_count": 124,
          "metadata": {},
          "output_type": "execute_result"
        }
      ],
      "source": [
        "X_val.price[X_val.accessibility == 'no_accessibility'].value_counts()"
      ]
    },
    {
      "cell_type": "code",
      "execution_count": null,
      "metadata": {
        "colab": {
          "base_uri": "https://localhost:8080/"
        },
        "id": "UN8Y8umh2d5v",
        "outputId": "761ee5dc-fc82-4373-8c3d-55dfc594f39e"
      },
      "outputs": [
        {
          "data": {
            "text/plain": [
              "low       30\n",
              "medium    13\n",
              "high       2\n",
              "Name: price, dtype: int64"
            ]
          },
          "execution_count": 125,
          "metadata": {},
          "output_type": "execute_result"
        }
      ],
      "source": [
        "X_val.price[X_val.accessibility == 'completely'].value_counts()"
      ]
    },
    {
      "cell_type": "code",
      "execution_count": null,
      "metadata": {
        "colab": {
          "base_uri": "https://localhost:8080/"
        },
        "id": "pBcbP22g2d5w",
        "outputId": "a022661d-127c-4fed-eb47-b1870b12a318"
      },
      "outputs": [
        {
          "data": {
            "text/plain": [
              "closed    115\n",
              "open       15\n",
              "Name: area, dtype: int64"
            ]
          },
          "execution_count": 126,
          "metadata": {},
          "output_type": "execute_result"
        }
      ],
      "source": [
        "X_val.area.value_counts()"
      ]
    },
    {
      "cell_type": "code",
      "execution_count": null,
      "metadata": {
        "colab": {
          "base_uri": "https://localhost:8080/",
          "height": 105
        },
        "id": "8CSwQmOD2d5w",
        "outputId": "13506f6e-6ae0-4e4f-bc9e-05ee62453db2"
      },
      "outputs": [
        {
          "data": {
            "image/png": "[encoded data removed]",
            "text/plain": [
              "<Figure size 360x360 with 1 Axes>"
            ]
          },
          "metadata": {},
          "output_type": "display_data"
        },
        {
          "name": "stdout",
          "output_type": "stream",
          "text": [
            "        combined      food   service\n",
            "open    1.069992  1.231315  0.949101\n",
            "closed  1.193921  1.211645  1.103630\n"
          ]
        }
      ],
      "source": [
        "# mean rating as a function of area\n",
        "mean_rating_plotting(X_val[['area']])"
      ]
    },
    {
      "cell_type": "markdown",
      "metadata": {
        "id": "Rg7n0S3ZRQol"
      },
      "source": [
        "## K Nearest Neighbors"
      ]
    },
    {
      "cell_type": "markdown",
      "metadata": {
        "id": "6kJdu36mOIOl"
      },
      "source": [
        "![image.png](data:image/png;base64,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)"
      ]
    },
    {
      "cell_type": "markdown",
      "metadata": {
        "id": "JaVVAFE5Uqyj"
      },
      "source": [
        "The two approaches are mathematically quite similar, but there is a conceptual difference between the two. Here’s how the two compare:\n",
        "\n",
        "1. **User-based:** For a user U, with a set of similar users determined based on rating vectors consisting of given item ratings, the rating for an item I, which hasn’t been rated, is found by picking out N users from the similarity list who have rated the item I and calculating the rating based on these N ratings.\n",
        "\n",
        "2. **Item-based:** For an item I, with a set of similar items determined based on rating vectors consisting of received user ratings, the rating by a user U, who hasn’t rated it, is found by picking out N items from the similarity list that have been rated by U and calculating the rating based on these N ratings."
      ]
    },
    {
      "cell_type": "markdown",
      "metadata": {
        "id": "tH8Ssx78VOwo"
      },
      "source": [
        "We will be using User based collaborative filtering technique for listing top recommendations for any user."
      ]
    }
  ],
  "metadata": {
    "colab": {
      "collapsed_sections": [
        "NnBAwgLj2d5N",
        "k-di8MlD2d5P",
        "e_kqbT9k2d5R",
        "oaK513F32d5T",
        "-EvjBvuE2d5W",
        "piNCanFc2d5X",
        "W3eDAos-2d5i",
        "PX7jzG072d5k",
        "G4za9EHO2d5k",
        "zG9XlAGK2d5m",
        "xTQ5SK_e2d5x",
        "H3R2yZVL2d5y"
      ],
      "name": "FDS Final Project EDA.ipynb",
      "provenance": []
    },
    "kernelspec": {
      "display_name": "Python 3",
      "language": "python",
      "name": "python3"
    },
    "language_info": {
      "codemirror_mode": {
        "name": "ipython",
        "version": 3
      },
      "file_extension": ".py",
      "mimetype": "text/x-python",
      "name": "python",
      "nbconvert_exporter": "python",
      "pygments_lexer": "ipython3",
      "version": "3.6.3"
    }
  },
  "nbformat": 4,
  "nbformat_minor": 0
}